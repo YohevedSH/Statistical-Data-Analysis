{
 "cells": [
  {
   "cell_type": "markdown",
   "metadata": {},
   "source": [
    "# Project description\n"
   ]
  },
  {
   "cell_type": "markdown",
   "metadata": {},
   "source": [
    "You work as an analyst for the telecom operator Megaline. The company offers its clients two prepaid plans, Surf and Ultimate. The commercial department wants to know which of the plans brings in more revenue in order to adjust the advertising budget.\n",
    "You are going to carry out a preliminary analysis of the plans based on a relatively small client selection. You'll have the data on 500 Megaline clients: who the clients are, where they're from, which plan they use, and the number of calls they made and text messages they sent in 2018. Your job is to analyze clients' behavior and determine which prepaid plan brings in more revenue."
   ]
  },
  {
   "cell_type": "markdown",
   "metadata": {},
   "source": [
    "# Project stages"
   ]
  },
  {
   "cell_type": "markdown",
   "metadata": {},
   "source": [
    "  1. Open the data file and study the general information\n",
    "  2. Prepare the data\n",
    "  3. Analyze the data\n",
    "  4. Test the hypotheses\n",
    "  5. Write an overall conclusion"
   ]
  },
  {
   "cell_type": "markdown",
   "metadata": {},
   "source": [
    "# Description of the Data"
   ]
  },
  {
   "cell_type": "markdown",
   "metadata": {},
   "source": [
    "##### The users table (data on users):\n",
    "- user_id — unique user identifier\n",
    "- first_name — user's name\n",
    "- last_name — user's last name\n",
    "- age — user's age (years)\n",
    "- reg_date — subscription date (dd, mm, yy)\n",
    "- churn_date — the date the user stopped using the service (if the value is missing, the calling plan was being used when this     data was retrieved)\n",
    "- city — user's city of residence\n",
    "- plan — calling plan name\n",
    "##### The calls table (data on calls):\n",
    "- id — unique call identifier\n",
    "- call_date — call date\n",
    "- duration — call duration (in minutes)\n",
    "- user_id — the identifier of the user making the call\n",
    "##### The messages table (data on texts):\n",
    "- id — unique text message identifier\n",
    "- message_date — text message date\n",
    "- user_id — the identifier of the user sending the text\n",
    "##### The internet table (data on web sessions):\n",
    "- id — unique session identifier\n",
    "- mb_used — the volume of data spent during the session (in megabytes)\n",
    "- session_date — web session date\n",
    "- user_id — user identifier\n",
    "##### The plans table (data on the plans):\n",
    "- plan_name — calling plan name\n",
    "- usd_monthly_fee — monthly charge in US dollars\n",
    "- minutes_included — monthly minute allowance\n",
    "- messages_included — monthly text allowance\n",
    "- mb_per_month_included — data volume allowance (in megabytes)\n",
    "- usd_per_minute — price per minute after exceeding the package limits (e.g., if the package includes 100 minutes, the 101st       minute will be charged)\n",
    "- usd_per_message — price per text after exceeding the package limits\n",
    "- usd_per_gb — price per extra gigabyte of data after exceeding the package limits (1 GB = 1024 megabytes)"
   ]
  },
  {
   "cell_type": "markdown",
   "metadata": {},
   "source": [
    "# Step 1. Open the data file and study the general information"
   ]
  },
  {
   "cell_type": "code",
   "execution_count": 1,
   "metadata": {},
   "outputs": [],
   "source": [
    "#import all libraries\n",
    "import pandas as pd\n",
    "import numpy as np\n",
    "import matplotlib.pyplot as plt\n",
    "import seaborn as sns\n",
    "from scipy import stats as st"
   ]
  },
  {
   "cell_type": "code",
   "execution_count": 2,
   "metadata": {},
   "outputs": [],
   "source": [
    "try:\n",
    "    data_calls = pd.read_csv('/Users/yoheved/Desktop/Study/megaline_calls.csv')\n",
    "except:\n",
    "    data_calls = pd.read_csv('/datasets/megaline_calls.csv')\n",
    "    "
   ]
  },
  {
   "cell_type": "code",
   "execution_count": 3,
   "metadata": {},
   "outputs": [
    {
     "name": "stdout",
     "output_type": "stream",
     "text": [
      "<class 'pandas.core.frame.DataFrame'>\n",
      "RangeIndex: 137735 entries, 0 to 137734\n",
      "Data columns (total 4 columns):\n",
      "id           137735 non-null object\n",
      "user_id      137735 non-null int64\n",
      "call_date    137735 non-null object\n",
      "duration     137735 non-null float64\n",
      "dtypes: float64(1), int64(1), object(2)\n",
      "memory usage: 4.2+ MB\n"
     ]
    }
   ],
   "source": [
    "data_calls.info()"
   ]
  },
  {
   "cell_type": "code",
   "execution_count": 4,
   "metadata": {},
   "outputs": [
    {
     "data": {
      "text/html": [
       "<div>\n",
       "<style scoped>\n",
       "    .dataframe tbody tr th:only-of-type {\n",
       "        vertical-align: middle;\n",
       "    }\n",
       "\n",
       "    .dataframe tbody tr th {\n",
       "        vertical-align: top;\n",
       "    }\n",
       "\n",
       "    .dataframe thead th {\n",
       "        text-align: right;\n",
       "    }\n",
       "</style>\n",
       "<table border=\"1\" class=\"dataframe\">\n",
       "  <thead>\n",
       "    <tr style=\"text-align: right;\">\n",
       "      <th></th>\n",
       "      <th>id</th>\n",
       "      <th>user_id</th>\n",
       "      <th>call_date</th>\n",
       "      <th>duration</th>\n",
       "    </tr>\n",
       "  </thead>\n",
       "  <tbody>\n",
       "    <tr>\n",
       "      <td>5607</td>\n",
       "      <td>1027_150</td>\n",
       "      <td>1027</td>\n",
       "      <td>2018-12-02</td>\n",
       "      <td>14.02</td>\n",
       "    </tr>\n",
       "    <tr>\n",
       "      <td>87369</td>\n",
       "      <td>1320_1038</td>\n",
       "      <td>1320</td>\n",
       "      <td>2018-05-20</td>\n",
       "      <td>3.67</td>\n",
       "    </tr>\n",
       "    <tr>\n",
       "      <td>92883</td>\n",
       "      <td>1334_251</td>\n",
       "      <td>1334</td>\n",
       "      <td>2018-07-09</td>\n",
       "      <td>4.75</td>\n",
       "    </tr>\n",
       "    <tr>\n",
       "      <td>16673</td>\n",
       "      <td>1065_41</td>\n",
       "      <td>1065</td>\n",
       "      <td>2018-12-03</td>\n",
       "      <td>0.00</td>\n",
       "    </tr>\n",
       "    <tr>\n",
       "      <td>22544</td>\n",
       "      <td>1082_615</td>\n",
       "      <td>1082</td>\n",
       "      <td>2018-04-29</td>\n",
       "      <td>0.00</td>\n",
       "    </tr>\n",
       "    <tr>\n",
       "      <td>42901</td>\n",
       "      <td>1156_506</td>\n",
       "      <td>1156</td>\n",
       "      <td>2018-12-20</td>\n",
       "      <td>0.00</td>\n",
       "    </tr>\n",
       "    <tr>\n",
       "      <td>132990</td>\n",
       "      <td>1479_622</td>\n",
       "      <td>1479</td>\n",
       "      <td>2018-12-10</td>\n",
       "      <td>0.00</td>\n",
       "    </tr>\n",
       "    <tr>\n",
       "      <td>32894</td>\n",
       "      <td>1123_252</td>\n",
       "      <td>1123</td>\n",
       "      <td>2018-10-23</td>\n",
       "      <td>0.00</td>\n",
       "    </tr>\n",
       "    <tr>\n",
       "      <td>118650</td>\n",
       "      <td>1412_934</td>\n",
       "      <td>1412</td>\n",
       "      <td>2018-08-17</td>\n",
       "      <td>13.11</td>\n",
       "    </tr>\n",
       "    <tr>\n",
       "      <td>11386</td>\n",
       "      <td>1050_157</td>\n",
       "      <td>1050</td>\n",
       "      <td>2018-05-25</td>\n",
       "      <td>6.10</td>\n",
       "    </tr>\n",
       "    <tr>\n",
       "      <td>55174</td>\n",
       "      <td>1197_150</td>\n",
       "      <td>1197</td>\n",
       "      <td>2018-12-30</td>\n",
       "      <td>16.41</td>\n",
       "    </tr>\n",
       "    <tr>\n",
       "      <td>78718</td>\n",
       "      <td>1281_462</td>\n",
       "      <td>1281</td>\n",
       "      <td>2018-12-13</td>\n",
       "      <td>8.77</td>\n",
       "    </tr>\n",
       "    <tr>\n",
       "      <td>21886</td>\n",
       "      <td>1081_85</td>\n",
       "      <td>1081</td>\n",
       "      <td>2018-08-06</td>\n",
       "      <td>3.82</td>\n",
       "    </tr>\n",
       "    <tr>\n",
       "      <td>16579</td>\n",
       "      <td>1064_437</td>\n",
       "      <td>1064</td>\n",
       "      <td>2018-10-16</td>\n",
       "      <td>8.50</td>\n",
       "    </tr>\n",
       "    <tr>\n",
       "      <td>20617</td>\n",
       "      <td>1077_584</td>\n",
       "      <td>1077</td>\n",
       "      <td>2018-09-15</td>\n",
       "      <td>14.79</td>\n",
       "    </tr>\n",
       "  </tbody>\n",
       "</table>\n",
       "</div>"
      ],
      "text/plain": [
       "               id  user_id   call_date  duration\n",
       "5607     1027_150     1027  2018-12-02     14.02\n",
       "87369   1320_1038     1320  2018-05-20      3.67\n",
       "92883    1334_251     1334  2018-07-09      4.75\n",
       "16673     1065_41     1065  2018-12-03      0.00\n",
       "22544    1082_615     1082  2018-04-29      0.00\n",
       "42901    1156_506     1156  2018-12-20      0.00\n",
       "132990   1479_622     1479  2018-12-10      0.00\n",
       "32894    1123_252     1123  2018-10-23      0.00\n",
       "118650   1412_934     1412  2018-08-17     13.11\n",
       "11386    1050_157     1050  2018-05-25      6.10\n",
       "55174    1197_150     1197  2018-12-30     16.41\n",
       "78718    1281_462     1281  2018-12-13      8.77\n",
       "21886     1081_85     1081  2018-08-06      3.82\n",
       "16579    1064_437     1064  2018-10-16      8.50\n",
       "20617    1077_584     1077  2018-09-15     14.79"
      ]
     },
     "execution_count": 4,
     "metadata": {},
     "output_type": "execute_result"
    }
   ],
   "source": [
    "data_calls.sample(15)"
   ]
  },
  {
   "cell_type": "markdown",
   "metadata": {},
   "source": [
    "This dataset consists of 4 columns and 137735 rows. Data types are: object (2 columns), float64 (1 column) and int64 (1 column). From the first look I see that there are no missing values there, but also I see calls duration of 0 min, which could be missing calls, also it would be good to convert call_date to the datetime type in order to reduce memory using. One more strange thing I noticed is a duration of calls. Since duration in minutes it is weird to see such values as 5.98 and 6.68, I think need to round those values to minutes properly."
   ]
  },
  {
   "cell_type": "code",
   "execution_count": 5,
   "metadata": {},
   "outputs": [],
   "source": [
    "try:\n",
    "    data_int = pd.read_csv('/Users/yoheved/Desktop/Study/megaline_internet.csv')\n",
    "except:\n",
    "    data_int = pd.read_csv('/datasets/megaline_internet.csv')"
   ]
  },
  {
   "cell_type": "code",
   "execution_count": 6,
   "metadata": {},
   "outputs": [
    {
     "name": "stdout",
     "output_type": "stream",
     "text": [
      "<class 'pandas.core.frame.DataFrame'>\n",
      "RangeIndex: 104825 entries, 0 to 104824\n",
      "Data columns (total 4 columns):\n",
      "id              104825 non-null object\n",
      "user_id         104825 non-null int64\n",
      "session_date    104825 non-null object\n",
      "mb_used         104825 non-null float64\n",
      "dtypes: float64(1), int64(1), object(2)\n",
      "memory usage: 3.2+ MB\n"
     ]
    }
   ],
   "source": [
    "data_int.info()"
   ]
  },
  {
   "cell_type": "code",
   "execution_count": 7,
   "metadata": {},
   "outputs": [
    {
     "data": {
      "text/html": [
       "<div>\n",
       "<style scoped>\n",
       "    .dataframe tbody tr th:only-of-type {\n",
       "        vertical-align: middle;\n",
       "    }\n",
       "\n",
       "    .dataframe tbody tr th {\n",
       "        vertical-align: top;\n",
       "    }\n",
       "\n",
       "    .dataframe thead th {\n",
       "        text-align: right;\n",
       "    }\n",
       "</style>\n",
       "<table border=\"1\" class=\"dataframe\">\n",
       "  <thead>\n",
       "    <tr style=\"text-align: right;\">\n",
       "      <th></th>\n",
       "      <th>id</th>\n",
       "      <th>user_id</th>\n",
       "      <th>session_date</th>\n",
       "      <th>mb_used</th>\n",
       "    </tr>\n",
       "  </thead>\n",
       "  <tbody>\n",
       "    <tr>\n",
       "      <td>25737</td>\n",
       "      <td>1120_283</td>\n",
       "      <td>1120</td>\n",
       "      <td>2018-11-26</td>\n",
       "      <td>303.84</td>\n",
       "    </tr>\n",
       "    <tr>\n",
       "      <td>95923</td>\n",
       "      <td>1447_113</td>\n",
       "      <td>1447</td>\n",
       "      <td>2018-11-12</td>\n",
       "      <td>0.00</td>\n",
       "    </tr>\n",
       "    <tr>\n",
       "      <td>104554</td>\n",
       "      <td>1498_640</td>\n",
       "      <td>1498</td>\n",
       "      <td>2018-11-21</td>\n",
       "      <td>619.34</td>\n",
       "    </tr>\n",
       "    <tr>\n",
       "      <td>50588</td>\n",
       "      <td>1226_69</td>\n",
       "      <td>1226</td>\n",
       "      <td>2018-11-29</td>\n",
       "      <td>51.17</td>\n",
       "    </tr>\n",
       "    <tr>\n",
       "      <td>17597</td>\n",
       "      <td>1079_202</td>\n",
       "      <td>1079</td>\n",
       "      <td>2018-11-11</td>\n",
       "      <td>605.03</td>\n",
       "    </tr>\n",
       "    <tr>\n",
       "      <td>18845</td>\n",
       "      <td>1084_107</td>\n",
       "      <td>1084</td>\n",
       "      <td>2018-12-30</td>\n",
       "      <td>824.20</td>\n",
       "    </tr>\n",
       "    <tr>\n",
       "      <td>87144</td>\n",
       "      <td>1404_11</td>\n",
       "      <td>1404</td>\n",
       "      <td>2018-12-09</td>\n",
       "      <td>1231.60</td>\n",
       "    </tr>\n",
       "    <tr>\n",
       "      <td>103229</td>\n",
       "      <td>1494_111</td>\n",
       "      <td>1494</td>\n",
       "      <td>2018-11-05</td>\n",
       "      <td>726.64</td>\n",
       "    </tr>\n",
       "    <tr>\n",
       "      <td>31512</td>\n",
       "      <td>1144_237</td>\n",
       "      <td>1144</td>\n",
       "      <td>2018-05-31</td>\n",
       "      <td>129.99</td>\n",
       "    </tr>\n",
       "    <tr>\n",
       "      <td>23653</td>\n",
       "      <td>1109_231</td>\n",
       "      <td>1109</td>\n",
       "      <td>2018-07-22</td>\n",
       "      <td>416.03</td>\n",
       "    </tr>\n",
       "  </tbody>\n",
       "</table>\n",
       "</div>"
      ],
      "text/plain": [
       "              id  user_id session_date  mb_used\n",
       "25737   1120_283     1120   2018-11-26   303.84\n",
       "95923   1447_113     1447   2018-11-12     0.00\n",
       "104554  1498_640     1498   2018-11-21   619.34\n",
       "50588    1226_69     1226   2018-11-29    51.17\n",
       "17597   1079_202     1079   2018-11-11   605.03\n",
       "18845   1084_107     1084   2018-12-30   824.20\n",
       "87144    1404_11     1404   2018-12-09  1231.60\n",
       "103229  1494_111     1494   2018-11-05   726.64\n",
       "31512   1144_237     1144   2018-05-31   129.99\n",
       "23653   1109_231     1109   2018-07-22   416.03"
      ]
     },
     "execution_count": 7,
     "metadata": {},
     "output_type": "execute_result"
    }
   ],
   "source": [
    "data_int.sample(10)"
   ]
  },
  {
   "cell_type": "markdown",
   "metadata": {},
   "source": [
    "This dataset also consists of 4 columns and 104825 rows. The data types are: float64 (1 column), int64 (1 column) and object (2 columns). There are no missing values but again I see 0 values for traffic used. Maybe those clients don't use mobile internet because of religion or any other reasons.And again I think that need convert session_date column to the datetime type of data for reducing usage of memory."
   ]
  },
  {
   "cell_type": "code",
   "execution_count": 8,
   "metadata": {},
   "outputs": [],
   "source": [
    "try:\n",
    "    data_mes = pd.read_csv('/Users/yoheved/Desktop/Study/megaline_messages.csv')\n",
    "except:\n",
    "    data_mes = pd.read_csv('/datasets/megaline_messages.csv')"
   ]
  },
  {
   "cell_type": "code",
   "execution_count": 9,
   "metadata": {},
   "outputs": [
    {
     "name": "stdout",
     "output_type": "stream",
     "text": [
      "<class 'pandas.core.frame.DataFrame'>\n",
      "RangeIndex: 76051 entries, 0 to 76050\n",
      "Data columns (total 3 columns):\n",
      "id              76051 non-null object\n",
      "user_id         76051 non-null int64\n",
      "message_date    76051 non-null object\n",
      "dtypes: int64(1), object(2)\n",
      "memory usage: 1.7+ MB\n"
     ]
    }
   ],
   "source": [
    "data_mes.info()"
   ]
  },
  {
   "cell_type": "code",
   "execution_count": 10,
   "metadata": {},
   "outputs": [
    {
     "data": {
      "text/html": [
       "<div>\n",
       "<style scoped>\n",
       "    .dataframe tbody tr th:only-of-type {\n",
       "        vertical-align: middle;\n",
       "    }\n",
       "\n",
       "    .dataframe tbody tr th {\n",
       "        vertical-align: top;\n",
       "    }\n",
       "\n",
       "    .dataframe thead th {\n",
       "        text-align: right;\n",
       "    }\n",
       "</style>\n",
       "<table border=\"1\" class=\"dataframe\">\n",
       "  <thead>\n",
       "    <tr style=\"text-align: right;\">\n",
       "      <th></th>\n",
       "      <th>id</th>\n",
       "      <th>user_id</th>\n",
       "      <th>message_date</th>\n",
       "    </tr>\n",
       "  </thead>\n",
       "  <tbody>\n",
       "    <tr>\n",
       "      <td>17005</td>\n",
       "      <td>1113_64</td>\n",
       "      <td>1113</td>\n",
       "      <td>2018-11-10</td>\n",
       "    </tr>\n",
       "    <tr>\n",
       "      <td>69689</td>\n",
       "      <td>1454_51</td>\n",
       "      <td>1454</td>\n",
       "      <td>2018-07-29</td>\n",
       "    </tr>\n",
       "    <tr>\n",
       "      <td>64027</td>\n",
       "      <td>1408_152</td>\n",
       "      <td>1408</td>\n",
       "      <td>2018-03-16</td>\n",
       "    </tr>\n",
       "    <tr>\n",
       "      <td>167</td>\n",
       "      <td>1001_329</td>\n",
       "      <td>1001</td>\n",
       "      <td>2018-09-10</td>\n",
       "    </tr>\n",
       "    <tr>\n",
       "      <td>31732</td>\n",
       "      <td>1196_217</td>\n",
       "      <td>1196</td>\n",
       "      <td>2018-04-24</td>\n",
       "    </tr>\n",
       "    <tr>\n",
       "      <td>44729</td>\n",
       "      <td>1299_82</td>\n",
       "      <td>1299</td>\n",
       "      <td>2018-05-18</td>\n",
       "    </tr>\n",
       "    <tr>\n",
       "      <td>57806</td>\n",
       "      <td>1364_112</td>\n",
       "      <td>1364</td>\n",
       "      <td>2018-09-16</td>\n",
       "    </tr>\n",
       "    <tr>\n",
       "      <td>23850</td>\n",
       "      <td>1144_338</td>\n",
       "      <td>1144</td>\n",
       "      <td>2018-08-04</td>\n",
       "    </tr>\n",
       "    <tr>\n",
       "      <td>3333</td>\n",
       "      <td>1036_168</td>\n",
       "      <td>1036</td>\n",
       "      <td>2018-09-12</td>\n",
       "    </tr>\n",
       "    <tr>\n",
       "      <td>7032</td>\n",
       "      <td>1057_356</td>\n",
       "      <td>1057</td>\n",
       "      <td>2018-10-23</td>\n",
       "    </tr>\n",
       "  </tbody>\n",
       "</table>\n",
       "</div>"
      ],
      "text/plain": [
       "             id  user_id message_date\n",
       "17005   1113_64     1113   2018-11-10\n",
       "69689   1454_51     1454   2018-07-29\n",
       "64027  1408_152     1408   2018-03-16\n",
       "167    1001_329     1001   2018-09-10\n",
       "31732  1196_217     1196   2018-04-24\n",
       "44729   1299_82     1299   2018-05-18\n",
       "57806  1364_112     1364   2018-09-16\n",
       "23850  1144_338     1144   2018-08-04\n",
       "3333   1036_168     1036   2018-09-12\n",
       "7032   1057_356     1057   2018-10-23"
      ]
     },
     "execution_count": 10,
     "metadata": {},
     "output_type": "execute_result"
    }
   ],
   "source": [
    "data_mes.sample(10)"
   ]
  },
  {
   "cell_type": "markdown",
   "metadata": {},
   "source": [
    "This dataset consists of 3 columns and 76051 rows. The data types are: int64 (1 column) and object (2 columns). There are no missing values. And again need to convert session_date column to the datetime type of data for reducing usage of memory."
   ]
  },
  {
   "cell_type": "code",
   "execution_count": 11,
   "metadata": {},
   "outputs": [],
   "source": [
    "try:\n",
    "    data_pl = pd.read_csv('/Users/yoheved/Desktop/Study/megaline_plans.csv')\n",
    "except:\n",
    "    data_pl = pd.read_csv('/datasets/megaline_plans.csv')"
   ]
  },
  {
   "cell_type": "code",
   "execution_count": 12,
   "metadata": {},
   "outputs": [
    {
     "name": "stdout",
     "output_type": "stream",
     "text": [
      "<class 'pandas.core.frame.DataFrame'>\n",
      "RangeIndex: 2 entries, 0 to 1\n",
      "Data columns (total 8 columns):\n",
      "messages_included        2 non-null int64\n",
      "mb_per_month_included    2 non-null int64\n",
      "minutes_included         2 non-null int64\n",
      "usd_monthly_pay          2 non-null int64\n",
      "usd_per_gb               2 non-null int64\n",
      "usd_per_message          2 non-null float64\n",
      "usd_per_minute           2 non-null float64\n",
      "plan_name                2 non-null object\n",
      "dtypes: float64(2), int64(5), object(1)\n",
      "memory usage: 256.0+ bytes\n"
     ]
    }
   ],
   "source": [
    "data_pl.info()"
   ]
  },
  {
   "cell_type": "code",
   "execution_count": 13,
   "metadata": {},
   "outputs": [
    {
     "data": {
      "text/html": [
       "<div>\n",
       "<style scoped>\n",
       "    .dataframe tbody tr th:only-of-type {\n",
       "        vertical-align: middle;\n",
       "    }\n",
       "\n",
       "    .dataframe tbody tr th {\n",
       "        vertical-align: top;\n",
       "    }\n",
       "\n",
       "    .dataframe thead th {\n",
       "        text-align: right;\n",
       "    }\n",
       "</style>\n",
       "<table border=\"1\" class=\"dataframe\">\n",
       "  <thead>\n",
       "    <tr style=\"text-align: right;\">\n",
       "      <th></th>\n",
       "      <th>messages_included</th>\n",
       "      <th>mb_per_month_included</th>\n",
       "      <th>minutes_included</th>\n",
       "      <th>usd_monthly_pay</th>\n",
       "      <th>usd_per_gb</th>\n",
       "      <th>usd_per_message</th>\n",
       "      <th>usd_per_minute</th>\n",
       "      <th>plan_name</th>\n",
       "    </tr>\n",
       "  </thead>\n",
       "  <tbody>\n",
       "    <tr>\n",
       "      <td>0</td>\n",
       "      <td>50</td>\n",
       "      <td>15360</td>\n",
       "      <td>500</td>\n",
       "      <td>20</td>\n",
       "      <td>10</td>\n",
       "      <td>0.03</td>\n",
       "      <td>0.03</td>\n",
       "      <td>surf</td>\n",
       "    </tr>\n",
       "    <tr>\n",
       "      <td>1</td>\n",
       "      <td>1000</td>\n",
       "      <td>30720</td>\n",
       "      <td>3000</td>\n",
       "      <td>70</td>\n",
       "      <td>7</td>\n",
       "      <td>0.01</td>\n",
       "      <td>0.01</td>\n",
       "      <td>ultimate</td>\n",
       "    </tr>\n",
       "  </tbody>\n",
       "</table>\n",
       "</div>"
      ],
      "text/plain": [
       "   messages_included  mb_per_month_included  minutes_included  \\\n",
       "0                 50                  15360               500   \n",
       "1               1000                  30720              3000   \n",
       "\n",
       "   usd_monthly_pay  usd_per_gb  usd_per_message  usd_per_minute plan_name  \n",
       "0               20          10             0.03            0.03      surf  \n",
       "1               70           7             0.01            0.01  ultimate  "
      ]
     },
     "execution_count": 13,
     "metadata": {},
     "output_type": "execute_result"
    }
   ],
   "source": [
    "data_pl.head()"
   ]
  },
  {
   "cell_type": "markdown",
   "metadata": {},
   "source": [
    "Here we see a dataset with 5 columns and only 2 rows. Data types are float64 (2 columns), int64 (5 columns) and object (1 column). On the first look I wouldn't change anything here. There are no missing values and seems like all the types are they needed to be."
   ]
  },
  {
   "cell_type": "code",
   "execution_count": 14,
   "metadata": {},
   "outputs": [],
   "source": [
    "try:\n",
    "    data_us = pd.read_csv('/Users/yoheved/Desktop/Study/megaline_users.csv')\n",
    "except:\n",
    "    data_us = pd.read_csv('/datasets/megaline_users.csv')"
   ]
  },
  {
   "cell_type": "code",
   "execution_count": 15,
   "metadata": {},
   "outputs": [
    {
     "name": "stdout",
     "output_type": "stream",
     "text": [
      "<class 'pandas.core.frame.DataFrame'>\n",
      "RangeIndex: 500 entries, 0 to 499\n",
      "Data columns (total 8 columns):\n",
      "user_id       500 non-null int64\n",
      "first_name    500 non-null object\n",
      "last_name     500 non-null object\n",
      "age           500 non-null int64\n",
      "city          500 non-null object\n",
      "reg_date      500 non-null object\n",
      "plan          500 non-null object\n",
      "churn_date    34 non-null object\n",
      "dtypes: int64(2), object(6)\n",
      "memory usage: 31.4+ KB\n"
     ]
    }
   ],
   "source": [
    "data_us.info()"
   ]
  },
  {
   "cell_type": "code",
   "execution_count": 16,
   "metadata": {},
   "outputs": [
    {
     "data": {
      "text/html": [
       "<div>\n",
       "<style scoped>\n",
       "    .dataframe tbody tr th:only-of-type {\n",
       "        vertical-align: middle;\n",
       "    }\n",
       "\n",
       "    .dataframe tbody tr th {\n",
       "        vertical-align: top;\n",
       "    }\n",
       "\n",
       "    .dataframe thead th {\n",
       "        text-align: right;\n",
       "    }\n",
       "</style>\n",
       "<table border=\"1\" class=\"dataframe\">\n",
       "  <thead>\n",
       "    <tr style=\"text-align: right;\">\n",
       "      <th></th>\n",
       "      <th>user_id</th>\n",
       "      <th>first_name</th>\n",
       "      <th>last_name</th>\n",
       "      <th>age</th>\n",
       "      <th>city</th>\n",
       "      <th>reg_date</th>\n",
       "      <th>plan</th>\n",
       "      <th>churn_date</th>\n",
       "    </tr>\n",
       "  </thead>\n",
       "  <tbody>\n",
       "    <tr>\n",
       "      <td>313</td>\n",
       "      <td>1313</td>\n",
       "      <td>Antoine</td>\n",
       "      <td>Baker</td>\n",
       "      <td>49</td>\n",
       "      <td>San Francisco-Oakland-Berkeley, CA MSA</td>\n",
       "      <td>2018-05-24</td>\n",
       "      <td>surf</td>\n",
       "      <td>NaN</td>\n",
       "    </tr>\n",
       "    <tr>\n",
       "      <td>316</td>\n",
       "      <td>1316</td>\n",
       "      <td>Lucilla</td>\n",
       "      <td>Weeks</td>\n",
       "      <td>59</td>\n",
       "      <td>Tulsa, OK MSA</td>\n",
       "      <td>2018-05-21</td>\n",
       "      <td>surf</td>\n",
       "      <td>NaN</td>\n",
       "    </tr>\n",
       "    <tr>\n",
       "      <td>495</td>\n",
       "      <td>1495</td>\n",
       "      <td>Fidel</td>\n",
       "      <td>Sharpe</td>\n",
       "      <td>67</td>\n",
       "      <td>New York-Newark-Jersey City, NY-NJ-PA MSA</td>\n",
       "      <td>2018-09-04</td>\n",
       "      <td>surf</td>\n",
       "      <td>NaN</td>\n",
       "    </tr>\n",
       "    <tr>\n",
       "      <td>294</td>\n",
       "      <td>1294</td>\n",
       "      <td>Demetrius</td>\n",
       "      <td>Russo</td>\n",
       "      <td>67</td>\n",
       "      <td>New York-Newark-Jersey City, NY-NJ-PA MSA</td>\n",
       "      <td>2018-04-19</td>\n",
       "      <td>surf</td>\n",
       "      <td>NaN</td>\n",
       "    </tr>\n",
       "    <tr>\n",
       "      <td>36</td>\n",
       "      <td>1036</td>\n",
       "      <td>Myron</td>\n",
       "      <td>Hodge</td>\n",
       "      <td>70</td>\n",
       "      <td>Denver-Aurora-Lakewood, CO MSA</td>\n",
       "      <td>2018-05-09</td>\n",
       "      <td>ultimate</td>\n",
       "      <td>NaN</td>\n",
       "    </tr>\n",
       "    <tr>\n",
       "      <td>124</td>\n",
       "      <td>1124</td>\n",
       "      <td>Jenell</td>\n",
       "      <td>Navarro</td>\n",
       "      <td>48</td>\n",
       "      <td>New Haven-Milford, CT MSA</td>\n",
       "      <td>2018-02-19</td>\n",
       "      <td>ultimate</td>\n",
       "      <td>NaN</td>\n",
       "    </tr>\n",
       "    <tr>\n",
       "      <td>284</td>\n",
       "      <td>1284</td>\n",
       "      <td>Yuri</td>\n",
       "      <td>Odom</td>\n",
       "      <td>51</td>\n",
       "      <td>Dayton-Kettering, OH MSA</td>\n",
       "      <td>2018-09-07</td>\n",
       "      <td>surf</td>\n",
       "      <td>NaN</td>\n",
       "    </tr>\n",
       "    <tr>\n",
       "      <td>225</td>\n",
       "      <td>1225</td>\n",
       "      <td>Margarito</td>\n",
       "      <td>Barker</td>\n",
       "      <td>41</td>\n",
       "      <td>Columbia, SC MSA</td>\n",
       "      <td>2018-06-07</td>\n",
       "      <td>surf</td>\n",
       "      <td>NaN</td>\n",
       "    </tr>\n",
       "    <tr>\n",
       "      <td>420</td>\n",
       "      <td>1420</td>\n",
       "      <td>Season</td>\n",
       "      <td>Hardy</td>\n",
       "      <td>27</td>\n",
       "      <td>San Francisco-Oakland-Berkeley, CA MSA</td>\n",
       "      <td>2018-02-22</td>\n",
       "      <td>ultimate</td>\n",
       "      <td>NaN</td>\n",
       "    </tr>\n",
       "    <tr>\n",
       "      <td>443</td>\n",
       "      <td>1443</td>\n",
       "      <td>Genaro</td>\n",
       "      <td>Quinn</td>\n",
       "      <td>58</td>\n",
       "      <td>Atlanta-Sandy Springs-Roswell, GA MSA</td>\n",
       "      <td>2018-03-11</td>\n",
       "      <td>surf</td>\n",
       "      <td>NaN</td>\n",
       "    </tr>\n",
       "  </tbody>\n",
       "</table>\n",
       "</div>"
      ],
      "text/plain": [
       "     user_id first_name last_name  age  \\\n",
       "313     1313    Antoine     Baker   49   \n",
       "316     1316    Lucilla     Weeks   59   \n",
       "495     1495      Fidel    Sharpe   67   \n",
       "294     1294  Demetrius     Russo   67   \n",
       "36      1036      Myron     Hodge   70   \n",
       "124     1124     Jenell   Navarro   48   \n",
       "284     1284       Yuri      Odom   51   \n",
       "225     1225  Margarito    Barker   41   \n",
       "420     1420     Season     Hardy   27   \n",
       "443     1443     Genaro     Quinn   58   \n",
       "\n",
       "                                          city    reg_date      plan  \\\n",
       "313     San Francisco-Oakland-Berkeley, CA MSA  2018-05-24      surf   \n",
       "316                              Tulsa, OK MSA  2018-05-21      surf   \n",
       "495  New York-Newark-Jersey City, NY-NJ-PA MSA  2018-09-04      surf   \n",
       "294  New York-Newark-Jersey City, NY-NJ-PA MSA  2018-04-19      surf   \n",
       "36              Denver-Aurora-Lakewood, CO MSA  2018-05-09  ultimate   \n",
       "124                  New Haven-Milford, CT MSA  2018-02-19  ultimate   \n",
       "284                   Dayton-Kettering, OH MSA  2018-09-07      surf   \n",
       "225                           Columbia, SC MSA  2018-06-07      surf   \n",
       "420     San Francisco-Oakland-Berkeley, CA MSA  2018-02-22  ultimate   \n",
       "443      Atlanta-Sandy Springs-Roswell, GA MSA  2018-03-11      surf   \n",
       "\n",
       "    churn_date  \n",
       "313        NaN  \n",
       "316        NaN  \n",
       "495        NaN  \n",
       "294        NaN  \n",
       "36         NaN  \n",
       "124        NaN  \n",
       "284        NaN  \n",
       "225        NaN  \n",
       "420        NaN  \n",
       "443        NaN  "
      ]
     },
     "execution_count": 16,
     "metadata": {},
     "output_type": "execute_result"
    }
   ],
   "source": [
    "data_us.sample(10)"
   ]
  },
  {
   "cell_type": "code",
   "execution_count": 17,
   "metadata": {},
   "outputs": [
    {
     "data": {
      "text/plain": [
       "user_id        0.0\n",
       "first_name     0.0\n",
       "last_name      0.0\n",
       "age            0.0\n",
       "city           0.0\n",
       "reg_date       0.0\n",
       "plan           0.0\n",
       "churn_date    93.2\n",
       "dtype: float64"
      ]
     },
     "execution_count": 17,
     "metadata": {},
     "output_type": "execute_result"
    }
   ],
   "source": [
    "data_us.isna().sum() * 100 / len(data_us)"
   ]
  },
  {
   "cell_type": "markdown",
   "metadata": {},
   "source": [
    "And the last dataset I have consists of 8 columns and 500 rows. The types of data are int64 (2 columns) and object (6 columns). In the column churn_date there is 93% of missing values, but according to description there are users who continue using plans for the date the data was retrieved. So I think it might be reasonable to replace those values with the date 31-12-2018, since our data is information for 2018 year. Also I think need to check if we have an anomalies in the age column. And convert reg_date and churn_date columns to datetime type."
   ]
  },
  {
   "cell_type": "markdown",
   "metadata": {},
   "source": [
    "# Conclusion. \n",
    "We have a 5 datasets. Almost all of them are in good condition. Titles are good and seems like not corrupted too much. But few thing will be needed to do. First of all convert date columns to datetime type of data. Second thing is to check calls with 0 min duration and 0 mn traffic usage. Third, need to check the age of customers, if we don't have anomalies there. Forth, check if we need to replace missing values in churn_date column, or it is reasonable to leave it as it is. And last thing I see that all of datasets could be merged and connected one with other."
   ]
  },
  {
   "cell_type": "markdown",
   "metadata": {},
   "source": [
    "____\n",
    "____\n",
    "____"
   ]
  },
  {
   "cell_type": "markdown",
   "metadata": {},
   "source": [
    "# Step 2. Prepare the data"
   ]
  },
  {
   "cell_type": "markdown",
   "metadata": {},
   "source": [
    "## To do list:\n",
    "-  Convert the data to the necessary types\n",
    "-  Find and eliminate errors in the data\n",
    "Explain what errors you found and how you removed them. Note: many calls have a duration of 0.0 minutes. These might be missed calls. Whether or not to preprocess these values is up to you; assess how much their absence would affect the results of your analysis.\n",
    "For each user, find:\n",
    "-  The number of calls made and minutes used per month\n",
    "-  The number of text messages sent per month\n",
    "-  The volume of data per month\n",
    "-  The monthly revenue from each user (subtract the free package limit from the total number of calls, text messages, and data; multiply the result by the calling plan value; add the monthly charge depending on the calling plan)"
   ]
  },
  {
   "cell_type": "markdown",
   "metadata": {},
   "source": [
    "### Converting the data to the necessary types, finding and eliminating errors in the data."
   ]
  },
  {
   "cell_type": "code",
   "execution_count": 18,
   "metadata": {},
   "outputs": [],
   "source": [
    "data_calls['call_date'] = pd.to_datetime(data_calls['call_date'], format='%Y-%m-%d')"
   ]
  },
  {
   "cell_type": "code",
   "execution_count": 19,
   "metadata": {},
   "outputs": [
    {
     "name": "stdout",
     "output_type": "stream",
     "text": [
      "<class 'pandas.core.frame.DataFrame'>\n",
      "RangeIndex: 137735 entries, 0 to 137734\n",
      "Data columns (total 4 columns):\n",
      "id           137735 non-null object\n",
      "user_id      137735 non-null int64\n",
      "call_date    137735 non-null datetime64[ns]\n",
      "duration     137735 non-null float64\n",
      "dtypes: datetime64[ns](1), float64(1), int64(1), object(1)\n",
      "memory usage: 4.2+ MB\n"
     ]
    }
   ],
   "source": [
    "data_calls.info()"
   ]
  },
  {
   "cell_type": "code",
   "execution_count": 20,
   "metadata": {},
   "outputs": [],
   "source": [
    "data_int['session_date'] = pd.to_datetime(data_int['session_date'], format='%Y-%m-%d')"
   ]
  },
  {
   "cell_type": "code",
   "execution_count": 21,
   "metadata": {},
   "outputs": [
    {
     "name": "stdout",
     "output_type": "stream",
     "text": [
      "<class 'pandas.core.frame.DataFrame'>\n",
      "RangeIndex: 104825 entries, 0 to 104824\n",
      "Data columns (total 4 columns):\n",
      "id              104825 non-null object\n",
      "user_id         104825 non-null int64\n",
      "session_date    104825 non-null datetime64[ns]\n",
      "mb_used         104825 non-null float64\n",
      "dtypes: datetime64[ns](1), float64(1), int64(1), object(1)\n",
      "memory usage: 3.2+ MB\n"
     ]
    }
   ],
   "source": [
    "data_int.info()"
   ]
  },
  {
   "cell_type": "code",
   "execution_count": 22,
   "metadata": {},
   "outputs": [],
   "source": [
    "data_mes['message_date'] = pd.to_datetime(data_mes['message_date'], format='%Y-%m-%d')"
   ]
  },
  {
   "cell_type": "code",
   "execution_count": 23,
   "metadata": {},
   "outputs": [
    {
     "name": "stdout",
     "output_type": "stream",
     "text": [
      "<class 'pandas.core.frame.DataFrame'>\n",
      "RangeIndex: 76051 entries, 0 to 76050\n",
      "Data columns (total 3 columns):\n",
      "id              76051 non-null object\n",
      "user_id         76051 non-null int64\n",
      "message_date    76051 non-null datetime64[ns]\n",
      "dtypes: datetime64[ns](1), int64(1), object(1)\n",
      "memory usage: 1.7+ MB\n"
     ]
    }
   ],
   "source": [
    "data_mes.info()"
   ]
  },
  {
   "cell_type": "code",
   "execution_count": 24,
   "metadata": {},
   "outputs": [],
   "source": [
    "data_us['reg_date'] = pd.to_datetime(data_us['reg_date'], format='%Y-%m-%d')"
   ]
  },
  {
   "cell_type": "code",
   "execution_count": 25,
   "metadata": {},
   "outputs": [],
   "source": [
    "data_us['churn_date'] = pd.to_datetime(data_us['churn_date'], format='%Y-%m-%d')"
   ]
  },
  {
   "cell_type": "code",
   "execution_count": 26,
   "metadata": {},
   "outputs": [
    {
     "name": "stdout",
     "output_type": "stream",
     "text": [
      "<class 'pandas.core.frame.DataFrame'>\n",
      "RangeIndex: 500 entries, 0 to 499\n",
      "Data columns (total 8 columns):\n",
      "user_id       500 non-null int64\n",
      "first_name    500 non-null object\n",
      "last_name     500 non-null object\n",
      "age           500 non-null int64\n",
      "city          500 non-null object\n",
      "reg_date      500 non-null datetime64[ns]\n",
      "plan          500 non-null object\n",
      "churn_date    34 non-null datetime64[ns]\n",
      "dtypes: datetime64[ns](2), int64(2), object(4)\n",
      "memory usage: 31.4+ KB\n"
     ]
    }
   ],
   "source": [
    "data_us.info()"
   ]
  },
  {
   "cell_type": "code",
   "execution_count": 27,
   "metadata": {},
   "outputs": [
    {
     "data": {
      "text/plain": [
       "0.00     26834\n",
       "8.37       102\n",
       "4.02       102\n",
       "3.91       101\n",
       "7.61       100\n",
       "         ...  \n",
       "25.53        1\n",
       "29.34        1\n",
       "26.05        1\n",
       "36.24        1\n",
       "27.16        1\n",
       "Name: duration, Length: 2802, dtype: int64"
      ]
     },
     "execution_count": 27,
     "metadata": {},
     "output_type": "execute_result"
    }
   ],
   "source": [
    "data_calls['duration'].value_counts()"
   ]
  },
  {
   "cell_type": "code",
   "execution_count": 28,
   "metadata": {},
   "outputs": [
    {
     "data": {
      "text/plain": [
       "19.482339274694162"
      ]
     },
     "execution_count": 28,
     "metadata": {},
     "output_type": "execute_result"
    }
   ],
   "source": [
    "len(data_calls[data_calls['duration']==0])/len(data_calls)*100"
   ]
  },
  {
   "cell_type": "markdown",
   "metadata": {},
   "source": [
    "That's a pretty much of calls with 0 min duration. I wouldn't replace them with any other value, because it may affect the next calculations. Those might be a missing calls, or calls for 1-2 seconds, or it might be an error occured upon retrieving information. I would ask engineers to check this information deeper."
   ]
  },
  {
   "cell_type": "code",
   "execution_count": 29,
   "metadata": {},
   "outputs": [
    {
     "data": {
      "text/plain": [
       "0.00      13747\n",
       "414.46        8\n",
       "435.77        8\n",
       "417.46        7\n",
       "313.79        7\n",
       "          ...  \n",
       "638.12        1\n",
       "217.39        1\n",
       "683.90        1\n",
       "243.97        1\n",
       "563.11        1\n",
       "Name: mb_used, Length: 57624, dtype: int64"
      ]
     },
     "execution_count": 29,
     "metadata": {},
     "output_type": "execute_result"
    }
   ],
   "source": [
    "data_int['mb_used'].value_counts()"
   ]
  },
  {
   "cell_type": "code",
   "execution_count": 30,
   "metadata": {},
   "outputs": [
    {
     "data": {
      "text/plain": [
       "13.11423801574052"
      ]
     },
     "execution_count": 30,
     "metadata": {},
     "output_type": "execute_result"
    }
   ],
   "source": [
    "len(data_int[data_int['mb_used']==0])/len(data_int)*100"
   ]
  },
  {
   "cell_type": "markdown",
   "metadata": {},
   "source": [
    "The same situation with traffic used. A pretty much zero values. It can be because of religion reason (in some religions internet are forbidden), it may be because, for example, if some percentage of users are disable persons and they don't go out and use home WiFi, or it might be an error in retrieving of data, so I wouldn't change or replace those values."
   ]
  },
  {
   "cell_type": "code",
   "execution_count": 31,
   "metadata": {},
   "outputs": [
    {
     "data": {
      "text/plain": [
       "count    500.000000\n",
       "mean      45.486000\n",
       "std       16.972269\n",
       "min       18.000000\n",
       "25%       30.000000\n",
       "50%       46.000000\n",
       "75%       61.000000\n",
       "max       75.000000\n",
       "Name: age, dtype: float64"
      ]
     },
     "execution_count": 31,
     "metadata": {},
     "output_type": "execute_result"
    }
   ],
   "source": [
    "data_us['age'].describe()"
   ]
  },
  {
   "cell_type": "markdown",
   "metadata": {},
   "source": [
    "As we see there are no anomalies in age column, all data looks reasonable."
   ]
  },
  {
   "cell_type": "markdown",
   "metadata": {},
   "source": [
    "### Finding the number of calls made and minutes used per month"
   ]
  },
  {
   "cell_type": "code",
   "execution_count": 32,
   "metadata": {},
   "outputs": [
    {
     "data": {
      "text/html": [
       "<div>\n",
       "<style scoped>\n",
       "    .dataframe tbody tr th:only-of-type {\n",
       "        vertical-align: middle;\n",
       "    }\n",
       "\n",
       "    .dataframe tbody tr th {\n",
       "        vertical-align: top;\n",
       "    }\n",
       "\n",
       "    .dataframe thead th {\n",
       "        text-align: right;\n",
       "    }\n",
       "</style>\n",
       "<table border=\"1\" class=\"dataframe\">\n",
       "  <thead>\n",
       "    <tr style=\"text-align: right;\">\n",
       "      <th></th>\n",
       "      <th>id</th>\n",
       "      <th>user_id</th>\n",
       "      <th>call_date</th>\n",
       "      <th>duration</th>\n",
       "      <th>month</th>\n",
       "    </tr>\n",
       "  </thead>\n",
       "  <tbody>\n",
       "    <tr>\n",
       "      <td>0</td>\n",
       "      <td>1000_93</td>\n",
       "      <td>1000</td>\n",
       "      <td>2018-12-27</td>\n",
       "      <td>8.52</td>\n",
       "      <td>12</td>\n",
       "    </tr>\n",
       "    <tr>\n",
       "      <td>1</td>\n",
       "      <td>1000_145</td>\n",
       "      <td>1000</td>\n",
       "      <td>2018-12-27</td>\n",
       "      <td>13.66</td>\n",
       "      <td>12</td>\n",
       "    </tr>\n",
       "    <tr>\n",
       "      <td>2</td>\n",
       "      <td>1000_247</td>\n",
       "      <td>1000</td>\n",
       "      <td>2018-12-27</td>\n",
       "      <td>14.48</td>\n",
       "      <td>12</td>\n",
       "    </tr>\n",
       "    <tr>\n",
       "      <td>3</td>\n",
       "      <td>1000_309</td>\n",
       "      <td>1000</td>\n",
       "      <td>2018-12-28</td>\n",
       "      <td>5.76</td>\n",
       "      <td>12</td>\n",
       "    </tr>\n",
       "    <tr>\n",
       "      <td>4</td>\n",
       "      <td>1000_380</td>\n",
       "      <td>1000</td>\n",
       "      <td>2018-12-30</td>\n",
       "      <td>4.22</td>\n",
       "      <td>12</td>\n",
       "    </tr>\n",
       "  </tbody>\n",
       "</table>\n",
       "</div>"
      ],
      "text/plain": [
       "         id  user_id  call_date  duration  month\n",
       "0   1000_93     1000 2018-12-27      8.52     12\n",
       "1  1000_145     1000 2018-12-27     13.66     12\n",
       "2  1000_247     1000 2018-12-27     14.48     12\n",
       "3  1000_309     1000 2018-12-28      5.76     12\n",
       "4  1000_380     1000 2018-12-30      4.22     12"
      ]
     },
     "execution_count": 32,
     "metadata": {},
     "output_type": "execute_result"
    }
   ],
   "source": [
    "data_calls['month'] = data_calls['call_date'].dt.month\n",
    "data_calls.head()"
   ]
  },
  {
   "cell_type": "code",
   "execution_count": 33,
   "metadata": {},
   "outputs": [
    {
     "data": {
      "text/html": [
       "<div>\n",
       "<style scoped>\n",
       "    .dataframe tbody tr th:only-of-type {\n",
       "        vertical-align: middle;\n",
       "    }\n",
       "\n",
       "    .dataframe tbody tr th {\n",
       "        vertical-align: top;\n",
       "    }\n",
       "\n",
       "    .dataframe thead th {\n",
       "        text-align: right;\n",
       "    }\n",
       "</style>\n",
       "<table border=\"1\" class=\"dataframe\">\n",
       "  <thead>\n",
       "    <tr style=\"text-align: right;\">\n",
       "      <th></th>\n",
       "      <th>id</th>\n",
       "      <th>user_id</th>\n",
       "      <th>call_date</th>\n",
       "      <th>duration</th>\n",
       "      <th>month</th>\n",
       "      <th>duration_ceil</th>\n",
       "    </tr>\n",
       "  </thead>\n",
       "  <tbody>\n",
       "    <tr>\n",
       "      <td>0</td>\n",
       "      <td>1000_93</td>\n",
       "      <td>1000</td>\n",
       "      <td>2018-12-27</td>\n",
       "      <td>8.52</td>\n",
       "      <td>12</td>\n",
       "      <td>9.0</td>\n",
       "    </tr>\n",
       "    <tr>\n",
       "      <td>1</td>\n",
       "      <td>1000_145</td>\n",
       "      <td>1000</td>\n",
       "      <td>2018-12-27</td>\n",
       "      <td>13.66</td>\n",
       "      <td>12</td>\n",
       "      <td>14.0</td>\n",
       "    </tr>\n",
       "    <tr>\n",
       "      <td>2</td>\n",
       "      <td>1000_247</td>\n",
       "      <td>1000</td>\n",
       "      <td>2018-12-27</td>\n",
       "      <td>14.48</td>\n",
       "      <td>12</td>\n",
       "      <td>15.0</td>\n",
       "    </tr>\n",
       "    <tr>\n",
       "      <td>3</td>\n",
       "      <td>1000_309</td>\n",
       "      <td>1000</td>\n",
       "      <td>2018-12-28</td>\n",
       "      <td>5.76</td>\n",
       "      <td>12</td>\n",
       "      <td>6.0</td>\n",
       "    </tr>\n",
       "    <tr>\n",
       "      <td>4</td>\n",
       "      <td>1000_380</td>\n",
       "      <td>1000</td>\n",
       "      <td>2018-12-30</td>\n",
       "      <td>4.22</td>\n",
       "      <td>12</td>\n",
       "      <td>5.0</td>\n",
       "    </tr>\n",
       "  </tbody>\n",
       "</table>\n",
       "</div>"
      ],
      "text/plain": [
       "         id  user_id  call_date  duration  month  duration_ceil\n",
       "0   1000_93     1000 2018-12-27      8.52     12            9.0\n",
       "1  1000_145     1000 2018-12-27     13.66     12           14.0\n",
       "2  1000_247     1000 2018-12-27     14.48     12           15.0\n",
       "3  1000_309     1000 2018-12-28      5.76     12            6.0\n",
       "4  1000_380     1000 2018-12-30      4.22     12            5.0"
      ]
     },
     "execution_count": 33,
     "metadata": {},
     "output_type": "execute_result"
    }
   ],
   "source": [
    "#as we know provider rounds all calls duration up\n",
    "data_calls['duration_ceil'] = np.ceil(data_calls['duration'])\n",
    "data_calls.head()"
   ]
  },
  {
   "cell_type": "code",
   "execution_count": 34,
   "metadata": {},
   "outputs": [
    {
     "data": {
      "text/html": [
       "<div>\n",
       "<style scoped>\n",
       "    .dataframe tbody tr th:only-of-type {\n",
       "        vertical-align: middle;\n",
       "    }\n",
       "\n",
       "    .dataframe tbody tr th {\n",
       "        vertical-align: top;\n",
       "    }\n",
       "\n",
       "    .dataframe thead th {\n",
       "        text-align: right;\n",
       "    }\n",
       "</style>\n",
       "<table border=\"1\" class=\"dataframe\">\n",
       "  <thead>\n",
       "    <tr style=\"text-align: right;\">\n",
       "      <th></th>\n",
       "      <th></th>\n",
       "      <th>calls_made</th>\n",
       "      <th>minutes_spent</th>\n",
       "    </tr>\n",
       "    <tr>\n",
       "      <th>user_id</th>\n",
       "      <th>month</th>\n",
       "      <th></th>\n",
       "      <th></th>\n",
       "    </tr>\n",
       "  </thead>\n",
       "  <tbody>\n",
       "    <tr>\n",
       "      <td>1000</td>\n",
       "      <td>12</td>\n",
       "      <td>16</td>\n",
       "      <td>124.0</td>\n",
       "    </tr>\n",
       "    <tr>\n",
       "      <td rowspan=\"4\" valign=\"top\">1001</td>\n",
       "      <td>8</td>\n",
       "      <td>27</td>\n",
       "      <td>182.0</td>\n",
       "    </tr>\n",
       "    <tr>\n",
       "      <td>9</td>\n",
       "      <td>49</td>\n",
       "      <td>315.0</td>\n",
       "    </tr>\n",
       "    <tr>\n",
       "      <td>10</td>\n",
       "      <td>65</td>\n",
       "      <td>393.0</td>\n",
       "    </tr>\n",
       "    <tr>\n",
       "      <td>11</td>\n",
       "      <td>64</td>\n",
       "      <td>426.0</td>\n",
       "    </tr>\n",
       "  </tbody>\n",
       "</table>\n",
       "</div>"
      ],
      "text/plain": [
       "               calls_made  minutes_spent\n",
       "user_id month                           \n",
       "1000    12             16          124.0\n",
       "1001    8              27          182.0\n",
       "        9              49          315.0\n",
       "        10             65          393.0\n",
       "        11             64          426.0"
      ]
     },
     "execution_count": 34,
     "metadata": {},
     "output_type": "execute_result"
    }
   ],
   "source": [
    "data_calls_pivot = data_calls.pivot_table(index=['user_id', 'month'], values='duration_ceil', aggfunc=['count', 'sum'])\n",
    "data_calls_pivot.columns = ['calls_made', 'minutes_spent']\n",
    "data_calls_pivot.head()"
   ]
  },
  {
   "cell_type": "markdown",
   "metadata": {},
   "source": [
    "### Calculation the text messages sent per month"
   ]
  },
  {
   "cell_type": "code",
   "execution_count": 35,
   "metadata": {},
   "outputs": [
    {
     "data": {
      "text/html": [
       "<div>\n",
       "<style scoped>\n",
       "    .dataframe tbody tr th:only-of-type {\n",
       "        vertical-align: middle;\n",
       "    }\n",
       "\n",
       "    .dataframe tbody tr th {\n",
       "        vertical-align: top;\n",
       "    }\n",
       "\n",
       "    .dataframe thead th {\n",
       "        text-align: right;\n",
       "    }\n",
       "</style>\n",
       "<table border=\"1\" class=\"dataframe\">\n",
       "  <thead>\n",
       "    <tr style=\"text-align: right;\">\n",
       "      <th></th>\n",
       "      <th>id</th>\n",
       "      <th>user_id</th>\n",
       "      <th>message_date</th>\n",
       "      <th>month</th>\n",
       "    </tr>\n",
       "  </thead>\n",
       "  <tbody>\n",
       "    <tr>\n",
       "      <td>0</td>\n",
       "      <td>1000_125</td>\n",
       "      <td>1000</td>\n",
       "      <td>2018-12-27</td>\n",
       "      <td>12</td>\n",
       "    </tr>\n",
       "    <tr>\n",
       "      <td>1</td>\n",
       "      <td>1000_160</td>\n",
       "      <td>1000</td>\n",
       "      <td>2018-12-31</td>\n",
       "      <td>12</td>\n",
       "    </tr>\n",
       "    <tr>\n",
       "      <td>2</td>\n",
       "      <td>1000_223</td>\n",
       "      <td>1000</td>\n",
       "      <td>2018-12-31</td>\n",
       "      <td>12</td>\n",
       "    </tr>\n",
       "    <tr>\n",
       "      <td>3</td>\n",
       "      <td>1000_251</td>\n",
       "      <td>1000</td>\n",
       "      <td>2018-12-27</td>\n",
       "      <td>12</td>\n",
       "    </tr>\n",
       "    <tr>\n",
       "      <td>4</td>\n",
       "      <td>1000_255</td>\n",
       "      <td>1000</td>\n",
       "      <td>2018-12-26</td>\n",
       "      <td>12</td>\n",
       "    </tr>\n",
       "  </tbody>\n",
       "</table>\n",
       "</div>"
      ],
      "text/plain": [
       "         id  user_id message_date  month\n",
       "0  1000_125     1000   2018-12-27     12\n",
       "1  1000_160     1000   2018-12-31     12\n",
       "2  1000_223     1000   2018-12-31     12\n",
       "3  1000_251     1000   2018-12-27     12\n",
       "4  1000_255     1000   2018-12-26     12"
      ]
     },
     "execution_count": 35,
     "metadata": {},
     "output_type": "execute_result"
    }
   ],
   "source": [
    "data_mes['month'] = data_mes['message_date'].dt.month\n",
    "data_mes.head()"
   ]
  },
  {
   "cell_type": "code",
   "execution_count": 36,
   "metadata": {},
   "outputs": [
    {
     "data": {
      "text/html": [
       "<div>\n",
       "<style scoped>\n",
       "    .dataframe tbody tr th:only-of-type {\n",
       "        vertical-align: middle;\n",
       "    }\n",
       "\n",
       "    .dataframe tbody tr th {\n",
       "        vertical-align: top;\n",
       "    }\n",
       "\n",
       "    .dataframe thead th {\n",
       "        text-align: right;\n",
       "    }\n",
       "</style>\n",
       "<table border=\"1\" class=\"dataframe\">\n",
       "  <thead>\n",
       "    <tr style=\"text-align: right;\">\n",
       "      <th></th>\n",
       "      <th></th>\n",
       "      <th>messages_sent</th>\n",
       "    </tr>\n",
       "    <tr>\n",
       "      <th>user_id</th>\n",
       "      <th>month</th>\n",
       "      <th></th>\n",
       "    </tr>\n",
       "  </thead>\n",
       "  <tbody>\n",
       "    <tr>\n",
       "      <td>1000</td>\n",
       "      <td>12</td>\n",
       "      <td>11</td>\n",
       "    </tr>\n",
       "    <tr>\n",
       "      <td rowspan=\"4\" valign=\"top\">1001</td>\n",
       "      <td>8</td>\n",
       "      <td>30</td>\n",
       "    </tr>\n",
       "    <tr>\n",
       "      <td>9</td>\n",
       "      <td>44</td>\n",
       "    </tr>\n",
       "    <tr>\n",
       "      <td>10</td>\n",
       "      <td>53</td>\n",
       "    </tr>\n",
       "    <tr>\n",
       "      <td>11</td>\n",
       "      <td>36</td>\n",
       "    </tr>\n",
       "  </tbody>\n",
       "</table>\n",
       "</div>"
      ],
      "text/plain": [
       "               messages_sent\n",
       "user_id month               \n",
       "1000    12                11\n",
       "1001    8                 30\n",
       "        9                 44\n",
       "        10                53\n",
       "        11                36"
      ]
     },
     "execution_count": 36,
     "metadata": {},
     "output_type": "execute_result"
    }
   ],
   "source": [
    "data_mes_pivot = data_mes.pivot_table(index=['user_id', 'month'], values='message_date', aggfunc='count')\n",
    "data_mes_pivot.columns = ['messages_sent']\n",
    "data_mes_pivot.head()"
   ]
  },
  {
   "cell_type": "markdown",
   "metadata": {},
   "source": [
    "### Calculating the volume of data per month"
   ]
  },
  {
   "cell_type": "code",
   "execution_count": 37,
   "metadata": {},
   "outputs": [
    {
     "data": {
      "text/html": [
       "<div>\n",
       "<style scoped>\n",
       "    .dataframe tbody tr th:only-of-type {\n",
       "        vertical-align: middle;\n",
       "    }\n",
       "\n",
       "    .dataframe tbody tr th {\n",
       "        vertical-align: top;\n",
       "    }\n",
       "\n",
       "    .dataframe thead th {\n",
       "        text-align: right;\n",
       "    }\n",
       "</style>\n",
       "<table border=\"1\" class=\"dataframe\">\n",
       "  <thead>\n",
       "    <tr style=\"text-align: right;\">\n",
       "      <th></th>\n",
       "      <th>id</th>\n",
       "      <th>user_id</th>\n",
       "      <th>session_date</th>\n",
       "      <th>mb_used</th>\n",
       "      <th>month</th>\n",
       "    </tr>\n",
       "  </thead>\n",
       "  <tbody>\n",
       "    <tr>\n",
       "      <td>0</td>\n",
       "      <td>1000_13</td>\n",
       "      <td>1000</td>\n",
       "      <td>2018-12-29</td>\n",
       "      <td>89.86</td>\n",
       "      <td>12</td>\n",
       "    </tr>\n",
       "    <tr>\n",
       "      <td>1</td>\n",
       "      <td>1000_204</td>\n",
       "      <td>1000</td>\n",
       "      <td>2018-12-31</td>\n",
       "      <td>0.00</td>\n",
       "      <td>12</td>\n",
       "    </tr>\n",
       "    <tr>\n",
       "      <td>2</td>\n",
       "      <td>1000_379</td>\n",
       "      <td>1000</td>\n",
       "      <td>2018-12-28</td>\n",
       "      <td>660.40</td>\n",
       "      <td>12</td>\n",
       "    </tr>\n",
       "    <tr>\n",
       "      <td>3</td>\n",
       "      <td>1000_413</td>\n",
       "      <td>1000</td>\n",
       "      <td>2018-12-26</td>\n",
       "      <td>270.99</td>\n",
       "      <td>12</td>\n",
       "    </tr>\n",
       "    <tr>\n",
       "      <td>4</td>\n",
       "      <td>1000_442</td>\n",
       "      <td>1000</td>\n",
       "      <td>2018-12-27</td>\n",
       "      <td>880.22</td>\n",
       "      <td>12</td>\n",
       "    </tr>\n",
       "  </tbody>\n",
       "</table>\n",
       "</div>"
      ],
      "text/plain": [
       "         id  user_id session_date  mb_used  month\n",
       "0   1000_13     1000   2018-12-29    89.86     12\n",
       "1  1000_204     1000   2018-12-31     0.00     12\n",
       "2  1000_379     1000   2018-12-28   660.40     12\n",
       "3  1000_413     1000   2018-12-26   270.99     12\n",
       "4  1000_442     1000   2018-12-27   880.22     12"
      ]
     },
     "execution_count": 37,
     "metadata": {},
     "output_type": "execute_result"
    }
   ],
   "source": [
    "data_int['month'] = data_int['session_date'].dt.month\n",
    "data_int.head()"
   ]
  },
  {
   "cell_type": "code",
   "execution_count": 38,
   "metadata": {},
   "outputs": [
    {
     "data": {
      "text/html": [
       "<div>\n",
       "<style scoped>\n",
       "    .dataframe tbody tr th:only-of-type {\n",
       "        vertical-align: middle;\n",
       "    }\n",
       "\n",
       "    .dataframe tbody tr th {\n",
       "        vertical-align: top;\n",
       "    }\n",
       "\n",
       "    .dataframe thead th {\n",
       "        text-align: right;\n",
       "    }\n",
       "</style>\n",
       "<table border=\"1\" class=\"dataframe\">\n",
       "  <thead>\n",
       "    <tr style=\"text-align: right;\">\n",
       "      <th></th>\n",
       "      <th>id</th>\n",
       "      <th>user_id</th>\n",
       "      <th>session_date</th>\n",
       "      <th>mb_used</th>\n",
       "      <th>month</th>\n",
       "      <th>mb_used_ceil</th>\n",
       "    </tr>\n",
       "  </thead>\n",
       "  <tbody>\n",
       "    <tr>\n",
       "      <td>0</td>\n",
       "      <td>1000_13</td>\n",
       "      <td>1000</td>\n",
       "      <td>2018-12-29</td>\n",
       "      <td>89.86</td>\n",
       "      <td>12</td>\n",
       "      <td>90.0</td>\n",
       "    </tr>\n",
       "    <tr>\n",
       "      <td>1</td>\n",
       "      <td>1000_204</td>\n",
       "      <td>1000</td>\n",
       "      <td>2018-12-31</td>\n",
       "      <td>0.00</td>\n",
       "      <td>12</td>\n",
       "      <td>0.0</td>\n",
       "    </tr>\n",
       "    <tr>\n",
       "      <td>2</td>\n",
       "      <td>1000_379</td>\n",
       "      <td>1000</td>\n",
       "      <td>2018-12-28</td>\n",
       "      <td>660.40</td>\n",
       "      <td>12</td>\n",
       "      <td>661.0</td>\n",
       "    </tr>\n",
       "    <tr>\n",
       "      <td>3</td>\n",
       "      <td>1000_413</td>\n",
       "      <td>1000</td>\n",
       "      <td>2018-12-26</td>\n",
       "      <td>270.99</td>\n",
       "      <td>12</td>\n",
       "      <td>271.0</td>\n",
       "    </tr>\n",
       "    <tr>\n",
       "      <td>4</td>\n",
       "      <td>1000_442</td>\n",
       "      <td>1000</td>\n",
       "      <td>2018-12-27</td>\n",
       "      <td>880.22</td>\n",
       "      <td>12</td>\n",
       "      <td>881.0</td>\n",
       "    </tr>\n",
       "  </tbody>\n",
       "</table>\n",
       "</div>"
      ],
      "text/plain": [
       "         id  user_id session_date  mb_used  month  mb_used_ceil\n",
       "0   1000_13     1000   2018-12-29    89.86     12          90.0\n",
       "1  1000_204     1000   2018-12-31     0.00     12           0.0\n",
       "2  1000_379     1000   2018-12-28   660.40     12         661.0\n",
       "3  1000_413     1000   2018-12-26   270.99     12         271.0\n",
       "4  1000_442     1000   2018-12-27   880.22     12         881.0"
      ]
     },
     "execution_count": 38,
     "metadata": {},
     "output_type": "execute_result"
    }
   ],
   "source": [
    "#as we know provider rounds all traffic used up\n",
    "data_int['mb_used_ceil'] = data_int['mb_used'].apply(np.ceil)\n",
    "data_int.head()"
   ]
  },
  {
   "cell_type": "code",
   "execution_count": 39,
   "metadata": {},
   "outputs": [
    {
     "data": {
      "text/html": [
       "<div>\n",
       "<style scoped>\n",
       "    .dataframe tbody tr th:only-of-type {\n",
       "        vertical-align: middle;\n",
       "    }\n",
       "\n",
       "    .dataframe tbody tr th {\n",
       "        vertical-align: top;\n",
       "    }\n",
       "\n",
       "    .dataframe thead th {\n",
       "        text-align: right;\n",
       "    }\n",
       "</style>\n",
       "<table border=\"1\" class=\"dataframe\">\n",
       "  <thead>\n",
       "    <tr style=\"text-align: right;\">\n",
       "      <th></th>\n",
       "      <th></th>\n",
       "      <th>mb_spent</th>\n",
       "      <th>gb_spent</th>\n",
       "    </tr>\n",
       "    <tr>\n",
       "      <th>user_id</th>\n",
       "      <th>month</th>\n",
       "      <th></th>\n",
       "      <th></th>\n",
       "    </tr>\n",
       "  </thead>\n",
       "  <tbody>\n",
       "    <tr>\n",
       "      <td>1000</td>\n",
       "      <td>12</td>\n",
       "      <td>1903.0</td>\n",
       "      <td>2.0</td>\n",
       "    </tr>\n",
       "    <tr>\n",
       "      <td rowspan=\"4\" valign=\"top\">1001</td>\n",
       "      <td>8</td>\n",
       "      <td>6929.0</td>\n",
       "      <td>7.0</td>\n",
       "    </tr>\n",
       "    <tr>\n",
       "      <td>9</td>\n",
       "      <td>13333.0</td>\n",
       "      <td>14.0</td>\n",
       "    </tr>\n",
       "    <tr>\n",
       "      <td>10</td>\n",
       "      <td>22356.0</td>\n",
       "      <td>22.0</td>\n",
       "    </tr>\n",
       "    <tr>\n",
       "      <td>11</td>\n",
       "      <td>18524.0</td>\n",
       "      <td>19.0</td>\n",
       "    </tr>\n",
       "  </tbody>\n",
       "</table>\n",
       "</div>"
      ],
      "text/plain": [
       "               mb_spent  gb_spent\n",
       "user_id month                    \n",
       "1000    12       1903.0       2.0\n",
       "1001    8        6929.0       7.0\n",
       "        9       13333.0      14.0\n",
       "        10      22356.0      22.0\n",
       "        11      18524.0      19.0"
      ]
     },
     "execution_count": 39,
     "metadata": {},
     "output_type": "execute_result"
    }
   ],
   "source": [
    "data_int_pivot = data_int.pivot_table(index=['user_id', 'month'], values='mb_used_ceil', aggfunc=['sum'])\n",
    "data_int_pivot.columns = ['mb_spent']\n",
    "data_int_pivot['gb_spent'] = (data_int_pivot['mb_spent']/1024).apply(np.ceil)\n",
    "data_int_pivot.head()"
   ]
  },
  {
   "cell_type": "markdown",
   "metadata": {},
   "source": [
    "### Calculating the monthly revenue from each user"
   ]
  },
  {
   "cell_type": "code",
   "execution_count": 40,
   "metadata": {},
   "outputs": [
    {
     "data": {
      "text/html": [
       "<div>\n",
       "<style scoped>\n",
       "    .dataframe tbody tr th:only-of-type {\n",
       "        vertical-align: middle;\n",
       "    }\n",
       "\n",
       "    .dataframe tbody tr th {\n",
       "        vertical-align: top;\n",
       "    }\n",
       "\n",
       "    .dataframe thead th {\n",
       "        text-align: right;\n",
       "    }\n",
       "</style>\n",
       "<table border=\"1\" class=\"dataframe\">\n",
       "  <thead>\n",
       "    <tr style=\"text-align: right;\">\n",
       "      <th></th>\n",
       "      <th>user_id</th>\n",
       "      <th>month</th>\n",
       "      <th>calls_made</th>\n",
       "      <th>minutes_spent</th>\n",
       "      <th>messages_sent</th>\n",
       "      <th>mb_spent</th>\n",
       "      <th>gb_spent</th>\n",
       "      <th>city</th>\n",
       "      <th>plan</th>\n",
       "    </tr>\n",
       "  </thead>\n",
       "  <tbody>\n",
       "    <tr>\n",
       "      <td>0</td>\n",
       "      <td>1000</td>\n",
       "      <td>12</td>\n",
       "      <td>16.0</td>\n",
       "      <td>124.0</td>\n",
       "      <td>11.0</td>\n",
       "      <td>1903.0</td>\n",
       "      <td>2.0</td>\n",
       "      <td>Atlanta-Sandy Springs-Roswell, GA MSA</td>\n",
       "      <td>ultimate</td>\n",
       "    </tr>\n",
       "    <tr>\n",
       "      <td>1</td>\n",
       "      <td>1001</td>\n",
       "      <td>8</td>\n",
       "      <td>27.0</td>\n",
       "      <td>182.0</td>\n",
       "      <td>30.0</td>\n",
       "      <td>6929.0</td>\n",
       "      <td>7.0</td>\n",
       "      <td>Seattle-Tacoma-Bellevue, WA MSA</td>\n",
       "      <td>surf</td>\n",
       "    </tr>\n",
       "    <tr>\n",
       "      <td>2</td>\n",
       "      <td>1001</td>\n",
       "      <td>9</td>\n",
       "      <td>49.0</td>\n",
       "      <td>315.0</td>\n",
       "      <td>44.0</td>\n",
       "      <td>13333.0</td>\n",
       "      <td>14.0</td>\n",
       "      <td>Seattle-Tacoma-Bellevue, WA MSA</td>\n",
       "      <td>surf</td>\n",
       "    </tr>\n",
       "    <tr>\n",
       "      <td>3</td>\n",
       "      <td>1001</td>\n",
       "      <td>10</td>\n",
       "      <td>65.0</td>\n",
       "      <td>393.0</td>\n",
       "      <td>53.0</td>\n",
       "      <td>22356.0</td>\n",
       "      <td>22.0</td>\n",
       "      <td>Seattle-Tacoma-Bellevue, WA MSA</td>\n",
       "      <td>surf</td>\n",
       "    </tr>\n",
       "    <tr>\n",
       "      <td>4</td>\n",
       "      <td>1001</td>\n",
       "      <td>11</td>\n",
       "      <td>64.0</td>\n",
       "      <td>426.0</td>\n",
       "      <td>36.0</td>\n",
       "      <td>18524.0</td>\n",
       "      <td>19.0</td>\n",
       "      <td>Seattle-Tacoma-Bellevue, WA MSA</td>\n",
       "      <td>surf</td>\n",
       "    </tr>\n",
       "  </tbody>\n",
       "</table>\n",
       "</div>"
      ],
      "text/plain": [
       "   user_id  month  calls_made  minutes_spent  messages_sent  mb_spent  \\\n",
       "0     1000     12        16.0          124.0           11.0    1903.0   \n",
       "1     1001      8        27.0          182.0           30.0    6929.0   \n",
       "2     1001      9        49.0          315.0           44.0   13333.0   \n",
       "3     1001     10        65.0          393.0           53.0   22356.0   \n",
       "4     1001     11        64.0          426.0           36.0   18524.0   \n",
       "\n",
       "   gb_spent                                   city      plan  \n",
       "0       2.0  Atlanta-Sandy Springs-Roswell, GA MSA  ultimate  \n",
       "1       7.0        Seattle-Tacoma-Bellevue, WA MSA      surf  \n",
       "2      14.0        Seattle-Tacoma-Bellevue, WA MSA      surf  \n",
       "3      22.0        Seattle-Tacoma-Bellevue, WA MSA      surf  \n",
       "4      19.0        Seattle-Tacoma-Bellevue, WA MSA      surf  "
      ]
     },
     "execution_count": 40,
     "metadata": {},
     "output_type": "execute_result"
    }
   ],
   "source": [
    "full_pivot = data_calls_pivot.merge(data_mes_pivot, left_index=True, right_index=True, how='outer')\n",
    "full_pivot = full_pivot.merge(data_int_pivot, left_index=True, right_index=True, how='outer').reset_index()\n",
    "full_pivot = full_pivot.merge(data_us, on='user_id')\n",
    "full_pivot.drop(columns=['first_name','last_name', 'age','reg_date','churn_date'], inplace=True)\n",
    "\n",
    "full_pivot.head()\n"
   ]
  },
  {
   "cell_type": "code",
   "execution_count": 41,
   "metadata": {},
   "outputs": [
    {
     "data": {
      "text/plain": [
       "user_id            0\n",
       "month              0\n",
       "calls_made        35\n",
       "minutes_spent     35\n",
       "messages_sent    487\n",
       "mb_spent          16\n",
       "gb_spent          16\n",
       "city               0\n",
       "plan               0\n",
       "dtype: int64"
      ]
     },
     "execution_count": 41,
     "metadata": {},
     "output_type": "execute_result"
    }
   ],
   "source": [
    "full_pivot.isna().sum()"
   ]
  },
  {
   "cell_type": "code",
   "execution_count": 42,
   "metadata": {},
   "outputs": [
    {
     "data": {
      "text/plain": [
       "0"
      ]
     },
     "execution_count": 42,
     "metadata": {},
     "output_type": "execute_result"
    }
   ],
   "source": [
    "full_pivot.fillna(0, inplace=True)\n",
    "full_pivot.isna().sum().sum()"
   ]
  },
  {
   "cell_type": "code",
   "execution_count": 43,
   "metadata": {},
   "outputs": [
    {
     "data": {
      "text/html": [
       "<div>\n",
       "<style scoped>\n",
       "    .dataframe tbody tr th:only-of-type {\n",
       "        vertical-align: middle;\n",
       "    }\n",
       "\n",
       "    .dataframe tbody tr th {\n",
       "        vertical-align: top;\n",
       "    }\n",
       "\n",
       "    .dataframe thead th {\n",
       "        text-align: right;\n",
       "    }\n",
       "</style>\n",
       "<table border=\"1\" class=\"dataframe\">\n",
       "  <thead>\n",
       "    <tr style=\"text-align: right;\">\n",
       "      <th></th>\n",
       "      <th>messages_included</th>\n",
       "      <th>mb_per_month_included</th>\n",
       "      <th>minutes_included</th>\n",
       "      <th>usd_monthly_pay</th>\n",
       "      <th>usd_per_gb</th>\n",
       "      <th>usd_per_message</th>\n",
       "      <th>usd_per_minute</th>\n",
       "      <th>plan_name</th>\n",
       "    </tr>\n",
       "  </thead>\n",
       "  <tbody>\n",
       "    <tr>\n",
       "      <td>0</td>\n",
       "      <td>50</td>\n",
       "      <td>15360</td>\n",
       "      <td>500</td>\n",
       "      <td>20</td>\n",
       "      <td>10</td>\n",
       "      <td>0.03</td>\n",
       "      <td>0.03</td>\n",
       "      <td>surf</td>\n",
       "    </tr>\n",
       "    <tr>\n",
       "      <td>1</td>\n",
       "      <td>1000</td>\n",
       "      <td>30720</td>\n",
       "      <td>3000</td>\n",
       "      <td>70</td>\n",
       "      <td>7</td>\n",
       "      <td>0.01</td>\n",
       "      <td>0.01</td>\n",
       "      <td>ultimate</td>\n",
       "    </tr>\n",
       "  </tbody>\n",
       "</table>\n",
       "</div>"
      ],
      "text/plain": [
       "   messages_included  mb_per_month_included  minutes_included  \\\n",
       "0                 50                  15360               500   \n",
       "1               1000                  30720              3000   \n",
       "\n",
       "   usd_monthly_pay  usd_per_gb  usd_per_message  usd_per_minute plan_name  \n",
       "0               20          10             0.03            0.03      surf  \n",
       "1               70           7             0.01            0.01  ultimate  "
      ]
     },
     "execution_count": 43,
     "metadata": {},
     "output_type": "execute_result"
    }
   ],
   "source": [
    "data_pl"
   ]
  },
  {
   "cell_type": "code",
   "execution_count": 44,
   "metadata": {},
   "outputs": [
    {
     "data": {
      "text/html": [
       "<div>\n",
       "<style scoped>\n",
       "    .dataframe tbody tr th:only-of-type {\n",
       "        vertical-align: middle;\n",
       "    }\n",
       "\n",
       "    .dataframe tbody tr th {\n",
       "        vertical-align: top;\n",
       "    }\n",
       "\n",
       "    .dataframe thead th {\n",
       "        text-align: right;\n",
       "    }\n",
       "</style>\n",
       "<table border=\"1\" class=\"dataframe\">\n",
       "  <thead>\n",
       "    <tr style=\"text-align: right;\">\n",
       "      <th></th>\n",
       "      <th>user_id</th>\n",
       "      <th>month</th>\n",
       "      <th>calls_made</th>\n",
       "      <th>minutes_spent</th>\n",
       "      <th>messages_sent</th>\n",
       "      <th>mb_spent</th>\n",
       "      <th>gb_spent</th>\n",
       "      <th>city</th>\n",
       "      <th>plan</th>\n",
       "    </tr>\n",
       "  </thead>\n",
       "  <tbody>\n",
       "    <tr>\n",
       "      <td>0</td>\n",
       "      <td>1000</td>\n",
       "      <td>12</td>\n",
       "      <td>16.0</td>\n",
       "      <td>124.0</td>\n",
       "      <td>11.0</td>\n",
       "      <td>1903.0</td>\n",
       "      <td>2.0</td>\n",
       "      <td>Atlanta-Sandy Springs-Roswell, GA MSA</td>\n",
       "      <td>ultimate</td>\n",
       "    </tr>\n",
       "    <tr>\n",
       "      <td>1</td>\n",
       "      <td>1001</td>\n",
       "      <td>8</td>\n",
       "      <td>27.0</td>\n",
       "      <td>182.0</td>\n",
       "      <td>30.0</td>\n",
       "      <td>6929.0</td>\n",
       "      <td>7.0</td>\n",
       "      <td>Seattle-Tacoma-Bellevue, WA MSA</td>\n",
       "      <td>surf</td>\n",
       "    </tr>\n",
       "    <tr>\n",
       "      <td>2</td>\n",
       "      <td>1001</td>\n",
       "      <td>9</td>\n",
       "      <td>49.0</td>\n",
       "      <td>315.0</td>\n",
       "      <td>44.0</td>\n",
       "      <td>13333.0</td>\n",
       "      <td>14.0</td>\n",
       "      <td>Seattle-Tacoma-Bellevue, WA MSA</td>\n",
       "      <td>surf</td>\n",
       "    </tr>\n",
       "  </tbody>\n",
       "</table>\n",
       "</div>"
      ],
      "text/plain": [
       "   user_id  month  calls_made  minutes_spent  messages_sent  mb_spent  \\\n",
       "0     1000     12        16.0          124.0           11.0    1903.0   \n",
       "1     1001      8        27.0          182.0           30.0    6929.0   \n",
       "2     1001      9        49.0          315.0           44.0   13333.0   \n",
       "\n",
       "   gb_spent                                   city      plan  \n",
       "0       2.0  Atlanta-Sandy Springs-Roswell, GA MSA  ultimate  \n",
       "1       7.0        Seattle-Tacoma-Bellevue, WA MSA      surf  \n",
       "2      14.0        Seattle-Tacoma-Bellevue, WA MSA      surf  "
      ]
     },
     "execution_count": 44,
     "metadata": {},
     "output_type": "execute_result"
    }
   ],
   "source": [
    "full_pivot.head(3)"
   ]
  },
  {
   "cell_type": "code",
   "execution_count": 45,
   "metadata": {},
   "outputs": [],
   "source": [
    "def excess_fee(data):\n",
    "    ex_min_fee = 0\n",
    "    ex_msg_fee = 0\n",
    "    ex_gb_fee = 0\n",
    "    if data['plan'] == 'surf':\n",
    "        ex_min = 500 - data['minutes_spent']\n",
    "        if ex_min < 0:\n",
    "            ex_min_fee = (-1 * ex_min * 0.03)\n",
    "        ex_msg = 50 - data['messages_sent']\n",
    "        if ex_msg < 0:\n",
    "            ex_msg_fee = (-1 * ex_msg * 0.03)\n",
    "        ex_gb = 15 - data['gb_spent']\n",
    "        if ex_gb < 0:\n",
    "            ex_gb_fee = (-1 * ex_gb * 10)\n",
    "        return (ex_min_fee + ex_msg_fee + ex_gb_fee + 20)\n",
    "    \n",
    "    if data['plan'] == 'ultimate':\n",
    "        ex_min = 3000 - data['minutes_spent']\n",
    "        if ex_min < 0:\n",
    "            ex_min_fee = (-1 * ex_min * 0.01)\n",
    "        ex_msg = 1000 - data['messages_sent']\n",
    "        if ex_msg < 0:\n",
    "            ex_msg_fee = (-1 * ex_msg * 0.01)\n",
    "        ex_gb = 30 - data['gb_spent']\n",
    "        if ex_gb < 0:\n",
    "            ex_gb_fee = (-1 * ex_gb * 7)\n",
    "        return (ex_min_fee + ex_msg_fee + ex_gb_fee + 70)"
   ]
  },
  {
   "cell_type": "code",
   "execution_count": 46,
   "metadata": {},
   "outputs": [
    {
     "data": {
      "text/html": [
       "<div>\n",
       "<style scoped>\n",
       "    .dataframe tbody tr th:only-of-type {\n",
       "        vertical-align: middle;\n",
       "    }\n",
       "\n",
       "    .dataframe tbody tr th {\n",
       "        vertical-align: top;\n",
       "    }\n",
       "\n",
       "    .dataframe thead th {\n",
       "        text-align: right;\n",
       "    }\n",
       "</style>\n",
       "<table border=\"1\" class=\"dataframe\">\n",
       "  <thead>\n",
       "    <tr style=\"text-align: right;\">\n",
       "      <th></th>\n",
       "      <th>user_id</th>\n",
       "      <th>month</th>\n",
       "      <th>calls_made</th>\n",
       "      <th>minutes_spent</th>\n",
       "      <th>messages_sent</th>\n",
       "      <th>mb_spent</th>\n",
       "      <th>gb_spent</th>\n",
       "      <th>city</th>\n",
       "      <th>plan</th>\n",
       "      <th>total_fee</th>\n",
       "    </tr>\n",
       "  </thead>\n",
       "  <tbody>\n",
       "    <tr>\n",
       "      <td>0</td>\n",
       "      <td>1000</td>\n",
       "      <td>12</td>\n",
       "      <td>16.0</td>\n",
       "      <td>124.0</td>\n",
       "      <td>11.0</td>\n",
       "      <td>1903.0</td>\n",
       "      <td>2.0</td>\n",
       "      <td>Atlanta-Sandy Springs-Roswell, GA MSA</td>\n",
       "      <td>ultimate</td>\n",
       "      <td>70.00</td>\n",
       "    </tr>\n",
       "    <tr>\n",
       "      <td>1</td>\n",
       "      <td>1001</td>\n",
       "      <td>8</td>\n",
       "      <td>27.0</td>\n",
       "      <td>182.0</td>\n",
       "      <td>30.0</td>\n",
       "      <td>6929.0</td>\n",
       "      <td>7.0</td>\n",
       "      <td>Seattle-Tacoma-Bellevue, WA MSA</td>\n",
       "      <td>surf</td>\n",
       "      <td>20.00</td>\n",
       "    </tr>\n",
       "    <tr>\n",
       "      <td>2</td>\n",
       "      <td>1001</td>\n",
       "      <td>9</td>\n",
       "      <td>49.0</td>\n",
       "      <td>315.0</td>\n",
       "      <td>44.0</td>\n",
       "      <td>13333.0</td>\n",
       "      <td>14.0</td>\n",
       "      <td>Seattle-Tacoma-Bellevue, WA MSA</td>\n",
       "      <td>surf</td>\n",
       "      <td>20.00</td>\n",
       "    </tr>\n",
       "    <tr>\n",
       "      <td>3</td>\n",
       "      <td>1001</td>\n",
       "      <td>10</td>\n",
       "      <td>65.0</td>\n",
       "      <td>393.0</td>\n",
       "      <td>53.0</td>\n",
       "      <td>22356.0</td>\n",
       "      <td>22.0</td>\n",
       "      <td>Seattle-Tacoma-Bellevue, WA MSA</td>\n",
       "      <td>surf</td>\n",
       "      <td>90.09</td>\n",
       "    </tr>\n",
       "    <tr>\n",
       "      <td>4</td>\n",
       "      <td>1001</td>\n",
       "      <td>11</td>\n",
       "      <td>64.0</td>\n",
       "      <td>426.0</td>\n",
       "      <td>36.0</td>\n",
       "      <td>18524.0</td>\n",
       "      <td>19.0</td>\n",
       "      <td>Seattle-Tacoma-Bellevue, WA MSA</td>\n",
       "      <td>surf</td>\n",
       "      <td>60.00</td>\n",
       "    </tr>\n",
       "  </tbody>\n",
       "</table>\n",
       "</div>"
      ],
      "text/plain": [
       "   user_id  month  calls_made  minutes_spent  messages_sent  mb_spent  \\\n",
       "0     1000     12        16.0          124.0           11.0    1903.0   \n",
       "1     1001      8        27.0          182.0           30.0    6929.0   \n",
       "2     1001      9        49.0          315.0           44.0   13333.0   \n",
       "3     1001     10        65.0          393.0           53.0   22356.0   \n",
       "4     1001     11        64.0          426.0           36.0   18524.0   \n",
       "\n",
       "   gb_spent                                   city      plan  total_fee  \n",
       "0       2.0  Atlanta-Sandy Springs-Roswell, GA MSA  ultimate      70.00  \n",
       "1       7.0        Seattle-Tacoma-Bellevue, WA MSA      surf      20.00  \n",
       "2      14.0        Seattle-Tacoma-Bellevue, WA MSA      surf      20.00  \n",
       "3      22.0        Seattle-Tacoma-Bellevue, WA MSA      surf      90.09  \n",
       "4      19.0        Seattle-Tacoma-Bellevue, WA MSA      surf      60.00  "
      ]
     },
     "execution_count": 46,
     "metadata": {},
     "output_type": "execute_result"
    }
   ],
   "source": [
    "full_pivot['total_fee'] = full_pivot.apply(excess_fee, axis=1)\n",
    "full_pivot.head()"
   ]
  },
  {
   "cell_type": "code",
   "execution_count": 47,
   "metadata": {},
   "outputs": [
    {
     "data": {
      "text/html": [
       "<div>\n",
       "<style scoped>\n",
       "    .dataframe tbody tr th:only-of-type {\n",
       "        vertical-align: middle;\n",
       "    }\n",
       "\n",
       "    .dataframe tbody tr th {\n",
       "        vertical-align: top;\n",
       "    }\n",
       "\n",
       "    .dataframe thead th {\n",
       "        text-align: right;\n",
       "    }\n",
       "</style>\n",
       "<table border=\"1\" class=\"dataframe\">\n",
       "  <thead>\n",
       "    <tr style=\"text-align: right;\">\n",
       "      <th></th>\n",
       "      <th>user_id</th>\n",
       "      <th>month</th>\n",
       "      <th>calls_made</th>\n",
       "      <th>minutes_spent</th>\n",
       "      <th>messages_sent</th>\n",
       "      <th>mb_spent</th>\n",
       "      <th>gb_spent</th>\n",
       "      <th>city</th>\n",
       "      <th>plan</th>\n",
       "      <th>total_fee</th>\n",
       "    </tr>\n",
       "  </thead>\n",
       "  <tbody>\n",
       "    <tr>\n",
       "      <td>1265</td>\n",
       "      <td>1264</td>\n",
       "      <td>11</td>\n",
       "      <td>62.0</td>\n",
       "      <td>422.0</td>\n",
       "      <td>65.0</td>\n",
       "      <td>17553.0</td>\n",
       "      <td>18.0</td>\n",
       "      <td>Los Angeles-Long Beach-Anaheim, CA MSA</td>\n",
       "      <td>ultimate</td>\n",
       "      <td>70.00</td>\n",
       "    </tr>\n",
       "    <tr>\n",
       "      <td>42</td>\n",
       "      <td>1010</td>\n",
       "      <td>8</td>\n",
       "      <td>93.0</td>\n",
       "      <td>637.0</td>\n",
       "      <td>0.0</td>\n",
       "      <td>19831.0</td>\n",
       "      <td>20.0</td>\n",
       "      <td>Dallas-Fort Worth-Arlington, TX MSA</td>\n",
       "      <td>surf</td>\n",
       "      <td>74.11</td>\n",
       "    </tr>\n",
       "    <tr>\n",
       "      <td>671</td>\n",
       "      <td>1141</td>\n",
       "      <td>9</td>\n",
       "      <td>110.0</td>\n",
       "      <td>840.0</td>\n",
       "      <td>26.0</td>\n",
       "      <td>13171.0</td>\n",
       "      <td>13.0</td>\n",
       "      <td>New York-Newark-Jersey City, NY-NJ-PA MSA</td>\n",
       "      <td>surf</td>\n",
       "      <td>30.20</td>\n",
       "    </tr>\n",
       "    <tr>\n",
       "      <td>1647</td>\n",
       "      <td>1358</td>\n",
       "      <td>4</td>\n",
       "      <td>7.0</td>\n",
       "      <td>58.0</td>\n",
       "      <td>1.0</td>\n",
       "      <td>1692.0</td>\n",
       "      <td>2.0</td>\n",
       "      <td>New York-Newark-Jersey City, NY-NJ-PA MSA</td>\n",
       "      <td>surf</td>\n",
       "      <td>20.00</td>\n",
       "    </tr>\n",
       "    <tr>\n",
       "      <td>756</td>\n",
       "      <td>1157</td>\n",
       "      <td>9</td>\n",
       "      <td>74.0</td>\n",
       "      <td>530.0</td>\n",
       "      <td>0.0</td>\n",
       "      <td>10248.0</td>\n",
       "      <td>11.0</td>\n",
       "      <td>Los Angeles-Long Beach-Anaheim, CA MSA</td>\n",
       "      <td>surf</td>\n",
       "      <td>20.90</td>\n",
       "    </tr>\n",
       "  </tbody>\n",
       "</table>\n",
       "</div>"
      ],
      "text/plain": [
       "      user_id  month  calls_made  minutes_spent  messages_sent  mb_spent  \\\n",
       "1265     1264     11        62.0          422.0           65.0   17553.0   \n",
       "42       1010      8        93.0          637.0            0.0   19831.0   \n",
       "671      1141      9       110.0          840.0           26.0   13171.0   \n",
       "1647     1358      4         7.0           58.0            1.0    1692.0   \n",
       "756      1157      9        74.0          530.0            0.0   10248.0   \n",
       "\n",
       "      gb_spent                                       city      plan  total_fee  \n",
       "1265      18.0     Los Angeles-Long Beach-Anaheim, CA MSA  ultimate      70.00  \n",
       "42        20.0        Dallas-Fort Worth-Arlington, TX MSA      surf      74.11  \n",
       "671       13.0  New York-Newark-Jersey City, NY-NJ-PA MSA      surf      30.20  \n",
       "1647       2.0  New York-Newark-Jersey City, NY-NJ-PA MSA      surf      20.00  \n",
       "756       11.0     Los Angeles-Long Beach-Anaheim, CA MSA      surf      20.90  "
      ]
     },
     "execution_count": 47,
     "metadata": {},
     "output_type": "execute_result"
    }
   ],
   "source": [
    "full_pivot.sample(5)"
   ]
  },
  {
   "cell_type": "markdown",
   "metadata": {},
   "source": [
    "# Conclusion\n",
    "During prepearing the data to further calculations I converted all date columns to datetime format, also I saw a lot of values with 0 for calls and traffic used. I didn't remove those data or replace it since it could affect all further calculations. Maybe it were missing calls, or calls for 1-2 seconds or a technical error. Same with traffic, it might be people who don't use mobile internet or the technical error. Same with messages, nowadays messangers more popular than standart sms, so I can assume that some people don't use sms at all. I would ask data engineers to take a deeper look on it and check once more. In the column where we have the date of stop using tariff plan I also had a lot of missing data, but according to description it heppend because clients still continue to use their plans. Because we have a data for 2018 year, I replaced those values with the last day of Decemeber, 2018. \n",
    "All data was grouped in a new dataset, which will allow me to make calculation more easy. Also I calculated the using of plan limits and now I have a picture of who exceeded the limit and who didn't. "
   ]
  },
  {
   "cell_type": "markdown",
   "metadata": {},
   "source": [
    "_____\n",
    "_____\n",
    "_____"
   ]
  },
  {
   "cell_type": "markdown",
   "metadata": {},
   "source": [
    "# Step 3. Analyze the Data"
   ]
  },
  {
   "cell_type": "markdown",
   "metadata": {},
   "source": [
    "## To do list:\n",
    "Describe the customers' behavior. Find the minutes, texts, and volume of data the users of each plan require per month. Calculate the mean, dispersion, and standard deviation. Plot histograms. Describe the distributions."
   ]
  },
  {
   "cell_type": "markdown",
   "metadata": {},
   "source": [
    "### Analyzing calls, messages and traffic usage of clients with different plans"
   ]
  },
  {
   "cell_type": "code",
   "execution_count": 48,
   "metadata": {},
   "outputs": [
    {
     "data": {
      "text/html": [
       "<div>\n",
       "<style scoped>\n",
       "    .dataframe tbody tr th:only-of-type {\n",
       "        vertical-align: middle;\n",
       "    }\n",
       "\n",
       "    .dataframe tbody tr th {\n",
       "        vertical-align: top;\n",
       "    }\n",
       "\n",
       "    .dataframe thead th {\n",
       "        text-align: right;\n",
       "    }\n",
       "</style>\n",
       "<table border=\"1\" class=\"dataframe\">\n",
       "  <thead>\n",
       "    <tr style=\"text-align: right;\">\n",
       "      <th></th>\n",
       "      <th>user_id</th>\n",
       "      <th>month</th>\n",
       "      <th>calls_made</th>\n",
       "      <th>minutes_spent</th>\n",
       "      <th>messages_sent</th>\n",
       "      <th>mb_spent</th>\n",
       "      <th>gb_spent</th>\n",
       "      <th>total_fee</th>\n",
       "    </tr>\n",
       "  </thead>\n",
       "  <tbody>\n",
       "    <tr>\n",
       "      <td>count</td>\n",
       "      <td>2293.000000</td>\n",
       "      <td>2293.000000</td>\n",
       "      <td>2293.000000</td>\n",
       "      <td>2293.000000</td>\n",
       "      <td>2293.000000</td>\n",
       "      <td>2293.000000</td>\n",
       "      <td>2293.000000</td>\n",
       "      <td>2293.000000</td>\n",
       "    </tr>\n",
       "    <tr>\n",
       "      <td>mean</td>\n",
       "      <td>1246.075883</td>\n",
       "      <td>9.172700</td>\n",
       "      <td>60.067597</td>\n",
       "      <td>429.283471</td>\n",
       "      <td>33.166594</td>\n",
       "      <td>16784.017444</td>\n",
       "      <td>16.888792</td>\n",
       "      <td>64.418308</td>\n",
       "    </tr>\n",
       "    <tr>\n",
       "      <td>std</td>\n",
       "      <td>143.051927</td>\n",
       "      <td>2.496386</td>\n",
       "      <td>32.402563</td>\n",
       "      <td>236.320077</td>\n",
       "      <td>34.070085</td>\n",
       "      <td>7974.946999</td>\n",
       "      <td>7.801772</td>\n",
       "      <td>46.679924</td>\n",
       "    </tr>\n",
       "    <tr>\n",
       "      <td>min</td>\n",
       "      <td>1000.000000</td>\n",
       "      <td>1.000000</td>\n",
       "      <td>0.000000</td>\n",
       "      <td>0.000000</td>\n",
       "      <td>0.000000</td>\n",
       "      <td>0.000000</td>\n",
       "      <td>0.000000</td>\n",
       "      <td>20.000000</td>\n",
       "    </tr>\n",
       "    <tr>\n",
       "      <td>25%</td>\n",
       "      <td>1122.000000</td>\n",
       "      <td>8.000000</td>\n",
       "      <td>38.000000</td>\n",
       "      <td>265.000000</td>\n",
       "      <td>3.000000</td>\n",
       "      <td>12252.000000</td>\n",
       "      <td>12.000000</td>\n",
       "      <td>23.480000</td>\n",
       "    </tr>\n",
       "    <tr>\n",
       "      <td>50%</td>\n",
       "      <td>1245.000000</td>\n",
       "      <td>10.000000</td>\n",
       "      <td>60.000000</td>\n",
       "      <td>425.000000</td>\n",
       "      <td>26.000000</td>\n",
       "      <td>16852.000000</td>\n",
       "      <td>17.000000</td>\n",
       "      <td>70.000000</td>\n",
       "    </tr>\n",
       "    <tr>\n",
       "      <td>75%</td>\n",
       "      <td>1368.000000</td>\n",
       "      <td>11.000000</td>\n",
       "      <td>79.000000</td>\n",
       "      <td>572.000000</td>\n",
       "      <td>51.000000</td>\n",
       "      <td>21025.000000</td>\n",
       "      <td>21.000000</td>\n",
       "      <td>70.000000</td>\n",
       "    </tr>\n",
       "    <tr>\n",
       "      <td>max</td>\n",
       "      <td>1499.000000</td>\n",
       "      <td>12.000000</td>\n",
       "      <td>205.000000</td>\n",
       "      <td>1510.000000</td>\n",
       "      <td>266.000000</td>\n",
       "      <td>70988.000000</td>\n",
       "      <td>70.000000</td>\n",
       "      <td>590.370000</td>\n",
       "    </tr>\n",
       "  </tbody>\n",
       "</table>\n",
       "</div>"
      ],
      "text/plain": [
       "           user_id        month   calls_made  minutes_spent  messages_sent  \\\n",
       "count  2293.000000  2293.000000  2293.000000    2293.000000    2293.000000   \n",
       "mean   1246.075883     9.172700    60.067597     429.283471      33.166594   \n",
       "std     143.051927     2.496386    32.402563     236.320077      34.070085   \n",
       "min    1000.000000     1.000000     0.000000       0.000000       0.000000   \n",
       "25%    1122.000000     8.000000    38.000000     265.000000       3.000000   \n",
       "50%    1245.000000    10.000000    60.000000     425.000000      26.000000   \n",
       "75%    1368.000000    11.000000    79.000000     572.000000      51.000000   \n",
       "max    1499.000000    12.000000   205.000000    1510.000000     266.000000   \n",
       "\n",
       "           mb_spent     gb_spent    total_fee  \n",
       "count   2293.000000  2293.000000  2293.000000  \n",
       "mean   16784.017444    16.888792    64.418308  \n",
       "std     7974.946999     7.801772    46.679924  \n",
       "min        0.000000     0.000000    20.000000  \n",
       "25%    12252.000000    12.000000    23.480000  \n",
       "50%    16852.000000    17.000000    70.000000  \n",
       "75%    21025.000000    21.000000    70.000000  \n",
       "max    70988.000000    70.000000   590.370000  "
      ]
     },
     "execution_count": 48,
     "metadata": {},
     "output_type": "execute_result"
    }
   ],
   "source": [
    "full_pivot.describe()"
   ]
  },
  {
   "cell_type": "code",
   "execution_count": 49,
   "metadata": {},
   "outputs": [
    {
     "data": {
      "text/html": [
       "<div>\n",
       "<style scoped>\n",
       "    .dataframe tbody tr th:only-of-type {\n",
       "        vertical-align: middle;\n",
       "    }\n",
       "\n",
       "    .dataframe tbody tr th {\n",
       "        vertical-align: top;\n",
       "    }\n",
       "\n",
       "    .dataframe thead th {\n",
       "        text-align: right;\n",
       "    }\n",
       "</style>\n",
       "<table border=\"1\" class=\"dataframe\">\n",
       "  <thead>\n",
       "    <tr style=\"text-align: right;\">\n",
       "      <th></th>\n",
       "      <th>user_id</th>\n",
       "      <th>month</th>\n",
       "      <th>calls_made</th>\n",
       "      <th>minutes_spent</th>\n",
       "      <th>messages_sent</th>\n",
       "      <th>mb_spent</th>\n",
       "      <th>gb_spent</th>\n",
       "      <th>city</th>\n",
       "      <th>plan</th>\n",
       "      <th>total_fee</th>\n",
       "    </tr>\n",
       "  </thead>\n",
       "  <tbody>\n",
       "    <tr>\n",
       "      <td>0</td>\n",
       "      <td>1000</td>\n",
       "      <td>12</td>\n",
       "      <td>16.0</td>\n",
       "      <td>124.0</td>\n",
       "      <td>11.0</td>\n",
       "      <td>1903.0</td>\n",
       "      <td>2.0</td>\n",
       "      <td>Atlanta-Sandy Springs-Roswell, GA MSA</td>\n",
       "      <td>ultimate</td>\n",
       "      <td>70.00</td>\n",
       "    </tr>\n",
       "    <tr>\n",
       "      <td>1</td>\n",
       "      <td>1001</td>\n",
       "      <td>8</td>\n",
       "      <td>27.0</td>\n",
       "      <td>182.0</td>\n",
       "      <td>30.0</td>\n",
       "      <td>6929.0</td>\n",
       "      <td>7.0</td>\n",
       "      <td>Seattle-Tacoma-Bellevue, WA MSA</td>\n",
       "      <td>surf</td>\n",
       "      <td>20.00</td>\n",
       "    </tr>\n",
       "    <tr>\n",
       "      <td>2</td>\n",
       "      <td>1001</td>\n",
       "      <td>9</td>\n",
       "      <td>49.0</td>\n",
       "      <td>315.0</td>\n",
       "      <td>44.0</td>\n",
       "      <td>13333.0</td>\n",
       "      <td>14.0</td>\n",
       "      <td>Seattle-Tacoma-Bellevue, WA MSA</td>\n",
       "      <td>surf</td>\n",
       "      <td>20.00</td>\n",
       "    </tr>\n",
       "    <tr>\n",
       "      <td>3</td>\n",
       "      <td>1001</td>\n",
       "      <td>10</td>\n",
       "      <td>65.0</td>\n",
       "      <td>393.0</td>\n",
       "      <td>53.0</td>\n",
       "      <td>22356.0</td>\n",
       "      <td>22.0</td>\n",
       "      <td>Seattle-Tacoma-Bellevue, WA MSA</td>\n",
       "      <td>surf</td>\n",
       "      <td>90.09</td>\n",
       "    </tr>\n",
       "    <tr>\n",
       "      <td>4</td>\n",
       "      <td>1001</td>\n",
       "      <td>11</td>\n",
       "      <td>64.0</td>\n",
       "      <td>426.0</td>\n",
       "      <td>36.0</td>\n",
       "      <td>18524.0</td>\n",
       "      <td>19.0</td>\n",
       "      <td>Seattle-Tacoma-Bellevue, WA MSA</td>\n",
       "      <td>surf</td>\n",
       "      <td>60.00</td>\n",
       "    </tr>\n",
       "  </tbody>\n",
       "</table>\n",
       "</div>"
      ],
      "text/plain": [
       "   user_id  month  calls_made  minutes_spent  messages_sent  mb_spent  \\\n",
       "0     1000     12        16.0          124.0           11.0    1903.0   \n",
       "1     1001      8        27.0          182.0           30.0    6929.0   \n",
       "2     1001      9        49.0          315.0           44.0   13333.0   \n",
       "3     1001     10        65.0          393.0           53.0   22356.0   \n",
       "4     1001     11        64.0          426.0           36.0   18524.0   \n",
       "\n",
       "   gb_spent                                   city      plan  total_fee  \n",
       "0       2.0  Atlanta-Sandy Springs-Roswell, GA MSA  ultimate      70.00  \n",
       "1       7.0        Seattle-Tacoma-Bellevue, WA MSA      surf      20.00  \n",
       "2      14.0        Seattle-Tacoma-Bellevue, WA MSA      surf      20.00  \n",
       "3      22.0        Seattle-Tacoma-Bellevue, WA MSA      surf      90.09  \n",
       "4      19.0        Seattle-Tacoma-Bellevue, WA MSA      surf      60.00  "
      ]
     },
     "execution_count": 49,
     "metadata": {},
     "output_type": "execute_result"
    }
   ],
   "source": [
    "full_pivot.head()"
   ]
  },
  {
   "cell_type": "code",
   "execution_count": 50,
   "metadata": {},
   "outputs": [
    {
     "data": {
      "image/png": "[encoded data removed]",
      "text/plain": [
       "<Figure size 725.75x648 with 6 Axes>"
      ]
     },
     "metadata": {
      "needs_background": "light"
     },
     "output_type": "display_data"
    }
   ],
   "source": [
    "pp = sns.pairplot(full_pivot, vars=['month', 'minutes_spent'], hue = 'plan', palette=\"Set2\", height=4.5)\n",
    "pp.fig.suptitle(\"Minutes required per month\")\n",
    "plt.show()"
   ]
  },
  {
   "cell_type": "markdown",
   "metadata": {},
   "source": [
    "As we can see the most calls we have in September-December period, which is makes sence since in this period we have a lot of Holidays, so people will call to to friends or relatives. According that we also can see that clients spend more minutes in this period. Clients who use surf plan, which is cheaper, most off all exceed the limits and pay extra money. Users of Ultimate lan seems like have enough minutes per month for their needs."
   ]
  },
  {
   "cell_type": "code",
   "execution_count": 51,
   "metadata": {},
   "outputs": [
    {
     "data": {
      "image/png": "[encoded data removed]",
      "text/plain": [
       "<Figure size 725.75x648 with 6 Axes>"
      ]
     },
     "metadata": {
      "needs_background": "light"
     },
     "output_type": "display_data"
    }
   ],
   "source": [
    "pp = sns.pairplot(full_pivot, vars=['month', 'messages_sent'], hue = 'plan', palette=\"Set1\", height=4.5)\n",
    "pp.fig.suptitle(\"Messages required per month\")\n",
    "plt.show()"
   ]
  },
  {
   "cell_type": "markdown",
   "metadata": {},
   "source": [
    "For messages we see the same picture. Most messages users send on holidays period, and again seems like for surf users the amount of messages is not enough."
   ]
  },
  {
   "cell_type": "code",
   "execution_count": 52,
   "metadata": {},
   "outputs": [
    {
     "data": {
      "image/png": "[encoded data removed]",
      "text/plain": [
       "<Figure size 725.75x648 with 6 Axes>"
      ]
     },
     "metadata": {
      "needs_background": "light"
     },
     "output_type": "display_data"
    }
   ],
   "source": [
    "pp = sns.pairplot(full_pivot, vars=['month', 'gb_spent'], hue = 'plan', palette=\"husl\", height=4.5)\n",
    "pp.fig.suptitle(\"Traffic required per month\")\n",
    "plt.show()"
   ]
  },
  {
   "cell_type": "markdown",
   "metadata": {},
   "source": [
    "We see that the most of users spend near 20 Gb of traffic per month, and again surf users exceeded their limits and needed to pay extra."
   ]
  },
  {
   "cell_type": "markdown",
   "metadata": {},
   "source": [
    "### Calculating mean, standart deviation and dispersion \n"
   ]
  },
  {
   "cell_type": "markdown",
   "metadata": {},
   "source": [
    "First of all need to separate the users with different plans"
   ]
  },
  {
   "cell_type": "code",
   "execution_count": 53,
   "metadata": {},
   "outputs": [
    {
     "data": {
      "text/html": [
       "<div>\n",
       "<style scoped>\n",
       "    .dataframe tbody tr th:only-of-type {\n",
       "        vertical-align: middle;\n",
       "    }\n",
       "\n",
       "    .dataframe tbody tr th {\n",
       "        vertical-align: top;\n",
       "    }\n",
       "\n",
       "    .dataframe thead th {\n",
       "        text-align: right;\n",
       "    }\n",
       "</style>\n",
       "<table border=\"1\" class=\"dataframe\">\n",
       "  <thead>\n",
       "    <tr style=\"text-align: right;\">\n",
       "      <th></th>\n",
       "      <th>user_id</th>\n",
       "      <th>month</th>\n",
       "      <th>calls_made</th>\n",
       "      <th>minutes_spent</th>\n",
       "      <th>messages_sent</th>\n",
       "      <th>mb_spent</th>\n",
       "      <th>gb_spent</th>\n",
       "      <th>city</th>\n",
       "      <th>plan</th>\n",
       "      <th>total_fee</th>\n",
       "    </tr>\n",
       "  </thead>\n",
       "  <tbody>\n",
       "    <tr>\n",
       "      <td>1</td>\n",
       "      <td>1001</td>\n",
       "      <td>8</td>\n",
       "      <td>27.0</td>\n",
       "      <td>182.0</td>\n",
       "      <td>30.0</td>\n",
       "      <td>6929.0</td>\n",
       "      <td>7.0</td>\n",
       "      <td>Seattle-Tacoma-Bellevue, WA MSA</td>\n",
       "      <td>surf</td>\n",
       "      <td>20.00</td>\n",
       "    </tr>\n",
       "    <tr>\n",
       "      <td>2</td>\n",
       "      <td>1001</td>\n",
       "      <td>9</td>\n",
       "      <td>49.0</td>\n",
       "      <td>315.0</td>\n",
       "      <td>44.0</td>\n",
       "      <td>13333.0</td>\n",
       "      <td>14.0</td>\n",
       "      <td>Seattle-Tacoma-Bellevue, WA MSA</td>\n",
       "      <td>surf</td>\n",
       "      <td>20.00</td>\n",
       "    </tr>\n",
       "    <tr>\n",
       "      <td>3</td>\n",
       "      <td>1001</td>\n",
       "      <td>10</td>\n",
       "      <td>65.0</td>\n",
       "      <td>393.0</td>\n",
       "      <td>53.0</td>\n",
       "      <td>22356.0</td>\n",
       "      <td>22.0</td>\n",
       "      <td>Seattle-Tacoma-Bellevue, WA MSA</td>\n",
       "      <td>surf</td>\n",
       "      <td>90.09</td>\n",
       "    </tr>\n",
       "    <tr>\n",
       "      <td>4</td>\n",
       "      <td>1001</td>\n",
       "      <td>11</td>\n",
       "      <td>64.0</td>\n",
       "      <td>426.0</td>\n",
       "      <td>36.0</td>\n",
       "      <td>18524.0</td>\n",
       "      <td>19.0</td>\n",
       "      <td>Seattle-Tacoma-Bellevue, WA MSA</td>\n",
       "      <td>surf</td>\n",
       "      <td>60.00</td>\n",
       "    </tr>\n",
       "    <tr>\n",
       "      <td>5</td>\n",
       "      <td>1001</td>\n",
       "      <td>12</td>\n",
       "      <td>56.0</td>\n",
       "      <td>412.0</td>\n",
       "      <td>44.0</td>\n",
       "      <td>19398.0</td>\n",
       "      <td>19.0</td>\n",
       "      <td>Seattle-Tacoma-Bellevue, WA MSA</td>\n",
       "      <td>surf</td>\n",
       "      <td>60.00</td>\n",
       "    </tr>\n",
       "  </tbody>\n",
       "</table>\n",
       "</div>"
      ],
      "text/plain": [
       "   user_id  month  calls_made  minutes_spent  messages_sent  mb_spent  \\\n",
       "1     1001      8        27.0          182.0           30.0    6929.0   \n",
       "2     1001      9        49.0          315.0           44.0   13333.0   \n",
       "3     1001     10        65.0          393.0           53.0   22356.0   \n",
       "4     1001     11        64.0          426.0           36.0   18524.0   \n",
       "5     1001     12        56.0          412.0           44.0   19398.0   \n",
       "\n",
       "   gb_spent                             city  plan  total_fee  \n",
       "1       7.0  Seattle-Tacoma-Bellevue, WA MSA  surf      20.00  \n",
       "2      14.0  Seattle-Tacoma-Bellevue, WA MSA  surf      20.00  \n",
       "3      22.0  Seattle-Tacoma-Bellevue, WA MSA  surf      90.09  \n",
       "4      19.0  Seattle-Tacoma-Bellevue, WA MSA  surf      60.00  \n",
       "5      19.0  Seattle-Tacoma-Bellevue, WA MSA  surf      60.00  "
      ]
     },
     "execution_count": 53,
     "metadata": {},
     "output_type": "execute_result"
    }
   ],
   "source": [
    "surf_us = full_pivot.query('plan == \"surf\"')\n",
    "surf_us.head()"
   ]
  },
  {
   "cell_type": "code",
   "execution_count": 54,
   "metadata": {},
   "outputs": [
    {
     "data": {
      "text/html": [
       "<div>\n",
       "<style scoped>\n",
       "    .dataframe tbody tr th:only-of-type {\n",
       "        vertical-align: middle;\n",
       "    }\n",
       "\n",
       "    .dataframe tbody tr th {\n",
       "        vertical-align: top;\n",
       "    }\n",
       "\n",
       "    .dataframe thead th {\n",
       "        text-align: right;\n",
       "    }\n",
       "</style>\n",
       "<table border=\"1\" class=\"dataframe\">\n",
       "  <thead>\n",
       "    <tr style=\"text-align: right;\">\n",
       "      <th></th>\n",
       "      <th>user_id</th>\n",
       "      <th>month</th>\n",
       "      <th>calls_made</th>\n",
       "      <th>minutes_spent</th>\n",
       "      <th>messages_sent</th>\n",
       "      <th>mb_spent</th>\n",
       "      <th>gb_spent</th>\n",
       "      <th>city</th>\n",
       "      <th>plan</th>\n",
       "      <th>total_fee</th>\n",
       "    </tr>\n",
       "  </thead>\n",
       "  <tbody>\n",
       "    <tr>\n",
       "      <td>0</td>\n",
       "      <td>1000</td>\n",
       "      <td>12</td>\n",
       "      <td>16.0</td>\n",
       "      <td>124.0</td>\n",
       "      <td>11.0</td>\n",
       "      <td>1903.0</td>\n",
       "      <td>2.0</td>\n",
       "      <td>Atlanta-Sandy Springs-Roswell, GA MSA</td>\n",
       "      <td>ultimate</td>\n",
       "      <td>70.0</td>\n",
       "    </tr>\n",
       "    <tr>\n",
       "      <td>19</td>\n",
       "      <td>1006</td>\n",
       "      <td>11</td>\n",
       "      <td>2.0</td>\n",
       "      <td>10.0</td>\n",
       "      <td>15.0</td>\n",
       "      <td>2072.0</td>\n",
       "      <td>3.0</td>\n",
       "      <td>San Francisco-Oakland-Berkeley, CA MSA</td>\n",
       "      <td>ultimate</td>\n",
       "      <td>70.0</td>\n",
       "    </tr>\n",
       "    <tr>\n",
       "      <td>20</td>\n",
       "      <td>1006</td>\n",
       "      <td>12</td>\n",
       "      <td>9.0</td>\n",
       "      <td>59.0</td>\n",
       "      <td>139.0</td>\n",
       "      <td>32144.0</td>\n",
       "      <td>32.0</td>\n",
       "      <td>San Francisco-Oakland-Berkeley, CA MSA</td>\n",
       "      <td>ultimate</td>\n",
       "      <td>84.0</td>\n",
       "    </tr>\n",
       "    <tr>\n",
       "      <td>26</td>\n",
       "      <td>1008</td>\n",
       "      <td>10</td>\n",
       "      <td>71.0</td>\n",
       "      <td>476.0</td>\n",
       "      <td>21.0</td>\n",
       "      <td>17131.0</td>\n",
       "      <td>17.0</td>\n",
       "      <td>Orlando-Kissimmee-Sanford, FL MSA</td>\n",
       "      <td>ultimate</td>\n",
       "      <td>70.0</td>\n",
       "    </tr>\n",
       "    <tr>\n",
       "      <td>27</td>\n",
       "      <td>1008</td>\n",
       "      <td>11</td>\n",
       "      <td>63.0</td>\n",
       "      <td>446.0</td>\n",
       "      <td>37.0</td>\n",
       "      <td>23706.0</td>\n",
       "      <td>24.0</td>\n",
       "      <td>Orlando-Kissimmee-Sanford, FL MSA</td>\n",
       "      <td>ultimate</td>\n",
       "      <td>70.0</td>\n",
       "    </tr>\n",
       "  </tbody>\n",
       "</table>\n",
       "</div>"
      ],
      "text/plain": [
       "    user_id  month  calls_made  minutes_spent  messages_sent  mb_spent  \\\n",
       "0      1000     12        16.0          124.0           11.0    1903.0   \n",
       "19     1006     11         2.0           10.0           15.0    2072.0   \n",
       "20     1006     12         9.0           59.0          139.0   32144.0   \n",
       "26     1008     10        71.0          476.0           21.0   17131.0   \n",
       "27     1008     11        63.0          446.0           37.0   23706.0   \n",
       "\n",
       "    gb_spent                                    city      plan  total_fee  \n",
       "0        2.0   Atlanta-Sandy Springs-Roswell, GA MSA  ultimate       70.0  \n",
       "19       3.0  San Francisco-Oakland-Berkeley, CA MSA  ultimate       70.0  \n",
       "20      32.0  San Francisco-Oakland-Berkeley, CA MSA  ultimate       84.0  \n",
       "26      17.0       Orlando-Kissimmee-Sanford, FL MSA  ultimate       70.0  \n",
       "27      24.0       Orlando-Kissimmee-Sanford, FL MSA  ultimate       70.0  "
      ]
     },
     "execution_count": 54,
     "metadata": {},
     "output_type": "execute_result"
    }
   ],
   "source": [
    "ultimate_us = full_pivot.query('plan == \"ultimate\"')\n",
    "ultimate_us.head()"
   ]
  },
  {
   "cell_type": "markdown",
   "metadata": {},
   "source": [
    "#### Calls"
   ]
  },
  {
   "cell_type": "code",
   "execution_count": 55,
   "metadata": {},
   "outputs": [
    {
     "data": {
      "image/png": "[encoded data removed]",
      "text/plain": [
       "<Figure size 864x360 with 1 Axes>"
      ]
     },
     "metadata": {
      "needs_background": "light"
     },
     "output_type": "display_data"
    },
    {
     "data": {
      "image/png": "[encoded data removed]",
      "text/plain": [
       "<Figure size 864x360 with 1 Axes>"
      ]
     },
     "metadata": {
      "needs_background": "light"
     },
     "output_type": "display_data"
    }
   ],
   "source": [
    "(surf_us \n",
    "          .pivot_table(index='month', values='minutes_spent', aggfunc='mean')\n",
    "          .plot(grid=True, figsize=(12, 5))\n",
    ")\n",
    "plt.xlabel(\"Month\")\n",
    "plt.ylabel(\"Minutes spent\")\n",
    "plt.legend(bbox_to_anchor=(1, 0.6))\n",
    "plt.title(\"Average time spent by Surf users\")\n",
    "plt.show()\n",
    "(ultimate_us \n",
    "          .pivot_table(index='month', values='minutes_spent', aggfunc='mean')\n",
    "          .plot(grid=True, figsize=(12, 5))\n",
    ")\n",
    "plt.xlabel(\"Month\")\n",
    "plt.ylabel(\"Minutes spent\")\n",
    "plt.legend(bbox_to_anchor=(1, 0.6))\n",
    "plt.title(\"Average time spent by Ultimate users\")\n",
    "plt.show()"
   ]
  },
  {
   "cell_type": "code",
   "execution_count": 56,
   "metadata": {},
   "outputs": [
    {
     "name": "stdout",
     "output_type": "stream",
     "text": [
      "Average time spent by Surf plan users- 428.75 minutes\n",
      "Average time spent by Ultimate plan users- 430.45 minutes\n"
     ]
    }
   ],
   "source": [
    "surf_calls_mean = surf_us['minutes_spent'].mean()\n",
    "print('Average time spent by Surf plan users- {:.2f} minutes'.format(surf_calls_mean))\n",
    "ultimate_calls_mean = ultimate_us['minutes_spent'].mean()\n",
    "print('Average time spent by Ultimate plan users- {:.2f} minutes'.format(ultimate_calls_mean))"
   ]
  },
  {
   "cell_type": "code",
   "execution_count": 57,
   "metadata": {},
   "outputs": [
    {
     "name": "stdout",
     "output_type": "stream",
     "text": [
      "Dispersion of calls amount by month - 54968.28\n",
      "Dispersion of calls amount by month - 57844.46\n"
     ]
    }
   ],
   "source": [
    "surf_calls_var = np.var(surf_us['minutes_spent'], ddof=1)\n",
    "print('Dispersion of calls amount by month - {:.2f}'.format(surf_calls_var))\n",
    "ultimate_calls_var = np.var(ultimate_us['minutes_spent'], ddof=1)\n",
    "print('Dispersion of calls amount by month - {:.2f}'.format(ultimate_calls_var))"
   ]
  },
  {
   "cell_type": "code",
   "execution_count": 58,
   "metadata": {},
   "outputs": [
    {
     "name": "stdout",
     "output_type": "stream",
     "text": [
      "Standart deviation of calls amount - 234.45\n",
      "Standart deviation of calls amount - 240.51\n"
     ]
    }
   ],
   "source": [
    "surf_calls_standard_deviation = np.sqrt(surf_calls_var)\n",
    "print('Standart deviation of calls amount - {:.2f}'.format(surf_calls_standard_deviation))\n",
    "ultimate_calls_standard_deviation = np.sqrt(ultimate_calls_var)\n",
    "print('Standart deviation of calls amount - {:.2f}'.format(ultimate_calls_standard_deviation))"
   ]
  },
  {
   "cell_type": "code",
   "execution_count": 59,
   "metadata": {},
   "outputs": [
    {
     "data": {
      "text/plain": [
       "count    1573.000000\n",
       "mean      428.749523\n",
       "std       234.453150\n",
       "min         0.000000\n",
       "25%       272.000000\n",
       "50%       425.000000\n",
       "75%       576.000000\n",
       "max      1510.000000\n",
       "Name: minutes_spent, dtype: float64"
      ]
     },
     "execution_count": 59,
     "metadata": {},
     "output_type": "execute_result"
    }
   ],
   "source": [
    "surf_us['minutes_spent'].describe()"
   ]
  },
  {
   "cell_type": "code",
   "execution_count": 60,
   "metadata": {},
   "outputs": [
    {
     "data": {
      "text/plain": [
       "count     720.000000\n",
       "mean      430.450000\n",
       "std       240.508762\n",
       "min         0.000000\n",
       "25%       260.000000\n",
       "50%       424.000000\n",
       "75%       565.250000\n",
       "max      1369.000000\n",
       "Name: minutes_spent, dtype: float64"
      ]
     },
     "execution_count": 60,
     "metadata": {},
     "output_type": "execute_result"
    }
   ],
   "source": [
    "ultimate_us['minutes_spent'].describe()"
   ]
  },
  {
   "cell_type": "code",
   "execution_count": 61,
   "metadata": {},
   "outputs": [
    {
     "name": "stdout",
     "output_type": "stream",
     "text": [
      "Amount of minutes needed to satisfy 99% of clients - 1132.11\n",
      "Amount of minutes needed to satisfy 99% of clients - 1151.98\n"
     ]
    }
   ],
   "source": [
    "print('Amount of minutes needed to satisfy 99% of clients - {:.2f}'.format(surf_calls_mean + 3 * surf_calls_standard_deviation))\n",
    "print('Amount of minutes needed to satisfy 99% of clients - {:.2f}'.format(ultimate_calls_mean + 3 * ultimate_calls_standard_deviation))"
   ]
  },
  {
   "cell_type": "markdown",
   "metadata": {},
   "source": [
    "So we can see that users of Surf plan and users of Ultimate plan spent equal minutes per month, also there is almost the same amount of minutes they need to satisfy their needs. "
   ]
  },
  {
   "cell_type": "markdown",
   "metadata": {},
   "source": [
    "#### Messages"
   ]
  },
  {
   "cell_type": "code",
   "execution_count": 62,
   "metadata": {},
   "outputs": [
    {
     "data": {
      "image/png": "[encoded data removed]",
      "text/plain": [
       "<Figure size 864x360 with 1 Axes>"
      ]
     },
     "metadata": {
      "needs_background": "light"
     },
     "output_type": "display_data"
    },
    {
     "data": {
      "image/png": "[encoded data removed]",
      "text/plain": [
       "<Figure size 864x360 with 1 Axes>"
      ]
     },
     "metadata": {
      "needs_background": "light"
     },
     "output_type": "display_data"
    }
   ],
   "source": [
    "(surf_us \n",
    "          .pivot_table(index='month', values='messages_sent', aggfunc='mean')\n",
    "          .plot(grid=True, figsize=(12, 5))\n",
    ")\n",
    "plt.xlabel(\"Month\")\n",
    "plt.ylabel(\"Messages sent\")\n",
    "plt.legend(bbox_to_anchor=(1, 0.6))\n",
    "plt.title(\"Average amount of messages spent by Surf users\")\n",
    "plt.show()\n",
    "(ultimate_us \n",
    "          .pivot_table(index='month', values='messages_sent', aggfunc='mean')\n",
    "          .plot(grid=True, figsize=(12, 5))\n",
    ")\n",
    "plt.xlabel(\"Month\")\n",
    "plt.ylabel(\"Messages sent\")\n",
    "plt.legend(bbox_to_anchor=(1, 0.6))\n",
    "plt.title(\"Average amount of messages spent by Ultimate users\")\n",
    "plt.show()"
   ]
  },
  {
   "cell_type": "code",
   "execution_count": 63,
   "metadata": {},
   "outputs": [
    {
     "name": "stdout",
     "output_type": "stream",
     "text": [
      "Average messages amount spent by Surf plan users - 31\n",
      "Average messages amount spent by Ultimate plan users - 38\n"
     ]
    }
   ],
   "source": [
    "surf_mes_mean = surf_us['messages_sent'].mean()\n",
    "print('Average messages amount spent by Surf plan users - {:.0f}' .format(surf_mes_mean))\n",
    "ult_mes_mean = ultimate_us['messages_sent'].mean()\n",
    "print('Average messages amount spent by Ultimate plan users - {:.0f}' .format(ult_mes_mean))"
   ]
  },
  {
   "cell_type": "code",
   "execution_count": 64,
   "metadata": {},
   "outputs": [
    {
     "name": "stdout",
     "output_type": "stream",
     "text": [
      "Dispersion of messages amount by month for Surf plan - 1126.72\n",
      "Dispersion of messages amount by month for Ultimate plan - 1208.76\n"
     ]
    }
   ],
   "source": [
    "surf_mes_var = np.var(surf_us['messages_sent'], ddof=1)\n",
    "print('Dispersion of messages amount by month for Surf plan - {:.2f}'.format(surf_mes_var))\n",
    "ult_mes_var = np.var(ultimate_us['messages_sent'], ddof=1)\n",
    "print('Dispersion of messages amount by month for Ultimate plan - {:.2f}'.format(ult_mes_var))"
   ]
  },
  {
   "cell_type": "code",
   "execution_count": 65,
   "metadata": {},
   "outputs": [
    {
     "name": "stdout",
     "output_type": "stream",
     "text": [
      "Standart deviation of messages amount for Surf plan - 33.57\n",
      "Standart deviation of messages amount for Ultimate plan - 34.77\n"
     ]
    }
   ],
   "source": [
    "surf_mes_standard_deviation = np.sqrt(surf_mes_var)\n",
    "print('Standart deviation of messages amount for Surf plan - {:.2f}'.format(surf_mes_standard_deviation))\n",
    "ult_mes_standard_deviation = np.sqrt(ult_mes_var)\n",
    "print('Standart deviation of messages amount for Ultimate plan - {:.2f}'.format(ult_mes_standard_deviation))"
   ]
  },
  {
   "cell_type": "code",
   "execution_count": 66,
   "metadata": {},
   "outputs": [
    {
     "data": {
      "text/plain": [
       "count    1573.000000\n",
       "mean       31.159568\n",
       "std        33.566717\n",
       "min         0.000000\n",
       "25%         3.000000\n",
       "50%        24.000000\n",
       "75%        47.000000\n",
       "max       266.000000\n",
       "Name: messages_sent, dtype: float64"
      ]
     },
     "execution_count": 66,
     "metadata": {},
     "output_type": "execute_result"
    }
   ],
   "source": [
    "surf_us['messages_sent'].describe()"
   ]
  },
  {
   "cell_type": "code",
   "execution_count": 67,
   "metadata": {},
   "outputs": [
    {
     "data": {
      "text/plain": [
       "count    720.000000\n",
       "mean      37.551389\n",
       "std       34.767179\n",
       "min        0.000000\n",
       "25%        7.000000\n",
       "50%       30.000000\n",
       "75%       61.000000\n",
       "max      166.000000\n",
       "Name: messages_sent, dtype: float64"
      ]
     },
     "execution_count": 67,
     "metadata": {},
     "output_type": "execute_result"
    }
   ],
   "source": [
    "ultimate_us['messages_sent'].describe()"
   ]
  },
  {
   "cell_type": "code",
   "execution_count": 68,
   "metadata": {},
   "outputs": [
    {
     "name": "stdout",
     "output_type": "stream",
     "text": [
      "Amount of messages needed to satisfy 99% of clients - 131.86\n",
      "Amount of messages needed to satisfy 99% of clients - 141.85\n"
     ]
    }
   ],
   "source": [
    "print('Amount of messages needed to satisfy 99% of clients - {:.2f}'.format(surf_mes_mean + 3 * surf_mes_standard_deviation))\n",
    "print('Amount of messages needed to satisfy 99% of clients - {:.2f}'.format(ult_mes_mean + 3 * ult_mes_standard_deviation))"
   ]
  },
  {
   "cell_type": "markdown",
   "metadata": {},
   "source": [
    "We see that users of both plans use almost the same amount of messages per month in average"
   ]
  },
  {
   "cell_type": "markdown",
   "metadata": {},
   "source": [
    "#### Internet Traffic"
   ]
  },
  {
   "cell_type": "code",
   "execution_count": 69,
   "metadata": {},
   "outputs": [
    {
     "data": {
      "image/png": "[encoded data removed]",
      "text/plain": [
       "<Figure size 864x360 with 1 Axes>"
      ]
     },
     "metadata": {
      "needs_background": "light"
     },
     "output_type": "display_data"
    },
    {
     "data": {
      "image/png": "[encoded data removed]",
      "text/plain": [
       "<Figure size 864x360 with 1 Axes>"
      ]
     },
     "metadata": {
      "needs_background": "light"
     },
     "output_type": "display_data"
    }
   ],
   "source": [
    "(surf_us \n",
    "          .pivot_table(index='month', values='gb_spent', aggfunc='mean')\n",
    "          .plot(grid=True, figsize=(12, 5))\n",
    ")\n",
    "plt.xlabel(\"Month\")\n",
    "plt.ylabel(\"Traffic spent\")\n",
    "plt.legend(bbox_to_anchor=(1, 0.6))\n",
    "plt.title(\"Average amount of traffic spent by Surf users\")\n",
    "plt.show()\n",
    "(ultimate_us \n",
    "          .pivot_table(index='month', values='gb_spent', aggfunc='mean')\n",
    "          .plot(grid=True, figsize=(12, 5))\n",
    ")\n",
    "plt.xlabel(\"Month\")\n",
    "plt.ylabel(\"Traffic spent\")\n",
    "plt.legend(bbox_to_anchor=(1, 0.6))\n",
    "plt.title(\"Average amount of traffic spent by Ultimate users\")\n",
    "plt.show()"
   ]
  },
  {
   "cell_type": "code",
   "execution_count": 70,
   "metadata": {},
   "outputs": [
    {
     "name": "stdout",
     "output_type": "stream",
     "text": [
      "Average traffic amount spent by Surf plan users - 16.68\n",
      "Average traffic amount spent by Ultimate plan users - 17.33\n"
     ]
    }
   ],
   "source": [
    "surf_gb_mean = surf_us['gb_spent'].mean()\n",
    "print('Average traffic amount spent by Surf plan users - {:.2f}' .format(surf_gb_mean))\n",
    "ult_gb_mean = ultimate_us['gb_spent'].mean()\n",
    "print('Average traffic amount spent by Ultimate plan users - {:.2f}' .format(ult_gb_mean))"
   ]
  },
  {
   "cell_type": "code",
   "execution_count": 71,
   "metadata": {},
   "outputs": [
    {
     "name": "stdout",
     "output_type": "stream",
     "text": [
      "Dispersion of traffic amount by month for Surf plan - 61.65\n",
      "Dispersion of traffic amount by month for Ultimate plan - 58.94\n"
     ]
    }
   ],
   "source": [
    "surf_gb_var = np.var(surf_us['gb_spent'], ddof=1)\n",
    "print('Dispersion of traffic amount by month for Surf plan - {:.2f}'.format(surf_gb_var))\n",
    "ult_gb_var = np.var(ultimate_us['gb_spent'], ddof=1)\n",
    "print('Dispersion of traffic amount by month for Ultimate plan - {:.2f}'.format(ult_gb_var))"
   ]
  },
  {
   "cell_type": "code",
   "execution_count": 72,
   "metadata": {},
   "outputs": [
    {
     "name": "stdout",
     "output_type": "stream",
     "text": [
      "Standart deviation of traffic amount for Surf plan - 7.85\n",
      "Standart deviation of traffic amount for Ultimate plan - 7.68\n"
     ]
    }
   ],
   "source": [
    "surf_gb_standard_deviation = np.sqrt(surf_gb_var)\n",
    "print('Standart deviation of traffic amount for Surf plan - {:.2f}'.format(surf_gb_standard_deviation))\n",
    "ult_gb_standard_deviation = np.sqrt(ult_gb_var)\n",
    "print('Standart deviation of traffic amount for Ultimate plan - {:.2f}'.format(ult_gb_standard_deviation))"
   ]
  },
  {
   "cell_type": "code",
   "execution_count": 73,
   "metadata": {},
   "outputs": [
    {
     "data": {
      "text/plain": [
       "count    1573.000000\n",
       "mean       16.684679\n",
       "std         7.852067\n",
       "min         0.000000\n",
       "25%        12.000000\n",
       "50%        17.000000\n",
       "75%        21.000000\n",
       "max        70.000000\n",
       "Name: gb_spent, dtype: float64"
      ]
     },
     "execution_count": 73,
     "metadata": {},
     "output_type": "execute_result"
    }
   ],
   "source": [
    "surf_us['gb_spent'].describe()"
   ]
  },
  {
   "cell_type": "code",
   "execution_count": 74,
   "metadata": {},
   "outputs": [
    {
     "data": {
      "text/plain": [
       "count    720.000000\n",
       "mean      17.334722\n",
       "std        7.677282\n",
       "min        0.000000\n",
       "25%       13.000000\n",
       "50%       17.000000\n",
       "75%       21.000000\n",
       "max       46.000000\n",
       "Name: gb_spent, dtype: float64"
      ]
     },
     "execution_count": 74,
     "metadata": {},
     "output_type": "execute_result"
    }
   ],
   "source": [
    "ultimate_us['gb_spent'].describe()"
   ]
  },
  {
   "cell_type": "code",
   "execution_count": 75,
   "metadata": {},
   "outputs": [
    {
     "name": "stdout",
     "output_type": "stream",
     "text": [
      "Amount of traffic needed to satisfy 99% of clients - 40.24\n",
      "Amount of traffic needed to satisfy 99% of clients - 40.37\n"
     ]
    }
   ],
   "source": [
    "print('Amount of traffic needed to satisfy 99% of clients - {:.2f}'.format(surf_gb_mean + 3 * surf_gb_standard_deviation))\n",
    "print('Amount of traffic needed to satisfy 99% of clients - {:.2f}'.format(ult_gb_mean + 3 * ult_gb_standard_deviation))"
   ]
  },
  {
   "cell_type": "markdown",
   "metadata": {},
   "source": [
    "So after calculations we see that it seems like in average users of both plans spent almost equal traffic amount, but after we look on the deviation, standart dispersion and graphs we can see that Surf plan users start to use more traffic in the holiday period (it may be connected with shopping, they might order gifts for friends and relatives, also on those period we have a sale time: Black Friday, Cyber Monday etc), while Ultimate plan users spend traffic more evenly during the year."
   ]
  },
  {
   "cell_type": "markdown",
   "metadata": {},
   "source": [
    "# Conclusion\n",
    "After calculations and visualization of our Data, we can see that for both plans we have the very same results. Users start to be more active closer to the year end and use more calls, messages and traffic. It can be connected with holidays and sales time we have in this period. Everybody wants to say greetings to their friends and relatives and make a good shopping. What is interesting is the amount of spent minutes, messages and traffic is almost equal for both plan. So I can assume for this stage that selling a Surf plan is more profitable since those users pay more extra money because they exceed their limits while Ultimate plan users almost always stay in limits."
   ]
  },
  {
   "cell_type": "markdown",
   "metadata": {},
   "source": [
    "_____\n",
    "_____\n",
    "_____"
   ]
  },
  {
   "cell_type": "markdown",
   "metadata": {},
   "source": [
    "# Step 4. Test the hypotheses"
   ]
  },
  {
   "cell_type": "markdown",
   "metadata": {},
   "source": [
    "## To do list:\n",
    "Check following hypothesis:\n",
    " -  The average revenue from users of Ultimate and Surf calling plans differs.\n",
    " -  The average revenue from users in NY-NJ area is different from that of the users from other regions."
   ]
  },
  {
   "cell_type": "markdown",
   "metadata": {},
   "source": [
    "### Checking the hypothes that average revenue from users of Ultimate and Surf calling plans differs"
   ]
  },
  {
   "cell_type": "markdown",
   "metadata": {},
   "source": [
    "This task is straightforward, we will take 'total_fee' columns for each plan as a series. Then use statistical methods to compare the means of two plans using scipy.stats.ttest_ind() function. Here is our hypothesis:\n",
    "\n",
    " -  Null hypothesis: There are no statistically differences between the average revenue form users of Ultimate and Surf calling plans.\n",
    " -  Alternative hypothesis: There are statisticaly difference between the average revenue from users of Ultimate and Surf calling plans.\n",
    " \n",
    " A significance level, also known as alpha we will take as 0.05 as the most common nowadays."
   ]
  },
  {
   "cell_type": "code",
   "execution_count": 76,
   "metadata": {},
   "outputs": [
    {
     "name": "stdout",
     "output_type": "stream",
     "text": [
      "p-value: 3.596177345135958e-08\n",
      "We reject the null hypothesis (there are statisticall differences)!\n"
     ]
    }
   ],
   "source": [
    "total_surf = surf_us['total_fee']\n",
    "total_ult = ultimate_us['total_fee']\n",
    "alpha = 0.05\n",
    "results = st.ttest_ind(total_surf, total_ult)\n",
    "print('p-value:', results.pvalue)\n",
    "if results.pvalue < alpha:\n",
    "    print(\"We reject the null hypothesis (there are statisticall differences)!\")\n",
    "else:\n",
    "    print(\"We can't reject the null hypothesis (there are no statisticall differences)!\")"
   ]
  },
  {
   "cell_type": "code",
   "execution_count": 77,
   "metadata": {},
   "outputs": [
    {
     "name": "stdout",
     "output_type": "stream",
     "text": [
      "Average fee coming from the \"surf\" plan is: 61 USD\n",
      "Average fee coming from the \"ultimate\" plan is: 72 USD\n"
     ]
    }
   ],
   "source": [
    "print('Average fee coming from the \"surf\" plan is:', round(np.mean(total_surf)), 'USD')\n",
    "print('Average fee coming from the \"ultimate\" plan is:', round(np.mean(total_ult)), 'USD')"
   ]
  },
  {
   "cell_type": "markdown",
   "metadata": {},
   "source": [
    "We see that hypothese that average revenue from users of Ultimate and Surf calling plans differs is true. Average fee for Ultimate plan users is bigger than fee for Surf plan users."
   ]
  },
  {
   "cell_type": "markdown",
   "metadata": {},
   "source": [
    "### The average revenue from users in NY-NJ area is different from that of the users from other regions."
   ]
  },
  {
   "cell_type": "markdown",
   "metadata": {},
   "source": [
    "For this task, we need to find users who live in the NY-NJ regions. It is not directly indicated in the data, but we have a city column, which mentioned the city and region together. We will pull out the region from there. The rule to assign NY-NJ region is as follows: If NY and/or NJ exist in the city, then we will categorize this row as \"NY-NJ\", otherwise we will categorize it as \"other\".\n",
    "-  The null hypotese is \"The revenue of citizens of NY-NJ regions and of other regions are have no significantly statistical differences\"\n",
    "-  Alternative hypotese: There are statistical differences between average revenue of NY-NJ citizens and citizens of other regions.\n",
    "-  Alpha is 0.05"
   ]
  },
  {
   "cell_type": "code",
   "execution_count": 78,
   "metadata": {},
   "outputs": [
    {
     "name": "stdout",
     "output_type": "stream",
     "text": [
      "NY-NJ\n"
     ]
    }
   ],
   "source": [
    "def region(city):\n",
    "    target = ['NY', 'NJ']\n",
    "    region = city.split(',')[1].split()[0].split('-')\n",
    "    for i in region:\n",
    "        if i in target:\n",
    "            return 'NY-NJ'\n",
    "        \n",
    "print(region(full_pivot['city'][457]))\n"
   ]
  },
  {
   "cell_type": "code",
   "execution_count": 79,
   "metadata": {},
   "outputs": [
    {
     "data": {
      "text/html": [
       "<div>\n",
       "<style scoped>\n",
       "    .dataframe tbody tr th:only-of-type {\n",
       "        vertical-align: middle;\n",
       "    }\n",
       "\n",
       "    .dataframe tbody tr th {\n",
       "        vertical-align: top;\n",
       "    }\n",
       "\n",
       "    .dataframe thead th {\n",
       "        text-align: right;\n",
       "    }\n",
       "</style>\n",
       "<table border=\"1\" class=\"dataframe\">\n",
       "  <thead>\n",
       "    <tr style=\"text-align: right;\">\n",
       "      <th></th>\n",
       "      <th>user_id</th>\n",
       "      <th>month</th>\n",
       "      <th>calls_made</th>\n",
       "      <th>minutes_spent</th>\n",
       "      <th>messages_sent</th>\n",
       "      <th>mb_spent</th>\n",
       "      <th>gb_spent</th>\n",
       "      <th>city</th>\n",
       "      <th>plan</th>\n",
       "      <th>total_fee</th>\n",
       "      <th>region</th>\n",
       "    </tr>\n",
       "  </thead>\n",
       "  <tbody>\n",
       "    <tr>\n",
       "      <td>700</td>\n",
       "      <td>1147</td>\n",
       "      <td>6</td>\n",
       "      <td>98.0</td>\n",
       "      <td>641.0</td>\n",
       "      <td>23.0</td>\n",
       "      <td>34920.0</td>\n",
       "      <td>35.0</td>\n",
       "      <td>Urban Honolulu, HI MSA</td>\n",
       "      <td>surf</td>\n",
       "      <td>224.23</td>\n",
       "      <td>None</td>\n",
       "    </tr>\n",
       "    <tr>\n",
       "      <td>1216</td>\n",
       "      <td>1257</td>\n",
       "      <td>9</td>\n",
       "      <td>66.0</td>\n",
       "      <td>590.0</td>\n",
       "      <td>34.0</td>\n",
       "      <td>5078.0</td>\n",
       "      <td>5.0</td>\n",
       "      <td>New York-Newark-Jersey City, NY-NJ-PA MSA</td>\n",
       "      <td>surf</td>\n",
       "      <td>22.70</td>\n",
       "      <td>NY-NJ</td>\n",
       "    </tr>\n",
       "    <tr>\n",
       "      <td>1289</td>\n",
       "      <td>1273</td>\n",
       "      <td>10</td>\n",
       "      <td>39.0</td>\n",
       "      <td>237.0</td>\n",
       "      <td>44.0</td>\n",
       "      <td>10737.0</td>\n",
       "      <td>11.0</td>\n",
       "      <td>Baton Rouge, LA MSA</td>\n",
       "      <td>ultimate</td>\n",
       "      <td>70.00</td>\n",
       "      <td>None</td>\n",
       "    </tr>\n",
       "    <tr>\n",
       "      <td>1452</td>\n",
       "      <td>1316</td>\n",
       "      <td>11</td>\n",
       "      <td>34.0</td>\n",
       "      <td>259.0</td>\n",
       "      <td>66.0</td>\n",
       "      <td>20191.0</td>\n",
       "      <td>20.0</td>\n",
       "      <td>Tulsa, OK MSA</td>\n",
       "      <td>surf</td>\n",
       "      <td>70.48</td>\n",
       "      <td>None</td>\n",
       "    </tr>\n",
       "    <tr>\n",
       "      <td>25</td>\n",
       "      <td>1007</td>\n",
       "      <td>12</td>\n",
       "      <td>87.0</td>\n",
       "      <td>617.0</td>\n",
       "      <td>50.0</td>\n",
       "      <td>29096.0</td>\n",
       "      <td>29.0</td>\n",
       "      <td>Grand Rapids-Kentwood, MI MSA</td>\n",
       "      <td>surf</td>\n",
       "      <td>163.51</td>\n",
       "      <td>None</td>\n",
       "    </tr>\n",
       "  </tbody>\n",
       "</table>\n",
       "</div>"
      ],
      "text/plain": [
       "      user_id  month  calls_made  minutes_spent  messages_sent  mb_spent  \\\n",
       "700      1147      6        98.0          641.0           23.0   34920.0   \n",
       "1216     1257      9        66.0          590.0           34.0    5078.0   \n",
       "1289     1273     10        39.0          237.0           44.0   10737.0   \n",
       "1452     1316     11        34.0          259.0           66.0   20191.0   \n",
       "25       1007     12        87.0          617.0           50.0   29096.0   \n",
       "\n",
       "      gb_spent                                       city      plan  \\\n",
       "700       35.0                     Urban Honolulu, HI MSA      surf   \n",
       "1216       5.0  New York-Newark-Jersey City, NY-NJ-PA MSA      surf   \n",
       "1289      11.0                        Baton Rouge, LA MSA  ultimate   \n",
       "1452      20.0                              Tulsa, OK MSA      surf   \n",
       "25        29.0              Grand Rapids-Kentwood, MI MSA      surf   \n",
       "\n",
       "      total_fee region  \n",
       "700      224.23   None  \n",
       "1216      22.70  NY-NJ  \n",
       "1289      70.00   None  \n",
       "1452      70.48   None  \n",
       "25       163.51   None  "
      ]
     },
     "execution_count": 79,
     "metadata": {},
     "output_type": "execute_result"
    }
   ],
   "source": [
    "full_pivot['region'] = full_pivot['city'].apply(region)\n",
    "full_pivot.sample(5)"
   ]
  },
  {
   "cell_type": "code",
   "execution_count": 80,
   "metadata": {},
   "outputs": [
    {
     "data": {
      "text/plain": [
       "other    1805\n",
       "NY-NJ     488\n",
       "Name: region, dtype: int64"
      ]
     },
     "execution_count": 80,
     "metadata": {},
     "output_type": "execute_result"
    }
   ],
   "source": [
    "full_pivot.region.fillna('other', inplace=True)\n",
    "full_pivot['region'].value_counts()"
   ]
  },
  {
   "cell_type": "code",
   "execution_count": 81,
   "metadata": {},
   "outputs": [
    {
     "name": "stdout",
     "output_type": "stream",
     "text": [
      "p-value: 0.10987688433462241\n",
      "We can't reject the null hypothesis.\\That means,average revenues from NY-NJ and other regions have not statistically significantly differences!\n"
     ]
    }
   ],
   "source": [
    "total_nynj = full_pivot[full_pivot['region'] == 'NY-NJ']['total_fee']\n",
    "total_other = full_pivot[full_pivot['region'] == 'other']['total_fee']\n",
    "alpha = 0.05\n",
    "results = st.ttest_ind(total_nynj, total_other)\n",
    "print('p-value:', results.pvalue)\n",
    "if results.pvalue < alpha:\n",
    "    print(\"We reject the null hypothesis. \\\n",
    "That means, average revenues from NY-NJ and other regions have statistically differences!\")\n",
    "else:\n",
    "    print(\"We can't reject the null hypothesis.\\That means,average revenues from NY-NJ and other regions have not statistically significantly differences!\")"
   ]
  },
  {
   "cell_type": "code",
   "execution_count": 82,
   "metadata": {},
   "outputs": [
    {
     "name": "stdout",
     "output_type": "stream",
     "text": [
      "Average revenue coming from user who lives in NY-NJ regions is equal to: 61 USD\n",
      "Average revenue coming from user who lives in other regions is equal to: 65 USD\n"
     ]
    }
   ],
   "source": [
    "print('Average revenue coming from user who lives in NY-NJ regions is equal to:', round(np.mean(total_nynj)),'USD')\n",
    "print('Average revenue coming from user who lives in other regions is equal to:', round(np.mean(total_other)),'USD')"
   ]
  },
  {
   "cell_type": "markdown",
   "metadata": {},
   "source": [
    "As we see fees of users who lives in NY-NJ regions are not significantly differs from thos who lives in other regions."
   ]
  },
  {
   "cell_type": "markdown",
   "metadata": {},
   "source": [
    "# Conclusion\n",
    "We checked 2 hypotheses. First one we checked hypothese that revenue from those who use \"Surf\" plan differs than revenue from those who use \"Ultimate\". I took that revenues are equal for 2 plans as a null hypothese. The alternative was that revenues are different. After calculations I got the result which showed that alternative hypothese is True and revenue for both plans is defferent. \n",
    "Second one was hypothese that NY-NJ citizens bring different revenue than citizens of other regions. And again for null hypothese I took the hypothese that they are almost equal, and that they are different for the alternative hypothese. As we can see the null hypothese is True. And average revenue from NY-NJ citizens is almost equal with revenue from citizens from other regions."
   ]
  },
  {
   "cell_type": "markdown",
   "metadata": {},
   "source": [
    "____\n",
    "____\n",
    "_____"
   ]
  },
  {
   "cell_type": "markdown",
   "metadata": {},
   "source": [
    "# Step5. Overall conclusion."
   ]
  },
  {
   "cell_type": "markdown",
   "metadata": {},
   "source": [
    "  We had a 5 datasets. Almost all of them were in good condition. Titles are good and seems like not corrupted too much. But few things was needed to do. First of all I converted date columns to datetime type of data. Second thing was to check calls with 0 min duration and 0 mn traffic usage. Third, was needed to check the age of customers, if we don't have anomalies there. Forth, check if we need to replace missing values in churn_date column, or it is reasonable to leave it as it is. And last thing I saw that all of datasets could be merged and connected one with other.\n",
    "  During prepearing the data to further calculations I converted all date columns to datetime format, also I saw a lot of values with 0 for calls and traffic used. I didn't remove those data or replace it since it could affect all further calculations. Maybe it were missing calls, or calls for 1-2 seconds or a technical error. Same with traffic, it might be people who don't use mobile internet or the technical error. Same with messages, nowadays messangers more popular than standart sms, so I can assume that some people don't use sms at all. I would ask data engineers to take a deeper look on it and check once more. In the column where we have the date of stop using tariff plan I also had a lot of missing data, but according to description it heppend because clients still continue to use their plans. Because we have a data for 2018 year, I replaced those values with the last day of Decemeber, 2018. \n",
    "All data was grouped in a new dataset, which will allow me to make calculations more easy. Also I calculated the using of plan limits and now I have a picture of who exceeded the limit and who didn't.\n",
    "  After calculations and visualization of our Data, we can see that for both plans we have the very same results. Users start to be more active closer to the year end and use more calls, messages and traffic. It can be connected with holidays and sales time we have in this period. Everybody wants to say greetings to their friends and relatives and make a good shopping. What is interesting is the amount of spent minutes, messages and traffic is almost equal for both plan. So I can assume for this stage that selling a Surf plan is more profitable since those users pay more extra money because they exceed their limits while Ultimate plan users almost always stay in limits.\n",
    "  My theory was proved by checking hypotheses. We can see that revenue for \"Surf\" and \"Ultimate\" time is different. On the first look it seems like \"Ultimate\" plan may bring more revenue but if we look deeper we can see that amount of \"Surf\" users in twice bigger than people who use \"Ultimate\" plan and in average \"Surf\" users exceed the limit plan and pay 42 USD extra while \"Ultimate\" users pay in average only 2 USD extra.\n",
    "  After checking hypothese that NY-NJ citizens pay the same fee as citizens of other regions we can see that is true and difference is not significant. But amount of users who live in NY-NJ region in 4 times smaller than amount of users from other region. So I can assume that in those regions people use mobile services more frequently that in people from other regions and have more income which allows them to pay more fees. \n",
    "  I would suggest to expand marketing company for the \"Surf\" plan since we can see that it brings more profit. People think that low monthly fee allows them to economy their money, but in long term we can see that they pay extra and in average bring income almost equal for the \"Ultimate\" plan monthly fee."
   ]
  },
  {
   "cell_type": "code",
   "execution_count": null,
   "metadata": {},
   "outputs": [],
   "source": []
  }
 ],
 "metadata": {
  "ExecuteTimeLog": [
   {
    "duration": 1494,
    "start_time": "2021-11-01T07:18:00.596Z"
   },
   {
    "duration": 153,
    "start_time": "2021-11-01T07:21:22.121Z"
   },
   {
    "duration": 22,
    "start_time": "2021-11-01T07:21:37.112Z"
   },
   {
    "duration": 21,
    "start_time": "2021-11-01T07:22:13.912Z"
   },
   {
    "duration": 124,
    "start_time": "2021-11-01T07:32:11.715Z"
   },
   {
    "duration": 218,
    "start_time": "2021-11-01T07:32:26.916Z"
   },
   {
    "duration": 154,
    "start_time": "2021-11-01T07:32:33.795Z"
   },
   {
    "duration": 21,
    "start_time": "2021-11-01T07:32:35.314Z"
   },
   {
    "duration": 16,
    "start_time": "2021-11-01T07:32:37.495Z"
   },
   {
    "duration": 115,
    "start_time": "2021-11-01T07:32:44.485Z"
   },
   {
    "duration": 18,
    "start_time": "2021-11-01T07:32:58.489Z"
   },
   {
    "duration": 420,
    "start_time": "2021-11-01T07:33:33.422Z"
   },
   {
    "duration": 16,
    "start_time": "2021-11-01T07:33:38.294Z"
   },
   {
    "duration": 85,
    "start_time": "2021-11-01T07:41:03.363Z"
   },
   {
    "duration": 17,
    "start_time": "2021-11-01T07:41:12.754Z"
   },
   {
    "duration": 15,
    "start_time": "2021-11-01T07:41:38.183Z"
   },
   {
    "duration": 19,
    "start_time": "2021-11-01T07:44:25.220Z"
   },
   {
    "duration": 10,
    "start_time": "2021-11-01T07:44:35.741Z"
   },
   {
    "duration": 14,
    "start_time": "2021-11-01T07:45:15.471Z"
   },
   {
    "duration": 43,
    "start_time": "2021-11-01T07:48:38.725Z"
   },
   {
    "duration": 13,
    "start_time": "2021-11-01T07:48:48.145Z"
   },
   {
    "duration": 18,
    "start_time": "2021-11-01T07:49:10.955Z"
   },
   {
    "duration": 9,
    "start_time": "2021-11-01T07:52:29.402Z"
   },
   {
    "duration": 16,
    "start_time": "2021-11-01T07:55:30.180Z"
   },
   {
    "duration": 29,
    "start_time": "2021-11-01T08:35:01.990Z"
   },
   {
    "duration": 22,
    "start_time": "2021-11-01T08:35:14.119Z"
   },
   {
    "duration": 9,
    "start_time": "2021-11-01T08:36:34.278Z"
   },
   {
    "duration": 16,
    "start_time": "2021-11-01T08:36:36.079Z"
   },
   {
    "duration": 7864,
    "start_time": "2021-11-01T08:36:41.958Z"
   },
   {
    "duration": 17,
    "start_time": "2021-11-01T08:36:50.268Z"
   },
   {
    "duration": 23,
    "start_time": "2021-11-01T08:37:59.040Z"
   },
   {
    "duration": 16,
    "start_time": "2021-11-01T08:38:01.950Z"
   },
   {
    "duration": 20,
    "start_time": "2021-11-01T08:38:59.990Z"
   },
   {
    "duration": 16,
    "start_time": "2021-11-01T08:39:09.259Z"
   },
   {
    "duration": 6,
    "start_time": "2021-11-01T08:41:35.379Z"
   },
   {
    "duration": 10,
    "start_time": "2021-11-01T08:41:50.089Z"
   },
   {
    "duration": 8,
    "start_time": "2021-11-01T08:42:19.927Z"
   },
   {
    "duration": 14,
    "start_time": "2021-11-01T08:42:31.230Z"
   },
   {
    "duration": 5,
    "start_time": "2021-11-01T08:45:30.400Z"
   },
   {
    "duration": 6,
    "start_time": "2021-11-01T08:46:06.970Z"
   },
   {
    "duration": 20,
    "start_time": "2021-11-01T08:48:27.236Z"
   },
   {
    "duration": 769,
    "start_time": "2021-11-01T08:48:54.006Z"
   },
   {
    "duration": 16,
    "start_time": "2021-11-01T08:49:09.247Z"
   },
   {
    "duration": 307,
    "start_time": "2021-11-01T08:49:54.506Z"
   },
   {
    "duration": 369,
    "start_time": "2021-11-01T08:50:07.696Z"
   },
   {
    "duration": 12,
    "start_time": "2021-11-01T08:51:11.066Z"
   },
   {
    "duration": 19,
    "start_time": "2021-11-01T08:55:16.836Z"
   },
   {
    "duration": 12,
    "start_time": "2021-11-01T08:56:03.828Z"
   },
   {
    "duration": 10,
    "start_time": "2021-11-01T08:56:28.076Z"
   },
   {
    "duration": 17,
    "start_time": "2021-11-01T09:06:54.917Z"
   },
   {
    "duration": 16,
    "start_time": "2021-11-01T09:07:06.787Z"
   },
   {
    "duration": 9,
    "start_time": "2021-11-01T09:08:43.459Z"
   },
   {
    "duration": 11,
    "start_time": "2021-11-01T09:09:03.879Z"
   },
   {
    "duration": 16,
    "start_time": "2021-11-01T09:15:34.920Z"
   },
   {
    "duration": 17,
    "start_time": "2021-11-01T09:15:36.959Z"
   },
   {
    "duration": 44,
    "start_time": "2021-11-01T09:30:33.200Z"
   },
   {
    "duration": 25,
    "start_time": "2021-11-01T09:33:18.862Z"
   },
   {
    "duration": 343,
    "start_time": "2021-11-01T09:35:18.292Z"
   },
   {
    "duration": 52,
    "start_time": "2021-11-01T09:35:30.676Z"
   },
   {
    "duration": 74,
    "start_time": "2021-11-01T09:35:34.721Z"
   },
   {
    "duration": 68,
    "start_time": "2021-11-01T09:35:47.862Z"
   },
   {
    "duration": 37,
    "start_time": "2021-11-01T09:38:59.353Z"
   },
   {
    "duration": 20,
    "start_time": "2021-11-01T09:40:58.590Z"
   },
   {
    "duration": 32,
    "start_time": "2021-11-01T09:41:09.892Z"
   },
   {
    "duration": 32,
    "start_time": "2021-11-01T09:42:03.572Z"
   },
   {
    "duration": 33,
    "start_time": "2021-11-01T09:43:32.402Z"
   },
   {
    "duration": 26,
    "start_time": "2021-11-01T09:45:47.682Z"
   },
   {
    "duration": 41,
    "start_time": "2021-11-01T09:48:04.142Z"
   },
   {
    "duration": 43,
    "start_time": "2021-11-01T09:51:48.226Z"
   },
   {
    "duration": 113,
    "start_time": "2021-11-01T10:10:30.496Z"
   },
   {
    "duration": 9,
    "start_time": "2021-11-01T10:11:41.706Z"
   },
   {
    "duration": 581,
    "start_time": "2021-11-01T10:12:38.146Z"
   },
   {
    "duration": 588,
    "start_time": "2021-11-01T10:12:57.095Z"
   },
   {
    "duration": 283,
    "start_time": "2021-11-01T10:13:41.944Z"
   },
   {
    "duration": 6,
    "start_time": "2021-11-01T10:14:03.733Z"
   },
   {
    "duration": 577,
    "start_time": "2021-11-01T10:14:05.585Z"
   },
   {
    "duration": 9,
    "start_time": "2021-11-01T10:14:26.087Z"
   },
   {
    "duration": 789,
    "start_time": "2021-11-01T10:14:51.786Z"
   },
   {
    "duration": 6,
    "start_time": "2021-11-01T10:16:41.685Z"
   },
   {
    "duration": 7,
    "start_time": "2021-11-01T10:16:48.735Z"
   },
   {
    "duration": 7,
    "start_time": "2021-11-01T10:17:00.386Z"
   },
   {
    "duration": 602,
    "start_time": "2021-11-01T10:18:06.784Z"
   },
   {
    "duration": 7,
    "start_time": "2021-11-01T10:22:07.664Z"
   },
   {
    "duration": 795,
    "start_time": "2021-11-01T10:22:28.375Z"
   },
   {
    "duration": 312,
    "start_time": "2021-11-01T10:44:36.277Z"
   },
   {
    "duration": 295,
    "start_time": "2021-11-01T10:45:06.198Z"
   },
   {
    "duration": 320,
    "start_time": "2021-11-01T10:49:12.308Z"
   },
   {
    "duration": 1963,
    "start_time": "2021-11-01T10:52:10.537Z"
   },
   {
    "duration": 57,
    "start_time": "2021-11-01T10:52:34.237Z"
   },
   {
    "duration": 46,
    "start_time": "2021-11-01T10:53:46.298Z"
   },
   {
    "duration": 10,
    "start_time": "2021-11-01T10:54:21.119Z"
   },
   {
    "duration": 287,
    "start_time": "2021-11-01T10:54:46.387Z"
   },
   {
    "duration": 5,
    "start_time": "2021-11-01T10:54:58.439Z"
   },
   {
    "duration": 8,
    "start_time": "2021-11-01T10:55:22.076Z"
   },
   {
    "duration": 13,
    "start_time": "2021-11-01T10:55:42.709Z"
   },
   {
    "duration": 19,
    "start_time": "2021-11-01T10:59:12.808Z"
   },
   {
    "duration": 42,
    "start_time": "2021-11-01T11:03:44.158Z"
   },
   {
    "duration": 7615,
    "start_time": "2021-11-01T11:04:00.949Z"
   },
   {
    "duration": 40,
    "start_time": "2021-11-01T11:04:25.868Z"
   },
   {
    "duration": 13,
    "start_time": "2021-11-01T11:10:25.772Z"
   },
   {
    "duration": 278,
    "start_time": "2021-11-01T11:12:08.204Z"
   },
   {
    "duration": 13,
    "start_time": "2021-11-01T11:12:53.347Z"
   },
   {
    "duration": 50,
    "start_time": "2021-11-01T11:13:31.117Z"
   },
   {
    "duration": 8,
    "start_time": "2021-11-01T11:13:36.468Z"
   },
   {
    "duration": 9,
    "start_time": "2021-11-01T11:13:39.148Z"
   },
   {
    "duration": 12,
    "start_time": "2021-11-01T11:13:44.288Z"
   },
   {
    "duration": 14,
    "start_time": "2021-11-01T11:13:46.708Z"
   },
   {
    "duration": 8,
    "start_time": "2021-11-01T11:20:59.969Z"
   },
   {
    "duration": 299,
    "start_time": "2021-11-01T11:23:25.599Z"
   },
   {
    "duration": 12,
    "start_time": "2021-11-01T11:23:52.386Z"
   },
   {
    "duration": 434,
    "start_time": "2021-11-01T11:23:54.638Z"
   },
   {
    "duration": 130,
    "start_time": "2021-11-01T11:24:09.706Z"
   },
   {
    "duration": 148,
    "start_time": "2021-11-01T11:24:21.308Z"
   },
   {
    "duration": 473,
    "start_time": "2021-11-01T11:25:47.468Z"
   },
   {
    "duration": 46,
    "start_time": "2021-11-01T11:25:53.946Z"
   },
   {
    "duration": 390,
    "start_time": "2021-11-01T11:27:50.358Z"
   },
   {
    "duration": 69,
    "start_time": "2021-11-01T11:28:13.127Z"
   },
   {
    "duration": 36,
    "start_time": "2021-11-01T12:18:51.356Z"
   },
   {
    "duration": 302,
    "start_time": "2021-11-01T12:26:11.657Z"
   },
   {
    "duration": 60,
    "start_time": "2021-11-01T12:26:32.208Z"
   },
   {
    "duration": 39,
    "start_time": "2021-11-01T12:28:37.423Z"
   },
   {
    "duration": 56,
    "start_time": "2021-11-01T12:30:05.935Z"
   },
   {
    "duration": 297,
    "start_time": "2021-11-01T12:35:33.693Z"
   },
   {
    "duration": 58,
    "start_time": "2021-11-01T12:38:03.563Z"
   },
   {
    "duration": 61,
    "start_time": "2021-11-01T12:38:22.662Z"
   },
   {
    "duration": 37,
    "start_time": "2021-11-01T12:40:14.163Z"
   },
   {
    "duration": 37,
    "start_time": "2021-11-01T14:03:38.586Z"
   },
   {
    "duration": 38,
    "start_time": "2021-11-01T14:03:43.257Z"
   },
   {
    "duration": 37,
    "start_time": "2021-11-01T14:05:19.025Z"
   },
   {
    "duration": 8,
    "start_time": "2021-11-01T14:05:21.734Z"
   },
   {
    "duration": 1465,
    "start_time": "2021-11-01T14:05:42.426Z"
   },
   {
    "duration": 152,
    "start_time": "2021-11-01T14:05:43.894Z"
   },
   {
    "duration": 21,
    "start_time": "2021-11-01T14:05:44.049Z"
   },
   {
    "duration": 22,
    "start_time": "2021-11-01T14:05:44.073Z"
   },
   {
    "duration": 133,
    "start_time": "2021-11-01T14:05:44.097Z"
   },
   {
    "duration": 18,
    "start_time": "2021-11-01T14:05:44.232Z"
   },
   {
    "duration": 16,
    "start_time": "2021-11-01T14:05:44.253Z"
   },
   {
    "duration": 94,
    "start_time": "2021-11-01T14:05:44.272Z"
   },
   {
    "duration": 14,
    "start_time": "2021-11-01T14:05:44.370Z"
   },
   {
    "duration": 15,
    "start_time": "2021-11-01T14:05:44.387Z"
   },
   {
    "duration": 18,
    "start_time": "2021-11-01T14:05:44.423Z"
   },
   {
    "duration": 17,
    "start_time": "2021-11-01T14:05:44.443Z"
   },
   {
    "duration": 22,
    "start_time": "2021-11-01T14:05:44.462Z"
   },
   {
    "duration": 39,
    "start_time": "2021-11-01T14:05:44.487Z"
   },
   {
    "duration": 18,
    "start_time": "2021-11-01T14:05:44.528Z"
   },
   {
    "duration": 33,
    "start_time": "2021-11-01T14:05:44.549Z"
   },
   {
    "duration": 26,
    "start_time": "2021-11-01T14:05:44.584Z"
   },
   {
    "duration": 30,
    "start_time": "2021-11-01T14:05:44.613Z"
   },
   {
    "duration": 15,
    "start_time": "2021-11-01T14:05:44.646Z"
   },
   {
    "duration": 30,
    "start_time": "2021-11-01T14:05:44.664Z"
   },
   {
    "duration": 30,
    "start_time": "2021-11-01T14:05:44.696Z"
   },
   {
    "duration": 18,
    "start_time": "2021-11-01T14:05:44.729Z"
   },
   {
    "duration": 13,
    "start_time": "2021-11-01T14:05:44.749Z"
   },
   {
    "duration": 18,
    "start_time": "2021-11-01T14:05:44.764Z"
   },
   {
    "duration": 21,
    "start_time": "2021-11-01T14:05:44.785Z"
   },
   {
    "duration": 31,
    "start_time": "2021-11-01T14:05:44.809Z"
   },
   {
    "duration": 13,
    "start_time": "2021-11-01T14:05:44.845Z"
   },
   {
    "duration": 16,
    "start_time": "2021-11-01T14:05:44.861Z"
   },
   {
    "duration": 18,
    "start_time": "2021-11-01T14:05:44.880Z"
   },
   {
    "duration": 18,
    "start_time": "2021-11-01T14:05:44.900Z"
   },
   {
    "duration": 25,
    "start_time": "2021-11-01T14:05:44.923Z"
   },
   {
    "duration": 10,
    "start_time": "2021-11-01T14:05:44.951Z"
   },
   {
    "duration": 17,
    "start_time": "2021-11-01T14:05:44.964Z"
   },
   {
    "duration": 63,
    "start_time": "2021-11-01T14:05:44.983Z"
   },
   {
    "duration": 24,
    "start_time": "2021-11-01T14:05:45.049Z"
   },
   {
    "duration": 95,
    "start_time": "2021-11-01T14:05:45.076Z"
   },
   {
    "duration": 29,
    "start_time": "2021-11-01T14:05:45.174Z"
   },
   {
    "duration": 47,
    "start_time": "2021-11-01T14:05:45.205Z"
   },
   {
    "duration": 34,
    "start_time": "2021-11-01T14:05:45.255Z"
   },
   {
    "duration": 52,
    "start_time": "2021-11-01T14:05:45.292Z"
   },
   {
    "duration": 53,
    "start_time": "2021-11-01T14:05:45.346Z"
   },
   {
    "duration": 60,
    "start_time": "2021-11-01T14:05:45.401Z"
   },
   {
    "duration": 6,
    "start_time": "2021-11-01T14:05:45.463Z"
   },
   {
    "duration": 10,
    "start_time": "2021-11-01T14:05:45.471Z"
   },
   {
    "duration": 40,
    "start_time": "2021-11-01T14:05:45.483Z"
   },
   {
    "duration": 39,
    "start_time": "2021-11-01T14:05:45.526Z"
   },
   {
    "duration": 22,
    "start_time": "2021-11-01T14:05:45.567Z"
   },
   {
    "duration": 11145,
    "start_time": "2021-11-01T14:05:45.591Z"
   },
   {
    "duration": 42,
    "start_time": "2021-11-01T14:17:21.099Z"
   },
   {
    "duration": 38,
    "start_time": "2021-11-01T14:17:24.178Z"
   },
   {
    "duration": 297,
    "start_time": "2021-11-01T14:19:20.424Z"
   },
   {
    "duration": 786,
    "start_time": "2021-11-01T14:19:32.701Z"
   },
   {
    "duration": 36,
    "start_time": "2021-11-01T14:19:51.199Z"
   },
   {
    "duration": 60,
    "start_time": "2021-11-01T14:20:26.304Z"
   },
   {
    "duration": 53,
    "start_time": "2021-11-01T14:21:25.915Z"
   },
   {
    "duration": 9,
    "start_time": "2021-11-01T14:21:43.936Z"
   },
   {
    "duration": 10,
    "start_time": "2021-11-01T14:21:47.168Z"
   },
   {
    "duration": 14,
    "start_time": "2021-11-01T14:21:54.832Z"
   },
   {
    "duration": 17,
    "start_time": "2021-11-01T14:21:56.713Z"
   },
   {
    "duration": 11,
    "start_time": "2021-11-01T14:22:02.918Z"
   },
   {
    "duration": 158,
    "start_time": "2021-11-01T14:22:16.205Z"
   },
   {
    "duration": 346,
    "start_time": "2021-11-03T08:27:42.134Z"
   },
   {
    "duration": 1561,
    "start_time": "2021-11-03T08:27:56.283Z"
   },
   {
    "duration": 179,
    "start_time": "2021-11-03T08:27:57.847Z"
   },
   {
    "duration": 23,
    "start_time": "2021-11-03T08:27:58.030Z"
   },
   {
    "duration": 25,
    "start_time": "2021-11-03T08:27:58.069Z"
   },
   {
    "duration": 138,
    "start_time": "2021-11-03T08:27:58.097Z"
   },
   {
    "duration": 37,
    "start_time": "2021-11-03T08:27:58.239Z"
   },
   {
    "duration": 16,
    "start_time": "2021-11-03T08:27:58.278Z"
   },
   {
    "duration": 109,
    "start_time": "2021-11-03T08:27:58.297Z"
   },
   {
    "duration": 22,
    "start_time": "2021-11-03T08:27:58.412Z"
   },
   {
    "duration": 33,
    "start_time": "2021-11-03T08:27:58.438Z"
   },
   {
    "duration": 16,
    "start_time": "2021-11-03T08:27:58.474Z"
   },
   {
    "duration": 12,
    "start_time": "2021-11-03T08:27:58.493Z"
   },
   {
    "duration": 13,
    "start_time": "2021-11-03T08:27:58.507Z"
   },
   {
    "duration": 44,
    "start_time": "2021-11-03T08:27:58.523Z"
   },
   {
    "duration": 11,
    "start_time": "2021-11-03T08:27:58.570Z"
   },
   {
    "duration": 25,
    "start_time": "2021-11-03T08:27:58.583Z"
   },
   {
    "duration": 42,
    "start_time": "2021-11-03T08:27:58.611Z"
   },
   {
    "duration": 43,
    "start_time": "2021-11-03T08:27:58.656Z"
   },
   {
    "duration": 22,
    "start_time": "2021-11-03T08:27:58.702Z"
   },
   {
    "duration": 49,
    "start_time": "2021-11-03T08:27:58.727Z"
   },
   {
    "duration": 14,
    "start_time": "2021-11-03T08:27:58.778Z"
   },
   {
    "duration": 19,
    "start_time": "2021-11-03T08:27:58.795Z"
   },
   {
    "duration": 13,
    "start_time": "2021-11-03T08:27:58.816Z"
   },
   {
    "duration": 41,
    "start_time": "2021-11-03T08:27:58.831Z"
   },
   {
    "duration": 9,
    "start_time": "2021-11-03T08:27:58.876Z"
   },
   {
    "duration": 15,
    "start_time": "2021-11-03T08:27:58.888Z"
   },
   {
    "duration": 10,
    "start_time": "2021-11-03T08:27:58.909Z"
   },
   {
    "duration": 47,
    "start_time": "2021-11-03T08:27:58.922Z"
   },
   {
    "duration": 17,
    "start_time": "2021-11-03T08:27:58.972Z"
   },
   {
    "duration": 12,
    "start_time": "2021-11-03T08:27:58.991Z"
   },
   {
    "duration": 21,
    "start_time": "2021-11-03T08:27:59.006Z"
   },
   {
    "duration": 9,
    "start_time": "2021-11-03T08:27:59.068Z"
   },
   {
    "duration": 9,
    "start_time": "2021-11-03T08:27:59.080Z"
   },
   {
    "duration": 48,
    "start_time": "2021-11-03T08:27:59.092Z"
   },
   {
    "duration": 46,
    "start_time": "2021-11-03T08:27:59.143Z"
   },
   {
    "duration": 95,
    "start_time": "2021-11-03T08:27:59.192Z"
   },
   {
    "duration": 29,
    "start_time": "2021-11-03T08:27:59.289Z"
   },
   {
    "duration": 65,
    "start_time": "2021-11-03T08:27:59.320Z"
   },
   {
    "duration": 36,
    "start_time": "2021-11-03T08:27:59.388Z"
   },
   {
    "duration": 53,
    "start_time": "2021-11-03T08:27:59.427Z"
   },
   {
    "duration": 45,
    "start_time": "2021-11-03T08:27:59.482Z"
   },
   {
    "duration": 77,
    "start_time": "2021-11-03T08:27:59.529Z"
   },
   {
    "duration": 8,
    "start_time": "2021-11-03T08:27:59.608Z"
   },
   {
    "duration": 11,
    "start_time": "2021-11-03T08:27:59.618Z"
   },
   {
    "duration": 37,
    "start_time": "2021-11-03T08:27:59.632Z"
   },
   {
    "duration": 23,
    "start_time": "2021-11-03T08:27:59.671Z"
   },
   {
    "duration": 9,
    "start_time": "2021-11-03T08:27:59.696Z"
   },
   {
    "duration": 164,
    "start_time": "2021-11-03T08:27:59.707Z"
   },
   {
    "duration": 69,
    "start_time": "2021-11-03T08:39:21.523Z"
   },
   {
    "duration": 18,
    "start_time": "2021-11-03T08:44:42.104Z"
   },
   {
    "duration": 420,
    "start_time": "2021-11-03T08:53:32.900Z"
   },
   {
    "duration": 315,
    "start_time": "2021-11-03T08:53:49.689Z"
   },
   {
    "duration": 323,
    "start_time": "2021-11-03T08:54:14.290Z"
   },
   {
    "duration": 1580,
    "start_time": "2021-11-03T08:57:42.800Z"
   },
   {
    "duration": 1487,
    "start_time": "2021-11-03T08:58:27.980Z"
   },
   {
    "duration": 40088,
    "start_time": "2021-11-03T09:00:49.350Z"
   },
   {
    "duration": 39018,
    "start_time": "2021-11-03T09:02:11.049Z"
   },
   {
    "duration": 109,
    "start_time": "2021-11-03T09:11:03.339Z"
   },
   {
    "duration": 97,
    "start_time": "2021-11-03T09:11:21.970Z"
   },
   {
    "duration": 2751,
    "start_time": "2021-11-03T09:11:30.991Z"
   },
   {
    "duration": 2569,
    "start_time": "2021-11-03T09:11:47.741Z"
   },
   {
    "duration": 2921,
    "start_time": "2021-11-03T09:12:02.411Z"
   },
   {
    "duration": 2183,
    "start_time": "2021-11-03T09:12:11.090Z"
   },
   {
    "duration": 1558,
    "start_time": "2021-11-03T09:30:22.317Z"
   },
   {
    "duration": 159,
    "start_time": "2021-11-03T09:30:23.879Z"
   },
   {
    "duration": 34,
    "start_time": "2021-11-03T09:30:24.041Z"
   },
   {
    "duration": 24,
    "start_time": "2021-11-03T09:30:24.080Z"
   },
   {
    "duration": 141,
    "start_time": "2021-11-03T09:30:24.107Z"
   },
   {
    "duration": 36,
    "start_time": "2021-11-03T09:30:24.251Z"
   },
   {
    "duration": 18,
    "start_time": "2021-11-03T09:30:24.290Z"
   },
   {
    "duration": 105,
    "start_time": "2021-11-03T09:30:24.312Z"
   },
   {
    "duration": 15,
    "start_time": "2021-11-03T09:30:24.420Z"
   },
   {
    "duration": 34,
    "start_time": "2021-11-03T09:30:24.438Z"
   },
   {
    "duration": 18,
    "start_time": "2021-11-03T09:30:24.478Z"
   },
   {
    "duration": 18,
    "start_time": "2021-11-03T09:30:24.499Z"
   },
   {
    "duration": 17,
    "start_time": "2021-11-03T09:30:24.519Z"
   },
   {
    "duration": 46,
    "start_time": "2021-11-03T09:30:24.539Z"
   },
   {
    "duration": 10,
    "start_time": "2021-11-03T09:30:24.588Z"
   },
   {
    "duration": 20,
    "start_time": "2021-11-03T09:30:24.601Z"
   },
   {
    "duration": 16,
    "start_time": "2021-11-03T09:30:24.624Z"
   },
   {
    "duration": 55,
    "start_time": "2021-11-03T09:30:24.643Z"
   },
   {
    "duration": 16,
    "start_time": "2021-11-03T09:30:24.701Z"
   },
   {
    "duration": 55,
    "start_time": "2021-11-03T09:30:24.719Z"
   },
   {
    "duration": 15,
    "start_time": "2021-11-03T09:30:24.778Z"
   },
   {
    "duration": 17,
    "start_time": "2021-11-03T09:30:24.796Z"
   },
   {
    "duration": 12,
    "start_time": "2021-11-03T09:30:24.818Z"
   },
   {
    "duration": 41,
    "start_time": "2021-11-03T09:30:24.833Z"
   },
   {
    "duration": 15,
    "start_time": "2021-11-03T09:30:24.878Z"
   },
   {
    "duration": 14,
    "start_time": "2021-11-03T09:30:24.895Z"
   },
   {
    "duration": 16,
    "start_time": "2021-11-03T09:30:24.911Z"
   },
   {
    "duration": 38,
    "start_time": "2021-11-03T09:30:24.929Z"
   },
   {
    "duration": 24,
    "start_time": "2021-11-03T09:30:24.970Z"
   },
   {
    "duration": 9,
    "start_time": "2021-11-03T09:30:24.996Z"
   },
   {
    "duration": 10,
    "start_time": "2021-11-03T09:30:25.008Z"
   },
   {
    "duration": 87,
    "start_time": "2021-11-03T09:30:25.020Z"
   },
   {
    "duration": 24,
    "start_time": "2021-11-03T09:30:25.110Z"
   },
   {
    "duration": 103,
    "start_time": "2021-11-03T09:30:25.136Z"
   },
   {
    "duration": 47,
    "start_time": "2021-11-03T09:30:25.242Z"
   },
   {
    "duration": 35,
    "start_time": "2021-11-03T09:30:25.292Z"
   },
   {
    "duration": 67,
    "start_time": "2021-11-03T09:30:25.329Z"
   },
   {
    "duration": 25,
    "start_time": "2021-11-03T09:30:25.399Z"
   },
   {
    "duration": 74,
    "start_time": "2021-11-03T09:30:25.427Z"
   },
   {
    "duration": 63,
    "start_time": "2021-11-03T09:30:25.504Z"
   },
   {
    "duration": 10,
    "start_time": "2021-11-03T09:30:25.571Z"
   },
   {
    "duration": 11,
    "start_time": "2021-11-03T09:30:25.584Z"
   },
   {
    "duration": 12,
    "start_time": "2021-11-03T09:30:25.598Z"
   },
   {
    "duration": 65,
    "start_time": "2021-11-03T09:30:25.613Z"
   },
   {
    "duration": 8,
    "start_time": "2021-11-03T09:30:25.682Z"
   },
   {
    "duration": 171,
    "start_time": "2021-11-03T09:30:25.692Z"
   },
   {
    "duration": 52,
    "start_time": "2021-11-03T09:30:25.867Z"
   },
   {
    "duration": 20,
    "start_time": "2021-11-03T09:30:25.922Z"
   },
   {
    "duration": 2459,
    "start_time": "2021-11-03T09:30:25.969Z"
   },
   {
    "duration": 2821,
    "start_time": "2021-11-03T09:30:43.569Z"
   },
   {
    "duration": 1590,
    "start_time": "2021-11-03T09:41:11.268Z"
   },
   {
    "duration": 166,
    "start_time": "2021-11-03T09:41:12.861Z"
   },
   {
    "duration": 22,
    "start_time": "2021-11-03T09:41:13.030Z"
   },
   {
    "duration": 38,
    "start_time": "2021-11-03T09:41:13.055Z"
   },
   {
    "duration": 137,
    "start_time": "2021-11-03T09:41:13.095Z"
   },
   {
    "duration": 20,
    "start_time": "2021-11-03T09:41:13.234Z"
   },
   {
    "duration": 23,
    "start_time": "2021-11-03T09:41:13.267Z"
   },
   {
    "duration": 102,
    "start_time": "2021-11-03T09:41:13.294Z"
   },
   {
    "duration": 15,
    "start_time": "2021-11-03T09:41:13.399Z"
   },
   {
    "duration": 14,
    "start_time": "2021-11-03T09:41:13.416Z"
   },
   {
    "duration": 37,
    "start_time": "2021-11-03T09:41:13.432Z"
   },
   {
    "duration": 19,
    "start_time": "2021-11-03T09:41:13.472Z"
   },
   {
    "duration": 23,
    "start_time": "2021-11-03T09:41:13.494Z"
   },
   {
    "duration": 35,
    "start_time": "2021-11-03T09:41:13.520Z"
   },
   {
    "duration": 18,
    "start_time": "2021-11-03T09:41:13.557Z"
   },
   {
    "duration": 30,
    "start_time": "2021-11-03T09:41:13.579Z"
   },
   {
    "duration": 19,
    "start_time": "2021-11-03T09:41:13.611Z"
   },
   {
    "duration": 51,
    "start_time": "2021-11-03T09:41:13.633Z"
   },
   {
    "duration": 16,
    "start_time": "2021-11-03T09:41:13.687Z"
   },
   {
    "duration": 25,
    "start_time": "2021-11-03T09:41:13.705Z"
   },
   {
    "duration": 42,
    "start_time": "2021-11-03T09:41:13.733Z"
   },
   {
    "duration": 21,
    "start_time": "2021-11-03T09:41:13.778Z"
   },
   {
    "duration": 15,
    "start_time": "2021-11-03T09:41:13.801Z"
   },
   {
    "duration": 50,
    "start_time": "2021-11-03T09:41:13.819Z"
   },
   {
    "duration": 11,
    "start_time": "2021-11-03T09:41:13.873Z"
   },
   {
    "duration": 12,
    "start_time": "2021-11-03T09:41:13.889Z"
   },
   {
    "duration": 15,
    "start_time": "2021-11-03T09:41:13.905Z"
   },
   {
    "duration": 47,
    "start_time": "2021-11-03T09:41:13.922Z"
   },
   {
    "duration": 21,
    "start_time": "2021-11-03T09:41:13.972Z"
   },
   {
    "duration": 9,
    "start_time": "2021-11-03T09:41:13.996Z"
   },
   {
    "duration": 13,
    "start_time": "2021-11-03T09:41:14.007Z"
   },
   {
    "duration": 80,
    "start_time": "2021-11-03T09:41:14.022Z"
   },
   {
    "duration": 27,
    "start_time": "2021-11-03T09:41:14.104Z"
   },
   {
    "duration": 103,
    "start_time": "2021-11-03T09:41:14.133Z"
   },
   {
    "duration": 48,
    "start_time": "2021-11-03T09:41:14.239Z"
   },
   {
    "duration": 33,
    "start_time": "2021-11-03T09:41:14.290Z"
   },
   {
    "duration": 61,
    "start_time": "2021-11-03T09:41:14.326Z"
   },
   {
    "duration": 25,
    "start_time": "2021-11-03T09:41:14.389Z"
   },
   {
    "duration": 80,
    "start_time": "2021-11-03T09:41:14.416Z"
   },
   {
    "duration": 51,
    "start_time": "2021-11-03T09:41:14.498Z"
   },
   {
    "duration": 21,
    "start_time": "2021-11-03T09:41:14.552Z"
   },
   {
    "duration": 12,
    "start_time": "2021-11-03T09:41:14.582Z"
   },
   {
    "duration": 21,
    "start_time": "2021-11-03T09:41:14.597Z"
   },
   {
    "duration": 57,
    "start_time": "2021-11-03T09:41:14.620Z"
   },
   {
    "duration": 10,
    "start_time": "2021-11-03T09:41:14.682Z"
   },
   {
    "duration": 163,
    "start_time": "2021-11-03T09:41:14.694Z"
   },
   {
    "duration": 56,
    "start_time": "2021-11-03T09:41:14.859Z"
   },
   {
    "duration": 19,
    "start_time": "2021-11-03T09:41:14.918Z"
   },
   {
    "duration": 2576,
    "start_time": "2021-11-03T09:41:14.968Z"
   },
   {
    "duration": 2735,
    "start_time": "2021-11-03T09:44:06.717Z"
   },
   {
    "duration": 2828,
    "start_time": "2021-11-03T09:47:16.046Z"
   },
   {
    "duration": 453,
    "start_time": "2021-11-03T09:51:59.806Z"
   },
   {
    "duration": 6,
    "start_time": "2021-11-03T09:52:13.816Z"
   },
   {
    "duration": 7,
    "start_time": "2021-11-03T09:52:44.257Z"
   },
   {
    "duration": 10,
    "start_time": "2021-11-03T09:52:47.656Z"
   },
   {
    "duration": 2727,
    "start_time": "2021-11-03T10:03:22.457Z"
   },
   {
    "duration": 2815,
    "start_time": "2021-11-03T10:03:44.756Z"
   },
   {
    "duration": 1393,
    "start_time": "2021-11-03T10:08:38.556Z"
   },
   {
    "duration": 2586,
    "start_time": "2021-11-03T10:09:46.796Z"
   },
   {
    "duration": 2891,
    "start_time": "2021-11-03T10:10:04.147Z"
   },
   {
    "duration": 411,
    "start_time": "2021-11-03T10:38:38.641Z"
   },
   {
    "duration": 112,
    "start_time": "2021-11-03T10:38:45.712Z"
   },
   {
    "duration": 112,
    "start_time": "2021-11-03T10:39:22.983Z"
   },
   {
    "duration": 38,
    "start_time": "2021-11-03T10:43:23.862Z"
   },
   {
    "duration": 1579,
    "start_time": "2021-11-03T11:40:01.202Z"
   },
   {
    "duration": 165,
    "start_time": "2021-11-03T11:40:02.785Z"
   },
   {
    "duration": 27,
    "start_time": "2021-11-03T11:40:02.953Z"
   },
   {
    "duration": 24,
    "start_time": "2021-11-03T11:40:02.984Z"
   },
   {
    "duration": 150,
    "start_time": "2021-11-03T11:40:03.010Z"
   },
   {
    "duration": 30,
    "start_time": "2021-11-03T11:40:03.162Z"
   },
   {
    "duration": 16,
    "start_time": "2021-11-03T11:40:03.194Z"
   },
   {
    "duration": 112,
    "start_time": "2021-11-03T11:40:03.213Z"
   },
   {
    "duration": 16,
    "start_time": "2021-11-03T11:40:03.329Z"
   },
   {
    "duration": 32,
    "start_time": "2021-11-03T11:40:03.348Z"
   },
   {
    "duration": 18,
    "start_time": "2021-11-03T11:40:03.383Z"
   },
   {
    "duration": 21,
    "start_time": "2021-11-03T11:40:03.403Z"
   },
   {
    "duration": 17,
    "start_time": "2021-11-03T11:40:03.427Z"
   },
   {
    "duration": 58,
    "start_time": "2021-11-03T11:40:03.470Z"
   },
   {
    "duration": 12,
    "start_time": "2021-11-03T11:40:03.531Z"
   },
   {
    "duration": 33,
    "start_time": "2021-11-03T11:40:03.546Z"
   },
   {
    "duration": 19,
    "start_time": "2021-11-03T11:40:03.583Z"
   },
   {
    "duration": 34,
    "start_time": "2021-11-03T11:40:03.605Z"
   },
   {
    "duration": 42,
    "start_time": "2021-11-03T11:40:03.642Z"
   },
   {
    "duration": 33,
    "start_time": "2021-11-03T11:40:03.687Z"
   },
   {
    "duration": 14,
    "start_time": "2021-11-03T11:40:03.723Z"
   },
   {
    "duration": 48,
    "start_time": "2021-11-03T11:40:03.740Z"
   },
   {
    "duration": 20,
    "start_time": "2021-11-03T11:40:03.791Z"
   },
   {
    "duration": 9,
    "start_time": "2021-11-03T11:40:03.814Z"
   },
   {
    "duration": 36,
    "start_time": "2021-11-03T11:40:03.825Z"
   },
   {
    "duration": 19,
    "start_time": "2021-11-03T11:40:03.864Z"
   },
   {
    "duration": 21,
    "start_time": "2021-11-03T11:40:03.889Z"
   },
   {
    "duration": 12,
    "start_time": "2021-11-03T11:40:03.913Z"
   },
   {
    "duration": 20,
    "start_time": "2021-11-03T11:40:03.927Z"
   },
   {
    "duration": 31,
    "start_time": "2021-11-03T11:40:03.949Z"
   },
   {
    "duration": 22,
    "start_time": "2021-11-03T11:40:03.983Z"
   },
   {
    "duration": 9,
    "start_time": "2021-11-03T11:40:04.008Z"
   },
   {
    "duration": 13,
    "start_time": "2021-11-03T11:40:04.019Z"
   },
   {
    "duration": 75,
    "start_time": "2021-11-03T11:40:04.035Z"
   },
   {
    "duration": 26,
    "start_time": "2021-11-03T11:40:04.112Z"
   },
   {
    "duration": 99,
    "start_time": "2021-11-03T11:40:04.140Z"
   },
   {
    "duration": 51,
    "start_time": "2021-11-03T11:40:04.241Z"
   },
   {
    "duration": 33,
    "start_time": "2021-11-03T11:40:04.295Z"
   },
   {
    "duration": 68,
    "start_time": "2021-11-03T11:40:04.331Z"
   },
   {
    "duration": 27,
    "start_time": "2021-11-03T11:40:04.401Z"
   },
   {
    "duration": 79,
    "start_time": "2021-11-03T11:40:04.430Z"
   },
   {
    "duration": 70,
    "start_time": "2021-11-03T11:40:04.512Z"
   },
   {
    "duration": 8,
    "start_time": "2021-11-03T11:40:04.585Z"
   },
   {
    "duration": 15,
    "start_time": "2021-11-03T11:40:04.595Z"
   },
   {
    "duration": 14,
    "start_time": "2021-11-03T11:40:04.613Z"
   },
   {
    "duration": 53,
    "start_time": "2021-11-03T11:40:04.630Z"
   },
   {
    "duration": 9,
    "start_time": "2021-11-03T11:40:04.686Z"
   },
   {
    "duration": 179,
    "start_time": "2021-11-03T11:40:04.697Z"
   },
   {
    "duration": 50,
    "start_time": "2021-11-03T11:40:04.879Z"
   },
   {
    "duration": 54,
    "start_time": "2021-11-03T11:40:04.932Z"
   },
   {
    "duration": 3105,
    "start_time": "2021-11-03T11:40:04.988Z"
   },
   {
    "duration": 2933,
    "start_time": "2021-11-03T11:40:08.095Z"
   },
   {
    "duration": 3110,
    "start_time": "2021-11-03T11:40:11.030Z"
   },
   {
    "duration": 44,
    "start_time": "2021-11-03T11:40:14.143Z"
   },
   {
    "duration": 29,
    "start_time": "2021-11-03T11:44:08.725Z"
   },
   {
    "duration": 491,
    "start_time": "2021-11-03T11:44:27.621Z"
   },
   {
    "duration": 383,
    "start_time": "2021-11-03T11:44:53.694Z"
   },
   {
    "duration": 304,
    "start_time": "2021-11-03T11:47:03.265Z"
   },
   {
    "duration": 38,
    "start_time": "2021-11-03T11:51:46.313Z"
   },
   {
    "duration": 9,
    "start_time": "2021-11-03T11:52:30.328Z"
   },
   {
    "duration": 9,
    "start_time": "2021-11-03T11:52:36.429Z"
   },
   {
    "duration": 28,
    "start_time": "2021-11-03T11:52:48.227Z"
   },
   {
    "duration": 15,
    "start_time": "2021-11-03T11:53:03.335Z"
   },
   {
    "duration": 285,
    "start_time": "2021-11-03T11:55:22.252Z"
   },
   {
    "duration": 1516,
    "start_time": "2021-11-03T11:55:51.870Z"
   },
   {
    "duration": 165,
    "start_time": "2021-11-03T11:55:53.389Z"
   },
   {
    "duration": 29,
    "start_time": "2021-11-03T11:55:53.557Z"
   },
   {
    "duration": 23,
    "start_time": "2021-11-03T11:55:53.590Z"
   },
   {
    "duration": 150,
    "start_time": "2021-11-03T11:55:53.616Z"
   },
   {
    "duration": 21,
    "start_time": "2021-11-03T11:55:53.769Z"
   },
   {
    "duration": 17,
    "start_time": "2021-11-03T11:55:53.794Z"
   },
   {
    "duration": 103,
    "start_time": "2021-11-03T11:55:53.814Z"
   },
   {
    "duration": 16,
    "start_time": "2021-11-03T11:55:53.922Z"
   },
   {
    "duration": 31,
    "start_time": "2021-11-03T11:55:53.941Z"
   },
   {
    "duration": 17,
    "start_time": "2021-11-03T11:55:53.975Z"
   },
   {
    "duration": 12,
    "start_time": "2021-11-03T11:55:53.995Z"
   },
   {
    "duration": 16,
    "start_time": "2021-11-03T11:55:54.009Z"
   },
   {
    "duration": 42,
    "start_time": "2021-11-03T11:55:54.027Z"
   },
   {
    "duration": 9,
    "start_time": "2021-11-03T11:55:54.072Z"
   },
   {
    "duration": 23,
    "start_time": "2021-11-03T11:55:54.084Z"
   },
   {
    "duration": 11,
    "start_time": "2021-11-03T11:55:54.110Z"
   },
   {
    "duration": 65,
    "start_time": "2021-11-03T11:55:54.124Z"
   },
   {
    "duration": 17,
    "start_time": "2021-11-03T11:55:54.191Z"
   },
   {
    "duration": 24,
    "start_time": "2021-11-03T11:55:54.211Z"
   },
   {
    "duration": 40,
    "start_time": "2021-11-03T11:55:54.238Z"
   },
   {
    "duration": 17,
    "start_time": "2021-11-03T11:55:54.281Z"
   },
   {
    "duration": 13,
    "start_time": "2021-11-03T11:55:54.300Z"
   },
   {
    "duration": 6,
    "start_time": "2021-11-03T11:55:54.315Z"
   },
   {
    "duration": 49,
    "start_time": "2021-11-03T11:55:54.323Z"
   },
   {
    "duration": 9,
    "start_time": "2021-11-03T11:55:54.374Z"
   },
   {
    "duration": 8,
    "start_time": "2021-11-03T11:55:54.388Z"
   },
   {
    "duration": 11,
    "start_time": "2021-11-03T11:55:54.399Z"
   },
   {
    "duration": 18,
    "start_time": "2021-11-03T11:55:54.413Z"
   },
   {
    "duration": 40,
    "start_time": "2021-11-03T11:55:54.433Z"
   },
   {
    "duration": 25,
    "start_time": "2021-11-03T11:55:54.475Z"
   },
   {
    "duration": 8,
    "start_time": "2021-11-03T11:55:54.503Z"
   },
   {
    "duration": 14,
    "start_time": "2021-11-03T11:55:54.513Z"
   },
   {
    "duration": 78,
    "start_time": "2021-11-03T11:55:54.530Z"
   },
   {
    "duration": 24,
    "start_time": "2021-11-03T11:55:54.611Z"
   },
   {
    "duration": 95,
    "start_time": "2021-11-03T11:55:54.637Z"
   },
   {
    "duration": 47,
    "start_time": "2021-11-03T11:55:54.734Z"
   },
   {
    "duration": 35,
    "start_time": "2021-11-03T11:55:54.784Z"
   },
   {
    "duration": 63,
    "start_time": "2021-11-03T11:55:54.822Z"
   },
   {
    "duration": 26,
    "start_time": "2021-11-03T11:55:54.888Z"
   },
   {
    "duration": 73,
    "start_time": "2021-11-03T11:55:54.917Z"
   },
   {
    "duration": 52,
    "start_time": "2021-11-03T11:55:54.993Z"
   },
   {
    "duration": 8,
    "start_time": "2021-11-03T11:55:55.067Z"
   },
   {
    "duration": 11,
    "start_time": "2021-11-03T11:55:55.078Z"
   },
   {
    "duration": 16,
    "start_time": "2021-11-03T11:55:55.091Z"
   },
   {
    "duration": 20,
    "start_time": "2021-11-03T11:55:55.109Z"
   },
   {
    "duration": 42,
    "start_time": "2021-11-03T11:55:55.131Z"
   },
   {
    "duration": 187,
    "start_time": "2021-11-03T11:55:55.175Z"
   },
   {
    "duration": 49,
    "start_time": "2021-11-03T11:55:55.367Z"
   },
   {
    "duration": 19,
    "start_time": "2021-11-03T11:55:55.419Z"
   },
   {
    "duration": 2800,
    "start_time": "2021-11-03T11:55:55.468Z"
   },
   {
    "duration": 2929,
    "start_time": "2021-11-03T11:55:58.270Z"
   },
   {
    "duration": 2871,
    "start_time": "2021-11-03T11:56:01.202Z"
   },
   {
    "duration": 33,
    "start_time": "2021-11-03T11:56:04.076Z"
   },
   {
    "duration": 4,
    "start_time": "2021-11-03T12:01:06.483Z"
   },
   {
    "duration": 5,
    "start_time": "2021-11-03T12:03:19.231Z"
   },
   {
    "duration": 5,
    "start_time": "2021-11-03T12:03:38.301Z"
   },
   {
    "duration": 6,
    "start_time": "2021-11-03T12:03:42.141Z"
   },
   {
    "duration": 369,
    "start_time": "2021-11-03T12:09:10.636Z"
   },
   {
    "duration": 5,
    "start_time": "2021-11-03T12:09:35.736Z"
   },
   {
    "duration": 29,
    "start_time": "2021-11-03T12:10:53.405Z"
   },
   {
    "duration": 373,
    "start_time": "2021-11-03T12:18:26.694Z"
   },
   {
    "duration": 427,
    "start_time": "2021-11-03T12:22:16.921Z"
   },
   {
    "duration": 6,
    "start_time": "2021-11-03T12:22:38.743Z"
   },
   {
    "duration": 5,
    "start_time": "2021-11-03T12:23:53.042Z"
   },
   {
    "duration": 50,
    "start_time": "2021-11-03T12:24:44.016Z"
   },
   {
    "duration": 11,
    "start_time": "2021-11-03T12:25:00.421Z"
   },
   {
    "duration": 101,
    "start_time": "2021-11-03T12:26:48.322Z"
   },
   {
    "duration": 5,
    "start_time": "2021-11-03T12:27:18.551Z"
   },
   {
    "duration": 365,
    "start_time": "2021-11-03T12:28:42.478Z"
   },
   {
    "duration": 5,
    "start_time": "2021-11-03T12:29:36.238Z"
   },
   {
    "duration": 6,
    "start_time": "2021-11-03T12:30:18.530Z"
   },
   {
    "duration": 4,
    "start_time": "2021-11-03T12:30:56.691Z"
   },
   {
    "duration": 15,
    "start_time": "2021-11-03T12:31:19.974Z"
   },
   {
    "duration": 5,
    "start_time": "2021-11-03T12:32:09.331Z"
   },
   {
    "duration": 384,
    "start_time": "2021-11-03T12:41:49.352Z"
   },
   {
    "duration": 8,
    "start_time": "2021-11-03T12:43:15.428Z"
   },
   {
    "duration": 6,
    "start_time": "2021-11-03T12:43:22.198Z"
   },
   {
    "duration": 6,
    "start_time": "2021-11-03T12:43:26.120Z"
   },
   {
    "duration": 7,
    "start_time": "2021-11-03T12:43:32.600Z"
   },
   {
    "duration": 5,
    "start_time": "2021-11-03T12:43:40.008Z"
   },
   {
    "duration": 6,
    "start_time": "2021-11-03T12:43:49.589Z"
   },
   {
    "duration": 6,
    "start_time": "2021-11-03T12:45:34.767Z"
   },
   {
    "duration": 7,
    "start_time": "2021-11-03T12:46:26.145Z"
   },
   {
    "duration": 13,
    "start_time": "2021-11-03T12:46:55.216Z"
   },
   {
    "duration": 482,
    "start_time": "2021-11-03T12:48:23.014Z"
   },
   {
    "duration": 6,
    "start_time": "2021-11-03T12:49:09.545Z"
   },
   {
    "duration": 745,
    "start_time": "2021-11-03T12:50:10.014Z"
   },
   {
    "duration": 6,
    "start_time": "2021-11-03T12:50:38.755Z"
   },
   {
    "duration": 7,
    "start_time": "2021-11-03T12:59:05.709Z"
   },
   {
    "duration": 6,
    "start_time": "2021-11-03T12:59:31.387Z"
   },
   {
    "duration": 15,
    "start_time": "2021-11-03T13:00:04.009Z"
   },
   {
    "duration": 11,
    "start_time": "2021-11-03T13:00:11.518Z"
   },
   {
    "duration": 8,
    "start_time": "2021-11-03T13:01:06.970Z"
   },
   {
    "duration": 783,
    "start_time": "2021-11-03T13:01:56.987Z"
   },
   {
    "duration": 6,
    "start_time": "2021-11-03T13:02:29.028Z"
   },
   {
    "duration": 6,
    "start_time": "2021-11-03T13:03:02.250Z"
   },
   {
    "duration": 8,
    "start_time": "2021-11-03T13:03:48.013Z"
   },
   {
    "duration": 5,
    "start_time": "2021-11-03T13:04:50.346Z"
   },
   {
    "duration": 12,
    "start_time": "2021-11-03T13:05:30.717Z"
   },
   {
    "duration": 752,
    "start_time": "2021-11-03T13:08:06.922Z"
   },
   {
    "duration": 7,
    "start_time": "2021-11-03T13:09:43.873Z"
   },
   {
    "duration": 7,
    "start_time": "2021-11-03T13:09:55.122Z"
   },
   {
    "duration": 8,
    "start_time": "2021-11-03T13:11:39.001Z"
   },
   {
    "duration": 6,
    "start_time": "2021-11-03T13:12:57.668Z"
   },
   {
    "duration": 6,
    "start_time": "2021-11-03T13:14:51.253Z"
   },
   {
    "duration": 13,
    "start_time": "2021-11-03T13:15:40.254Z"
   },
   {
    "duration": 13,
    "start_time": "2021-11-03T13:16:03.021Z"
   },
   {
    "duration": 5,
    "start_time": "2021-11-03T13:17:08.956Z"
   },
   {
    "duration": 292,
    "start_time": "2021-11-03T13:31:55.324Z"
   },
   {
    "duration": 8,
    "start_time": "2021-11-03T13:55:06.263Z"
   },
   {
    "duration": 6,
    "start_time": "2021-11-03T13:56:16.024Z"
   },
   {
    "duration": 7,
    "start_time": "2021-11-03T14:01:34.700Z"
   },
   {
    "duration": 21,
    "start_time": "2021-11-03T14:10:11.362Z"
   },
   {
    "duration": 38,
    "start_time": "2021-11-03T14:10:37.646Z"
   },
   {
    "duration": 22,
    "start_time": "2021-11-03T14:10:55.428Z"
   },
   {
    "duration": 22,
    "start_time": "2021-11-03T14:11:30.869Z"
   },
   {
    "duration": 25,
    "start_time": "2021-11-03T14:11:48.689Z"
   },
   {
    "duration": 318,
    "start_time": "2021-11-03T14:15:13.259Z"
   },
   {
    "duration": 348,
    "start_time": "2021-11-03T14:15:25.039Z"
   },
   {
    "duration": 28,
    "start_time": "2021-11-03T14:25:00.755Z"
   },
   {
    "duration": 19,
    "start_time": "2021-11-03T14:25:33.596Z"
   },
   {
    "duration": 15,
    "start_time": "2021-11-03T14:25:41.856Z"
   },
   {
    "duration": 23,
    "start_time": "2021-11-03T14:25:56.066Z"
   },
   {
    "duration": 14,
    "start_time": "2021-11-03T14:26:22.015Z"
   },
   {
    "duration": 12,
    "start_time": "2021-11-03T14:32:45.805Z"
   },
   {
    "duration": 7148,
    "start_time": "2021-11-03T14:36:36.501Z"
   },
   {
    "duration": 25,
    "start_time": "2021-11-03T14:37:10.063Z"
   },
   {
    "duration": 16,
    "start_time": "2021-11-03T14:37:21.402Z"
   },
   {
    "duration": 26,
    "start_time": "2021-11-03T14:37:49.562Z"
   },
   {
    "duration": 4954,
    "start_time": "2021-11-03T14:38:57.692Z"
   },
   {
    "duration": 6,
    "start_time": "2021-11-03T14:39:23.682Z"
   },
   {
    "duration": 5,
    "start_time": "2021-11-03T14:39:34.542Z"
   },
   {
    "duration": 293,
    "start_time": "2021-11-03T14:40:01.503Z"
   },
   {
    "duration": 6,
    "start_time": "2021-11-03T14:40:15.992Z"
   },
   {
    "duration": 25,
    "start_time": "2021-11-03T14:40:29.072Z"
   },
   {
    "duration": 29,
    "start_time": "2021-11-03T14:40:38.992Z"
   },
   {
    "duration": 6,
    "start_time": "2021-11-03T14:40:57.863Z"
   },
   {
    "duration": 6,
    "start_time": "2021-11-03T14:42:04.293Z"
   },
   {
    "duration": 22,
    "start_time": "2021-11-03T14:42:25.632Z"
   },
   {
    "duration": 9,
    "start_time": "2021-11-03T14:43:47.872Z"
   },
   {
    "duration": 6,
    "start_time": "2021-11-03T14:45:13.152Z"
   },
   {
    "duration": 25,
    "start_time": "2021-11-03T14:45:44.471Z"
   },
   {
    "duration": 10,
    "start_time": "2021-11-03T14:46:08.519Z"
   },
   {
    "duration": 12,
    "start_time": "2021-11-03T14:51:33.947Z"
   },
   {
    "duration": 301,
    "start_time": "2021-11-03T14:52:13.046Z"
   },
   {
    "duration": 7,
    "start_time": "2021-11-03T14:52:51.527Z"
   },
   {
    "duration": 7,
    "start_time": "2021-11-03T14:55:37.602Z"
   },
   {
    "duration": 6,
    "start_time": "2021-11-03T14:55:38.802Z"
   },
   {
    "duration": 3,
    "start_time": "2021-11-03T15:36:47.027Z"
   },
   {
    "duration": 174,
    "start_time": "2021-11-03T15:36:47.033Z"
   },
   {
    "duration": 21,
    "start_time": "2021-11-03T15:36:47.210Z"
   },
   {
    "duration": 47,
    "start_time": "2021-11-03T15:36:47.234Z"
   },
   {
    "duration": 137,
    "start_time": "2021-11-03T15:36:47.283Z"
   },
   {
    "duration": 18,
    "start_time": "2021-11-03T15:36:47.422Z"
   },
   {
    "duration": 33,
    "start_time": "2021-11-03T15:36:47.443Z"
   },
   {
    "duration": 76,
    "start_time": "2021-11-03T15:36:47.480Z"
   },
   {
    "duration": 14,
    "start_time": "2021-11-03T15:36:47.559Z"
   },
   {
    "duration": 13,
    "start_time": "2021-11-03T15:36:47.576Z"
   },
   {
    "duration": 19,
    "start_time": "2021-11-03T15:36:47.592Z"
   },
   {
    "duration": 12,
    "start_time": "2021-11-03T15:36:47.613Z"
   },
   {
    "duration": 41,
    "start_time": "2021-11-03T15:36:47.627Z"
   },
   {
    "duration": 32,
    "start_time": "2021-11-03T15:36:47.671Z"
   },
   {
    "duration": 9,
    "start_time": "2021-11-03T15:36:47.706Z"
   },
   {
    "duration": 23,
    "start_time": "2021-11-03T15:36:47.718Z"
   },
   {
    "duration": 24,
    "start_time": "2021-11-03T15:36:47.744Z"
   },
   {
    "duration": 35,
    "start_time": "2021-11-03T15:36:47.770Z"
   },
   {
    "duration": 17,
    "start_time": "2021-11-03T15:36:47.807Z"
   },
   {
    "duration": 49,
    "start_time": "2021-11-03T15:36:47.826Z"
   },
   {
    "duration": 15,
    "start_time": "2021-11-03T15:36:47.878Z"
   },
   {
    "duration": 18,
    "start_time": "2021-11-03T15:36:47.895Z"
   },
   {
    "duration": 11,
    "start_time": "2021-11-03T15:36:47.920Z"
   },
   {
    "duration": 36,
    "start_time": "2021-11-03T15:36:47.935Z"
   },
   {
    "duration": 18,
    "start_time": "2021-11-03T15:36:47.973Z"
   },
   {
    "duration": 6,
    "start_time": "2021-11-03T15:36:47.994Z"
   },
   {
    "duration": 12,
    "start_time": "2021-11-03T15:36:48.003Z"
   },
   {
    "duration": 13,
    "start_time": "2021-11-03T15:36:48.017Z"
   },
   {
    "duration": 45,
    "start_time": "2021-11-03T15:36:48.032Z"
   },
   {
    "duration": 10,
    "start_time": "2021-11-03T15:36:48.080Z"
   },
   {
    "duration": 21,
    "start_time": "2021-11-03T15:36:48.092Z"
   },
   {
    "duration": 9,
    "start_time": "2021-11-03T15:36:48.115Z"
   },
   {
    "duration": 47,
    "start_time": "2021-11-03T15:36:48.126Z"
   },
   {
    "duration": 44,
    "start_time": "2021-11-03T15:36:48.175Z"
   },
   {
    "duration": 51,
    "start_time": "2021-11-03T15:36:48.221Z"
   },
   {
    "duration": 73,
    "start_time": "2021-11-03T15:36:48.274Z"
   },
   {
    "duration": 33,
    "start_time": "2021-11-03T15:36:48.366Z"
   },
   {
    "duration": 66,
    "start_time": "2021-11-03T15:36:48.402Z"
   },
   {
    "duration": 37,
    "start_time": "2021-11-03T15:36:48.471Z"
   },
   {
    "duration": 61,
    "start_time": "2021-11-03T15:36:48.511Z"
   },
   {
    "duration": 63,
    "start_time": "2021-11-03T15:36:48.575Z"
   },
   {
    "duration": 77,
    "start_time": "2021-11-03T15:36:48.641Z"
   },
   {
    "duration": 9,
    "start_time": "2021-11-03T15:36:48.720Z"
   },
   {
    "duration": 38,
    "start_time": "2021-11-03T15:36:48.731Z"
   },
   {
    "duration": 16,
    "start_time": "2021-11-03T15:36:48.772Z"
   },
   {
    "duration": 17,
    "start_time": "2021-11-03T15:36:48.790Z"
   },
   {
    "duration": 9,
    "start_time": "2021-11-03T15:36:48.810Z"
   },
   {
    "duration": 182,
    "start_time": "2021-11-03T15:36:48.821Z"
   },
   {
    "duration": 62,
    "start_time": "2021-11-03T15:36:49.005Z"
   },
   {
    "duration": 18,
    "start_time": "2021-11-03T15:36:49.070Z"
   },
   {
    "duration": 2702,
    "start_time": "2021-11-03T15:36:49.091Z"
   },
   {
    "duration": 2596,
    "start_time": "2021-11-03T15:36:51.795Z"
   },
   {
    "duration": 2768,
    "start_time": "2021-11-03T15:36:54.393Z"
   },
   {
    "duration": 41,
    "start_time": "2021-11-03T15:36:57.169Z"
   },
   {
    "duration": 69,
    "start_time": "2021-11-03T15:36:57.214Z"
   },
   {
    "duration": 1008,
    "start_time": "2021-11-03T15:36:57.286Z"
   },
   {
    "duration": 9,
    "start_time": "2021-11-03T15:36:58.298Z"
   },
   {
    "duration": 14,
    "start_time": "2021-11-03T15:36:58.310Z"
   },
   {
    "duration": 10,
    "start_time": "2021-11-03T15:36:58.327Z"
   },
   {
    "duration": 16,
    "start_time": "2021-11-03T15:36:58.368Z"
   },
   {
    "duration": 15,
    "start_time": "2021-11-03T15:36:58.388Z"
   },
   {
    "duration": 8,
    "start_time": "2021-11-03T15:36:58.407Z"
   },
   {
    "duration": 885,
    "start_time": "2021-11-03T15:36:58.418Z"
   },
   {
    "duration": 7,
    "start_time": "2021-11-03T15:36:59.306Z"
   },
   {
    "duration": 19,
    "start_time": "2021-11-03T15:36:59.316Z"
   },
   {
    "duration": 31,
    "start_time": "2021-11-03T15:36:59.339Z"
   },
   {
    "duration": 21,
    "start_time": "2021-11-03T15:36:59.374Z"
   },
   {
    "duration": 15,
    "start_time": "2021-11-03T15:36:59.409Z"
   },
   {
    "duration": 7,
    "start_time": "2021-11-03T15:36:59.427Z"
   },
   {
    "duration": 1037,
    "start_time": "2021-11-03T15:36:59.469Z"
   },
   {
    "duration": 9,
    "start_time": "2021-11-03T15:37:00.509Z"
   },
   {
    "duration": 24,
    "start_time": "2021-11-03T15:37:00.521Z"
   },
   {
    "duration": 40,
    "start_time": "2021-11-03T15:37:00.547Z"
   },
   {
    "duration": 23,
    "start_time": "2021-11-03T15:37:00.591Z"
   },
   {
    "duration": 31,
    "start_time": "2021-11-03T15:37:00.617Z"
   },
   {
    "duration": 31,
    "start_time": "2021-11-03T15:37:00.650Z"
   },
   {
    "duration": 60,
    "start_time": "2021-11-03T15:37:00.684Z"
   },
   {
    "duration": 67,
    "start_time": "2021-11-03T15:37:00.748Z"
   },
   {
    "duration": 58,
    "start_time": "2021-11-03T15:37:00.818Z"
   },
   {
    "duration": 52,
    "start_time": "2021-11-03T15:37:00.879Z"
   },
   {
    "duration": 25,
    "start_time": "2021-11-03T15:37:00.933Z"
   },
   {
    "duration": 60,
    "start_time": "2021-11-03T15:37:00.961Z"
   },
   {
    "duration": 50,
    "start_time": "2021-11-03T15:37:01.024Z"
   },
   {
    "duration": 42,
    "start_time": "2021-11-03T15:38:28.034Z"
   },
   {
    "duration": 65,
    "start_time": "2021-11-03T15:38:34.885Z"
   },
   {
    "duration": 29,
    "start_time": "2021-11-03T15:38:41.095Z"
   },
   {
    "duration": 34,
    "start_time": "2021-11-03T15:38:48.305Z"
   },
   {
    "duration": 37,
    "start_time": "2021-11-03T15:38:54.215Z"
   },
   {
    "duration": 43,
    "start_time": "2021-11-03T15:39:00.354Z"
   },
   {
    "duration": 54,
    "start_time": "2021-11-03T15:39:06.554Z"
   },
   {
    "duration": 10,
    "start_time": "2021-11-03T15:39:12.675Z"
   },
   {
    "duration": 10,
    "start_time": "2021-11-03T15:39:31.714Z"
   },
   {
    "duration": 8,
    "start_time": "2021-11-03T15:39:40.325Z"
   },
   {
    "duration": 9,
    "start_time": "2021-11-03T15:39:51.995Z"
   },
   {
    "duration": 146,
    "start_time": "2021-11-03T15:39:57.875Z"
   },
   {
    "duration": 467,
    "start_time": "2021-11-03T17:04:23.339Z"
   },
   {
    "duration": 1586,
    "start_time": "2021-11-03T17:04:30.345Z"
   },
   {
    "duration": 163,
    "start_time": "2021-11-03T17:04:31.934Z"
   },
   {
    "duration": 22,
    "start_time": "2021-11-03T17:04:32.101Z"
   },
   {
    "duration": 49,
    "start_time": "2021-11-03T17:04:32.125Z"
   },
   {
    "duration": 151,
    "start_time": "2021-11-03T17:04:32.177Z"
   },
   {
    "duration": 30,
    "start_time": "2021-11-03T17:04:32.331Z"
   },
   {
    "duration": 19,
    "start_time": "2021-11-03T17:04:32.364Z"
   },
   {
    "duration": 90,
    "start_time": "2021-11-03T17:04:32.387Z"
   },
   {
    "duration": 14,
    "start_time": "2021-11-03T17:04:32.480Z"
   },
   {
    "duration": 18,
    "start_time": "2021-11-03T17:04:32.497Z"
   },
   {
    "duration": 20,
    "start_time": "2021-11-03T17:04:32.518Z"
   },
   {
    "duration": 25,
    "start_time": "2021-11-03T17:04:32.540Z"
   },
   {
    "duration": 30,
    "start_time": "2021-11-03T17:04:32.567Z"
   },
   {
    "duration": 40,
    "start_time": "2021-11-03T17:04:32.600Z"
   },
   {
    "duration": 14,
    "start_time": "2021-11-03T17:04:32.643Z"
   },
   {
    "duration": 30,
    "start_time": "2021-11-03T17:04:32.661Z"
   },
   {
    "duration": 37,
    "start_time": "2021-11-03T17:04:32.694Z"
   },
   {
    "duration": 35,
    "start_time": "2021-11-03T17:04:32.734Z"
   },
   {
    "duration": 16,
    "start_time": "2021-11-03T17:04:32.774Z"
   },
   {
    "duration": 24,
    "start_time": "2021-11-03T17:04:32.793Z"
   },
   {
    "duration": 15,
    "start_time": "2021-11-03T17:04:32.819Z"
   },
   {
    "duration": 45,
    "start_time": "2021-11-03T17:04:32.836Z"
   },
   {
    "duration": 15,
    "start_time": "2021-11-03T17:04:32.889Z"
   },
   {
    "duration": 6,
    "start_time": "2021-11-03T17:04:32.908Z"
   },
   {
    "duration": 47,
    "start_time": "2021-11-03T17:04:32.917Z"
   },
   {
    "duration": 10,
    "start_time": "2021-11-03T17:04:32.966Z"
   },
   {
    "duration": 14,
    "start_time": "2021-11-03T17:04:32.979Z"
   },
   {
    "duration": 14,
    "start_time": "2021-11-03T17:04:32.996Z"
   },
   {
    "duration": 20,
    "start_time": "2021-11-03T17:04:33.013Z"
   },
   {
    "duration": 16,
    "start_time": "2021-11-03T17:04:33.065Z"
   },
   {
    "duration": 27,
    "start_time": "2021-11-03T17:04:33.084Z"
   },
   {
    "duration": 12,
    "start_time": "2021-11-03T17:04:33.114Z"
   },
   {
    "duration": 44,
    "start_time": "2021-11-03T17:04:33.129Z"
   },
   {
    "duration": 45,
    "start_time": "2021-11-03T17:04:33.175Z"
   },
   {
    "duration": 59,
    "start_time": "2021-11-03T17:04:33.222Z"
   },
   {
    "duration": 110,
    "start_time": "2021-11-03T17:04:33.284Z"
   },
   {
    "duration": 40,
    "start_time": "2021-11-03T17:04:33.397Z"
   },
   {
    "duration": 65,
    "start_time": "2021-11-03T17:04:33.441Z"
   },
   {
    "duration": 66,
    "start_time": "2021-11-03T17:04:33.509Z"
   },
   {
    "duration": 37,
    "start_time": "2021-11-03T17:04:33.579Z"
   },
   {
    "duration": 89,
    "start_time": "2021-11-03T17:04:33.619Z"
   },
   {
    "duration": 84,
    "start_time": "2021-11-03T17:04:33.711Z"
   },
   {
    "duration": 11,
    "start_time": "2021-11-03T17:04:33.798Z"
   },
   {
    "duration": 9,
    "start_time": "2021-11-03T17:04:33.812Z"
   },
   {
    "duration": 50,
    "start_time": "2021-11-03T17:04:33.823Z"
   },
   {
    "duration": 26,
    "start_time": "2021-11-03T17:04:33.876Z"
   },
   {
    "duration": 11,
    "start_time": "2021-11-03T17:04:33.904Z"
   },
   {
    "duration": 145,
    "start_time": "2021-11-03T17:04:33.917Z"
   },
   {
    "duration": 46,
    "start_time": "2021-11-03T17:04:34.065Z"
   },
   {
    "duration": 16,
    "start_time": "2021-11-03T17:04:34.113Z"
   },
   {
    "duration": 2542,
    "start_time": "2021-11-03T17:04:34.159Z"
   },
   {
    "duration": 2600,
    "start_time": "2021-11-03T17:04:36.704Z"
   },
   {
    "duration": 2810,
    "start_time": "2021-11-03T17:04:39.306Z"
   },
   {
    "duration": 49,
    "start_time": "2021-11-03T17:04:42.118Z"
   },
   {
    "duration": 27,
    "start_time": "2021-11-03T17:04:42.172Z"
   },
   {
    "duration": 742,
    "start_time": "2021-11-03T17:04:42.202Z"
   },
   {
    "duration": 15,
    "start_time": "2021-11-03T17:04:42.947Z"
   },
   {
    "duration": 15,
    "start_time": "2021-11-03T17:04:42.965Z"
   },
   {
    "duration": 19,
    "start_time": "2021-11-03T17:04:42.982Z"
   },
   {
    "duration": 13,
    "start_time": "2021-11-03T17:04:43.003Z"
   },
   {
    "duration": 10,
    "start_time": "2021-11-03T17:04:43.019Z"
   },
   {
    "duration": 8,
    "start_time": "2021-11-03T17:04:43.061Z"
   },
   {
    "duration": 758,
    "start_time": "2021-11-03T17:04:43.071Z"
   },
   {
    "duration": 7,
    "start_time": "2021-11-03T17:04:43.832Z"
   },
   {
    "duration": 27,
    "start_time": "2021-11-03T17:04:43.841Z"
   },
   {
    "duration": 17,
    "start_time": "2021-11-03T17:04:43.872Z"
   },
   {
    "duration": 13,
    "start_time": "2021-11-03T17:04:43.892Z"
   },
   {
    "duration": 12,
    "start_time": "2021-11-03T17:04:43.914Z"
   },
   {
    "duration": 7,
    "start_time": "2021-11-03T17:04:43.960Z"
   },
   {
    "duration": 848,
    "start_time": "2021-11-03T17:04:43.970Z"
   },
   {
    "duration": 7,
    "start_time": "2021-11-03T17:04:44.820Z"
   },
   {
    "duration": 37,
    "start_time": "2021-11-03T17:04:44.829Z"
   },
   {
    "duration": 8,
    "start_time": "2021-11-03T17:04:44.869Z"
   },
   {
    "duration": 17,
    "start_time": "2021-11-03T17:04:44.880Z"
   },
   {
    "duration": 10,
    "start_time": "2021-11-03T17:04:44.899Z"
   },
   {
    "duration": 4,
    "start_time": "2021-11-03T17:04:44.912Z"
   },
   {
    "duration": 42,
    "start_time": "2021-11-03T17:04:44.919Z"
   },
   {
    "duration": 20,
    "start_time": "2021-11-03T17:04:44.964Z"
   },
   {
    "duration": 5,
    "start_time": "2021-11-03T17:04:44.987Z"
   },
   {
    "duration": 30,
    "start_time": "2021-11-03T17:04:44.995Z"
   },
   {
    "duration": 39,
    "start_time": "2021-11-03T17:04:45.028Z"
   },
   {
    "duration": 28,
    "start_time": "2021-11-03T17:04:45.070Z"
   },
   {
    "duration": 11,
    "start_time": "2021-11-03T17:04:45.100Z"
   },
   {
    "duration": 104,
    "start_time": "2021-11-03T17:19:11.752Z"
   },
   {
    "duration": 18,
    "start_time": "2021-11-03T17:24:20.998Z"
   },
   {
    "duration": 18,
    "start_time": "2021-11-03T17:28:49.322Z"
   },
   {
    "duration": 395,
    "start_time": "2021-11-05T09:16:29.449Z"
   },
   {
    "duration": 1210,
    "start_time": "2021-11-05T09:16:37.669Z"
   },
   {
    "duration": 119,
    "start_time": "2021-11-05T09:16:38.881Z"
   },
   {
    "duration": 17,
    "start_time": "2021-11-05T09:16:39.003Z"
   },
   {
    "duration": 20,
    "start_time": "2021-11-05T09:16:39.023Z"
   },
   {
    "duration": 95,
    "start_time": "2021-11-05T09:16:39.045Z"
   },
   {
    "duration": 15,
    "start_time": "2021-11-05T09:16:39.142Z"
   },
   {
    "duration": 13,
    "start_time": "2021-11-05T09:16:39.159Z"
   },
   {
    "duration": 74,
    "start_time": "2021-11-05T09:16:39.174Z"
   },
   {
    "duration": 13,
    "start_time": "2021-11-05T09:16:39.251Z"
   },
   {
    "duration": 11,
    "start_time": "2021-11-05T09:16:39.267Z"
   },
   {
    "duration": 41,
    "start_time": "2021-11-05T09:16:39.280Z"
   },
   {
    "duration": 9,
    "start_time": "2021-11-05T09:16:39.324Z"
   },
   {
    "duration": 14,
    "start_time": "2021-11-05T09:16:39.335Z"
   },
   {
    "duration": 41,
    "start_time": "2021-11-05T09:16:39.351Z"
   },
   {
    "duration": 16,
    "start_time": "2021-11-05T09:16:39.393Z"
   },
   {
    "duration": 23,
    "start_time": "2021-11-05T09:16:39.411Z"
   },
   {
    "duration": 22,
    "start_time": "2021-11-05T09:16:39.436Z"
   },
   {
    "duration": 27,
    "start_time": "2021-11-05T09:16:39.460Z"
   },
   {
    "duration": 12,
    "start_time": "2021-11-05T09:16:39.489Z"
   },
   {
    "duration": 19,
    "start_time": "2021-11-05T09:16:39.503Z"
   },
   {
    "duration": 11,
    "start_time": "2021-11-05T09:16:39.524Z"
   },
   {
    "duration": 15,
    "start_time": "2021-11-05T09:16:39.537Z"
   },
   {
    "duration": 10,
    "start_time": "2021-11-05T09:16:39.554Z"
   },
   {
    "duration": 7,
    "start_time": "2021-11-05T09:16:39.566Z"
   },
   {
    "duration": 35,
    "start_time": "2021-11-05T09:16:39.575Z"
   },
   {
    "duration": 11,
    "start_time": "2021-11-05T09:16:39.612Z"
   },
   {
    "duration": 11,
    "start_time": "2021-11-05T09:16:39.629Z"
   },
   {
    "duration": 10,
    "start_time": "2021-11-05T09:16:39.643Z"
   },
   {
    "duration": 17,
    "start_time": "2021-11-05T09:16:39.655Z"
   },
   {
    "duration": 39,
    "start_time": "2021-11-05T09:16:39.674Z"
   },
   {
    "duration": 13,
    "start_time": "2021-11-05T09:16:39.716Z"
   },
   {
    "duration": 32,
    "start_time": "2021-11-05T09:16:39.731Z"
   },
   {
    "duration": 41,
    "start_time": "2021-11-05T09:16:39.766Z"
   },
   {
    "duration": 52,
    "start_time": "2021-11-05T09:16:39.810Z"
   },
   {
    "duration": 20,
    "start_time": "2021-11-05T09:16:39.864Z"
   },
   {
    "duration": 22,
    "start_time": "2021-11-05T09:16:39.907Z"
   },
   {
    "duration": 23,
    "start_time": "2021-11-05T09:16:39.930Z"
   },
   {
    "duration": 16,
    "start_time": "2021-11-05T09:16:39.955Z"
   },
   {
    "duration": 55,
    "start_time": "2021-11-05T09:16:39.973Z"
   },
   {
    "duration": 36,
    "start_time": "2021-11-05T09:16:40.030Z"
   },
   {
    "duration": 6,
    "start_time": "2021-11-05T09:16:40.067Z"
   },
   {
    "duration": 33,
    "start_time": "2021-11-05T09:16:40.075Z"
   },
   {
    "duration": 10,
    "start_time": "2021-11-05T09:16:40.110Z"
   },
   {
    "duration": 16,
    "start_time": "2021-11-05T09:16:40.122Z"
   },
   {
    "duration": 17,
    "start_time": "2021-11-05T09:16:40.140Z"
   },
   {
    "duration": 96,
    "start_time": "2021-11-05T09:16:40.159Z"
   },
   {
    "duration": 13,
    "start_time": "2021-11-05T09:16:40.256Z"
   },
   {
    "duration": 43,
    "start_time": "2021-11-05T09:16:40.270Z"
   },
   {
    "duration": 11,
    "start_time": "2021-11-05T09:16:40.315Z"
   },
   {
    "duration": 1869,
    "start_time": "2021-11-05T09:16:40.327Z"
   },
   {
    "duration": 1879,
    "start_time": "2021-11-05T09:16:42.198Z"
   },
   {
    "duration": 1812,
    "start_time": "2021-11-05T09:16:44.079Z"
   },
   {
    "duration": 28,
    "start_time": "2021-11-05T09:16:45.893Z"
   },
   {
    "duration": 17,
    "start_time": "2021-11-05T09:16:45.923Z"
   },
   {
    "duration": 480,
    "start_time": "2021-11-05T09:16:45.942Z"
   },
   {
    "duration": 5,
    "start_time": "2021-11-05T09:16:46.424Z"
   },
   {
    "duration": 7,
    "start_time": "2021-11-05T09:16:46.431Z"
   },
   {
    "duration": 5,
    "start_time": "2021-11-05T09:16:46.439Z"
   },
   {
    "duration": 13,
    "start_time": "2021-11-05T09:16:46.445Z"
   },
   {
    "duration": 9,
    "start_time": "2021-11-05T09:16:46.460Z"
   },
   {
    "duration": 11,
    "start_time": "2021-11-05T09:16:46.470Z"
   },
   {
    "duration": 491,
    "start_time": "2021-11-05T09:16:46.507Z"
   },
   {
    "duration": 9,
    "start_time": "2021-11-05T09:16:47.000Z"
   },
   {
    "duration": 21,
    "start_time": "2021-11-05T09:16:47.011Z"
   },
   {
    "duration": 8,
    "start_time": "2021-11-05T09:16:47.034Z"
   },
   {
    "duration": 24,
    "start_time": "2021-11-05T09:16:47.044Z"
   },
   {
    "duration": 14,
    "start_time": "2021-11-05T09:16:47.070Z"
   },
   {
    "duration": 20,
    "start_time": "2021-11-05T09:16:47.086Z"
   },
   {
    "duration": 675,
    "start_time": "2021-11-05T09:16:47.108Z"
   },
   {
    "duration": 5,
    "start_time": "2021-11-05T09:16:47.785Z"
   },
   {
    "duration": 18,
    "start_time": "2021-11-05T09:16:47.793Z"
   },
   {
    "duration": 9,
    "start_time": "2021-11-05T09:16:47.813Z"
   },
   {
    "duration": 21,
    "start_time": "2021-11-05T09:16:47.824Z"
   },
   {
    "duration": 17,
    "start_time": "2021-11-05T09:16:47.846Z"
   },
   {
    "duration": 11,
    "start_time": "2021-11-05T09:16:47.864Z"
   },
   {
    "duration": 7,
    "start_time": "2021-11-05T09:16:47.877Z"
   },
   {
    "duration": 16,
    "start_time": "2021-11-05T09:16:47.885Z"
   },
   {
    "duration": 13,
    "start_time": "2021-11-05T09:16:47.903Z"
   },
   {
    "duration": 24,
    "start_time": "2021-11-05T09:16:47.918Z"
   },
   {
    "duration": 17,
    "start_time": "2021-11-05T09:16:47.943Z"
   },
   {
    "duration": 18,
    "start_time": "2021-11-05T09:16:47.966Z"
   },
   {
    "duration": 7,
    "start_time": "2021-11-05T09:16:47.986Z"
   },
   {
    "duration": 125,
    "start_time": "2021-11-05T09:17:49.499Z"
   },
   {
    "duration": 24,
    "start_time": "2021-11-05T09:19:36.990Z"
   },
   {
    "duration": 12,
    "start_time": "2021-11-05T09:20:17.723Z"
   },
   {
    "duration": 12,
    "start_time": "2021-11-05T09:21:17.253Z"
   },
   {
    "duration": 49,
    "start_time": "2021-11-05T09:21:55.433Z"
   },
   {
    "duration": 18,
    "start_time": "2021-11-05T09:22:03.653Z"
   },
   {
    "duration": 21,
    "start_time": "2021-11-05T09:22:09.813Z"
   },
   {
    "duration": 21,
    "start_time": "2021-11-05T09:22:18.460Z"
   },
   {
    "duration": 13,
    "start_time": "2021-11-05T09:22:24.008Z"
   },
   {
    "duration": 25,
    "start_time": "2021-11-05T09:22:31.273Z"
   },
   {
    "duration": 32,
    "start_time": "2021-11-05T09:22:40.092Z"
   },
   {
    "duration": 5,
    "start_time": "2021-11-05T09:23:32.121Z"
   },
   {
    "duration": 453,
    "start_time": "2021-11-05T09:23:43.072Z"
   },
   {
    "duration": 6,
    "start_time": "2021-11-05T09:24:03.573Z"
   },
   {
    "duration": 7,
    "start_time": "2021-11-05T09:25:36.718Z"
   },
   {
    "duration": 14,
    "start_time": "2021-11-05T09:26:13.510Z"
   },
   {
    "duration": 19,
    "start_time": "2021-11-05T09:26:21.310Z"
   },
   {
    "duration": 9949,
    "start_time": "2021-11-05T09:36:57.289Z"
   },
   {
    "duration": 14,
    "start_time": "2021-11-05T09:38:42.991Z"
   },
   {
    "duration": 12,
    "start_time": "2021-11-05T09:38:59.949Z"
   },
   {
    "duration": 6,
    "start_time": "2021-11-05T09:39:13.369Z"
   },
   {
    "duration": 84,
    "start_time": "2021-11-05T09:39:16.539Z"
   },
   {
    "duration": 3,
    "start_time": "2021-11-05T09:39:23.389Z"
   },
   {
    "duration": 122,
    "start_time": "2021-11-05T09:39:23.393Z"
   },
   {
    "duration": 16,
    "start_time": "2021-11-05T09:39:23.518Z"
   },
   {
    "duration": 22,
    "start_time": "2021-11-05T09:39:23.536Z"
   },
   {
    "duration": 112,
    "start_time": "2021-11-05T09:39:23.560Z"
   },
   {
    "duration": 33,
    "start_time": "2021-11-05T09:39:23.674Z"
   },
   {
    "duration": 13,
    "start_time": "2021-11-05T09:39:23.710Z"
   },
   {
    "duration": 62,
    "start_time": "2021-11-05T09:39:23.725Z"
   },
   {
    "duration": 21,
    "start_time": "2021-11-05T09:39:23.791Z"
   },
   {
    "duration": 11,
    "start_time": "2021-11-05T09:39:23.815Z"
   },
   {
    "duration": 17,
    "start_time": "2021-11-05T09:39:23.829Z"
   },
   {
    "duration": 17,
    "start_time": "2021-11-05T09:39:23.848Z"
   },
   {
    "duration": 23,
    "start_time": "2021-11-05T09:39:23.867Z"
   },
   {
    "duration": 48,
    "start_time": "2021-11-05T09:39:23.892Z"
   },
   {
    "duration": 13,
    "start_time": "2021-11-05T09:39:23.942Z"
   },
   {
    "duration": 19,
    "start_time": "2021-11-05T09:39:23.957Z"
   },
   {
    "duration": 14,
    "start_time": "2021-11-05T09:39:23.978Z"
   },
   {
    "duration": 50,
    "start_time": "2021-11-05T09:39:23.994Z"
   },
   {
    "duration": 14,
    "start_time": "2021-11-05T09:39:24.046Z"
   },
   {
    "duration": 19,
    "start_time": "2021-11-05T09:39:24.062Z"
   },
   {
    "duration": 14,
    "start_time": "2021-11-05T09:39:24.083Z"
   },
   {
    "duration": 22,
    "start_time": "2021-11-05T09:39:24.099Z"
   },
   {
    "duration": 17,
    "start_time": "2021-11-05T09:39:24.123Z"
   },
   {
    "duration": 6,
    "start_time": "2021-11-05T09:39:24.143Z"
   },
   {
    "duration": 28,
    "start_time": "2021-11-05T09:39:24.151Z"
   },
   {
    "duration": 16,
    "start_time": "2021-11-05T09:39:24.180Z"
   },
   {
    "duration": 21,
    "start_time": "2021-11-05T09:39:24.202Z"
   },
   {
    "duration": 8,
    "start_time": "2021-11-05T09:39:24.226Z"
   },
   {
    "duration": 18,
    "start_time": "2021-11-05T09:39:24.236Z"
   },
   {
    "duration": 12,
    "start_time": "2021-11-05T09:39:24.256Z"
   },
   {
    "duration": 26,
    "start_time": "2021-11-05T09:39:24.270Z"
   },
   {
    "duration": 38,
    "start_time": "2021-11-05T09:39:24.298Z"
   },
   {
    "duration": 11,
    "start_time": "2021-11-05T09:39:24.338Z"
   },
   {
    "duration": 70,
    "start_time": "2021-11-05T09:39:24.351Z"
   },
   {
    "duration": 15,
    "start_time": "2021-11-05T09:39:24.423Z"
   },
   {
    "duration": 29,
    "start_time": "2021-11-05T09:39:24.440Z"
   },
   {
    "duration": 37,
    "start_time": "2021-11-05T09:39:24.471Z"
   },
   {
    "duration": 11,
    "start_time": "2021-11-05T09:39:24.509Z"
   },
   {
    "duration": 38,
    "start_time": "2021-11-05T09:39:24.521Z"
   },
   {
    "duration": 45,
    "start_time": "2021-11-05T09:39:24.561Z"
   },
   {
    "duration": 6,
    "start_time": "2021-11-05T09:39:24.609Z"
   },
   {
    "duration": 16,
    "start_time": "2021-11-05T09:39:24.617Z"
   },
   {
    "duration": 16,
    "start_time": "2021-11-05T09:39:24.635Z"
   },
   {
    "duration": 22,
    "start_time": "2021-11-05T09:39:24.652Z"
   },
   {
    "duration": 13,
    "start_time": "2021-11-05T09:39:24.675Z"
   },
   {
    "duration": 107,
    "start_time": "2021-11-05T09:39:24.690Z"
   },
   {
    "duration": 12,
    "start_time": "2021-11-05T09:39:24.799Z"
   },
   {
    "duration": 51,
    "start_time": "2021-11-05T09:39:24.813Z"
   },
   {
    "duration": 11,
    "start_time": "2021-11-05T09:39:24.866Z"
   },
   {
    "duration": 1709,
    "start_time": "2021-11-05T09:39:24.878Z"
   },
   {
    "duration": 1762,
    "start_time": "2021-11-05T09:39:26.589Z"
   },
   {
    "duration": 1632,
    "start_time": "2021-11-05T09:39:28.353Z"
   },
   {
    "duration": 25,
    "start_time": "2021-11-05T09:39:29.987Z"
   },
   {
    "duration": 15,
    "start_time": "2021-11-05T09:39:30.015Z"
   },
   {
    "duration": 490,
    "start_time": "2021-11-05T09:39:30.032Z"
   },
   {
    "duration": 6,
    "start_time": "2021-11-05T09:39:30.525Z"
   },
   {
    "duration": 30,
    "start_time": "2021-11-05T09:39:30.532Z"
   },
   {
    "duration": 18,
    "start_time": "2021-11-05T09:39:30.564Z"
   },
   {
    "duration": 31,
    "start_time": "2021-11-05T09:39:30.584Z"
   },
   {
    "duration": 22,
    "start_time": "2021-11-05T09:39:30.617Z"
   },
   {
    "duration": 30,
    "start_time": "2021-11-05T09:39:30.641Z"
   },
   {
    "duration": 484,
    "start_time": "2021-11-05T09:39:30.672Z"
   },
   {
    "duration": 5,
    "start_time": "2021-11-05T09:39:31.158Z"
   },
   {
    "duration": 41,
    "start_time": "2021-11-05T09:39:31.165Z"
   },
   {
    "duration": 33,
    "start_time": "2021-11-05T09:39:31.207Z"
   },
   {
    "duration": 32,
    "start_time": "2021-11-05T09:39:31.242Z"
   },
   {
    "duration": 30,
    "start_time": "2021-11-05T09:39:31.276Z"
   },
   {
    "duration": 24,
    "start_time": "2021-11-05T09:39:31.308Z"
   },
   {
    "duration": 496,
    "start_time": "2021-11-05T09:39:31.334Z"
   },
   {
    "duration": 5,
    "start_time": "2021-11-05T09:39:31.832Z"
   },
   {
    "duration": 21,
    "start_time": "2021-11-05T09:39:31.839Z"
   },
   {
    "duration": 6,
    "start_time": "2021-11-05T09:39:31.862Z"
   },
   {
    "duration": 27,
    "start_time": "2021-11-05T09:39:31.870Z"
   },
   {
    "duration": 12,
    "start_time": "2021-11-05T09:39:31.899Z"
   },
   {
    "duration": 20,
    "start_time": "2021-11-05T09:39:31.913Z"
   },
   {
    "duration": 24,
    "start_time": "2021-11-05T09:39:31.934Z"
   },
   {
    "duration": 108,
    "start_time": "2021-11-05T09:39:31.960Z"
   },
   {
    "duration": 19,
    "start_time": "2021-11-05T09:39:32.069Z"
   },
   {
    "duration": 39,
    "start_time": "2021-11-05T09:39:32.090Z"
   },
   {
    "duration": 29,
    "start_time": "2021-11-05T09:39:32.131Z"
   },
   {
    "duration": 34,
    "start_time": "2021-11-05T09:39:32.165Z"
   },
   {
    "duration": 20,
    "start_time": "2021-11-05T09:39:32.201Z"
   },
   {
    "duration": 2,
    "start_time": "2021-11-05T09:41:25.991Z"
   },
   {
    "duration": 5,
    "start_time": "2021-11-05T09:41:39.050Z"
   },
   {
    "duration": 205,
    "start_time": "2021-11-05T09:44:07.740Z"
   },
   {
    "duration": 200,
    "start_time": "2021-11-05T09:44:31.320Z"
   },
   {
    "duration": 213,
    "start_time": "2021-11-05T09:49:21.288Z"
   },
   {
    "duration": 6,
    "start_time": "2021-11-05T09:49:40.329Z"
   },
   {
    "duration": 8,
    "start_time": "2021-11-05T09:56:01.660Z"
   },
   {
    "duration": 118,
    "start_time": "2021-11-05T09:57:09.169Z"
   },
   {
    "duration": 3,
    "start_time": "2021-11-05T09:57:34.150Z"
   },
   {
    "duration": 113,
    "start_time": "2021-11-05T09:57:34.155Z"
   },
   {
    "duration": 16,
    "start_time": "2021-11-05T09:57:34.270Z"
   },
   {
    "duration": 32,
    "start_time": "2021-11-05T09:57:34.288Z"
   },
   {
    "duration": 111,
    "start_time": "2021-11-05T09:57:34.321Z"
   },
   {
    "duration": 16,
    "start_time": "2021-11-05T09:57:34.434Z"
   },
   {
    "duration": 14,
    "start_time": "2021-11-05T09:57:34.452Z"
   },
   {
    "duration": 69,
    "start_time": "2021-11-05T09:57:34.468Z"
   },
   {
    "duration": 13,
    "start_time": "2021-11-05T09:57:34.541Z"
   },
   {
    "duration": 18,
    "start_time": "2021-11-05T09:57:34.557Z"
   },
   {
    "duration": 16,
    "start_time": "2021-11-05T09:57:34.577Z"
   },
   {
    "duration": 7,
    "start_time": "2021-11-05T09:57:34.606Z"
   },
   {
    "duration": 25,
    "start_time": "2021-11-05T09:57:34.615Z"
   },
   {
    "duration": 59,
    "start_time": "2021-11-05T09:57:34.642Z"
   },
   {
    "duration": 28,
    "start_time": "2021-11-05T09:57:34.703Z"
   },
   {
    "duration": 35,
    "start_time": "2021-11-05T09:57:34.733Z"
   },
   {
    "duration": 20,
    "start_time": "2021-11-05T09:57:34.769Z"
   },
   {
    "duration": 52,
    "start_time": "2021-11-05T09:57:34.790Z"
   },
   {
    "duration": 13,
    "start_time": "2021-11-05T09:57:34.844Z"
   },
   {
    "duration": 24,
    "start_time": "2021-11-05T09:57:34.859Z"
   },
   {
    "duration": 24,
    "start_time": "2021-11-05T09:57:34.884Z"
   },
   {
    "duration": 15,
    "start_time": "2021-11-05T09:57:34.910Z"
   },
   {
    "duration": 25,
    "start_time": "2021-11-05T09:57:34.927Z"
   },
   {
    "duration": 6,
    "start_time": "2021-11-05T09:57:34.954Z"
   },
   {
    "duration": 21,
    "start_time": "2021-11-05T09:57:34.961Z"
   },
   {
    "duration": 21,
    "start_time": "2021-11-05T09:57:34.983Z"
   },
   {
    "duration": 20,
    "start_time": "2021-11-05T09:57:35.010Z"
   },
   {
    "duration": 24,
    "start_time": "2021-11-05T09:57:35.034Z"
   },
   {
    "duration": 56,
    "start_time": "2021-11-05T09:57:35.060Z"
   },
   {
    "duration": 24,
    "start_time": "2021-11-05T09:57:35.118Z"
   },
   {
    "duration": 25,
    "start_time": "2021-11-05T09:57:35.143Z"
   },
   {
    "duration": 26,
    "start_time": "2021-11-05T09:57:35.170Z"
   },
   {
    "duration": 23,
    "start_time": "2021-11-05T09:57:35.198Z"
   },
   {
    "duration": 47,
    "start_time": "2021-11-05T09:57:35.223Z"
   },
   {
    "duration": 15,
    "start_time": "2021-11-05T09:57:35.272Z"
   },
   {
    "duration": 31,
    "start_time": "2021-11-05T09:57:35.288Z"
   },
   {
    "duration": 19,
    "start_time": "2021-11-05T09:57:35.321Z"
   },
   {
    "duration": 26,
    "start_time": "2021-11-05T09:57:35.341Z"
   },
   {
    "duration": 39,
    "start_time": "2021-11-05T09:57:35.369Z"
   },
   {
    "duration": 32,
    "start_time": "2021-11-05T09:57:35.410Z"
   },
   {
    "duration": 5,
    "start_time": "2021-11-05T09:57:35.444Z"
   },
   {
    "duration": 26,
    "start_time": "2021-11-05T09:57:35.450Z"
   },
   {
    "duration": 34,
    "start_time": "2021-11-05T09:57:35.477Z"
   },
   {
    "duration": 32,
    "start_time": "2021-11-05T09:57:35.514Z"
   },
   {
    "duration": 55,
    "start_time": "2021-11-05T09:57:35.548Z"
   },
   {
    "duration": 144,
    "start_time": "2021-11-05T09:57:35.605Z"
   },
   {
    "duration": 12,
    "start_time": "2021-11-05T09:57:35.750Z"
   },
   {
    "duration": 40,
    "start_time": "2021-11-05T09:57:35.764Z"
   },
   {
    "duration": 11,
    "start_time": "2021-11-05T09:57:35.806Z"
   },
   {
    "duration": 1784,
    "start_time": "2021-11-05T09:57:35.819Z"
   },
   {
    "duration": 1751,
    "start_time": "2021-11-05T09:57:37.605Z"
   },
   {
    "duration": 1646,
    "start_time": "2021-11-05T09:57:39.358Z"
   },
   {
    "duration": 15,
    "start_time": "2021-11-05T09:57:41.006Z"
   },
   {
    "duration": 14,
    "start_time": "2021-11-05T09:57:41.023Z"
   },
   {
    "duration": 491,
    "start_time": "2021-11-05T09:57:41.039Z"
   },
   {
    "duration": 5,
    "start_time": "2021-11-05T09:57:41.532Z"
   },
   {
    "duration": 25,
    "start_time": "2021-11-05T09:57:41.539Z"
   },
   {
    "duration": 8,
    "start_time": "2021-11-05T09:57:41.566Z"
   },
   {
    "duration": 26,
    "start_time": "2021-11-05T09:57:41.576Z"
   },
   {
    "duration": 16,
    "start_time": "2021-11-05T09:57:41.604Z"
   },
   {
    "duration": 5,
    "start_time": "2021-11-05T09:57:41.622Z"
   },
   {
    "duration": 465,
    "start_time": "2021-11-05T09:57:41.629Z"
   },
   {
    "duration": 5,
    "start_time": "2021-11-05T09:57:42.095Z"
   },
   {
    "duration": 5,
    "start_time": "2021-11-05T09:57:42.107Z"
   },
   {
    "duration": 11,
    "start_time": "2021-11-05T09:57:42.113Z"
   },
   {
    "duration": 21,
    "start_time": "2021-11-05T09:57:42.125Z"
   },
   {
    "duration": 8,
    "start_time": "2021-11-05T09:57:42.148Z"
   },
   {
    "duration": 8,
    "start_time": "2021-11-05T09:57:42.158Z"
   },
   {
    "duration": 493,
    "start_time": "2021-11-05T09:57:42.168Z"
   },
   {
    "duration": 5,
    "start_time": "2021-11-05T09:57:42.663Z"
   },
   {
    "duration": 6,
    "start_time": "2021-11-05T09:57:42.670Z"
   },
   {
    "duration": 4,
    "start_time": "2021-11-05T09:57:42.678Z"
   },
   {
    "duration": 29,
    "start_time": "2021-11-05T09:57:42.684Z"
   },
   {
    "duration": 9,
    "start_time": "2021-11-05T09:57:42.715Z"
   },
   {
    "duration": 4,
    "start_time": "2021-11-05T09:57:42.726Z"
   },
   {
    "duration": 8,
    "start_time": "2021-11-05T09:57:42.731Z"
   },
   {
    "duration": 10,
    "start_time": "2021-11-05T09:57:42.741Z"
   },
   {
    "duration": 4,
    "start_time": "2021-11-05T09:57:42.753Z"
   },
   {
    "duration": 51,
    "start_time": "2021-11-05T09:57:42.759Z"
   },
   {
    "duration": 6,
    "start_time": "2021-11-05T09:57:42.812Z"
   },
   {
    "duration": 10,
    "start_time": "2021-11-05T09:57:42.824Z"
   },
   {
    "duration": 5,
    "start_time": "2021-11-05T09:57:42.836Z"
   },
   {
    "duration": 1187,
    "start_time": "2021-11-05T19:42:04.910Z"
   },
   {
    "duration": 112,
    "start_time": "2021-11-05T19:42:06.099Z"
   },
   {
    "duration": 16,
    "start_time": "2021-11-05T19:42:06.213Z"
   },
   {
    "duration": 23,
    "start_time": "2021-11-05T19:42:06.231Z"
   },
   {
    "duration": 86,
    "start_time": "2021-11-05T19:42:06.256Z"
   },
   {
    "duration": 12,
    "start_time": "2021-11-05T19:42:06.344Z"
   },
   {
    "duration": 11,
    "start_time": "2021-11-05T19:42:06.358Z"
   },
   {
    "duration": 57,
    "start_time": "2021-11-05T19:42:06.371Z"
   },
   {
    "duration": 18,
    "start_time": "2021-11-05T19:42:06.430Z"
   },
   {
    "duration": 9,
    "start_time": "2021-11-05T19:42:06.450Z"
   },
   {
    "duration": 18,
    "start_time": "2021-11-05T19:42:06.460Z"
   },
   {
    "duration": 11,
    "start_time": "2021-11-05T19:42:06.479Z"
   },
   {
    "duration": 10,
    "start_time": "2021-11-05T19:42:06.492Z"
   },
   {
    "duration": 27,
    "start_time": "2021-11-05T19:42:06.504Z"
   },
   {
    "duration": 8,
    "start_time": "2021-11-05T19:42:06.533Z"
   },
   {
    "duration": 13,
    "start_time": "2021-11-05T19:42:06.542Z"
   },
   {
    "duration": 8,
    "start_time": "2021-11-05T19:42:06.557Z"
   },
   {
    "duration": 24,
    "start_time": "2021-11-05T19:42:06.567Z"
   },
   {
    "duration": 13,
    "start_time": "2021-11-05T19:42:06.593Z"
   },
   {
    "duration": 50,
    "start_time": "2021-11-05T19:42:06.608Z"
   },
   {
    "duration": 11,
    "start_time": "2021-11-05T19:42:06.660Z"
   },
   {
    "duration": 28,
    "start_time": "2021-11-05T19:42:06.672Z"
   },
   {
    "duration": 11,
    "start_time": "2021-11-05T19:42:06.705Z"
   },
   {
    "duration": 29,
    "start_time": "2021-11-05T19:42:06.719Z"
   },
   {
    "duration": 28,
    "start_time": "2021-11-05T19:42:06.749Z"
   },
   {
    "duration": 12,
    "start_time": "2021-11-05T19:42:06.779Z"
   },
   {
    "duration": 33,
    "start_time": "2021-11-05T19:42:06.792Z"
   },
   {
    "duration": 16,
    "start_time": "2021-11-05T19:42:06.826Z"
   },
   {
    "duration": 27,
    "start_time": "2021-11-05T19:42:06.843Z"
   },
   {
    "duration": 22,
    "start_time": "2021-11-05T19:42:06.872Z"
   },
   {
    "duration": 38,
    "start_time": "2021-11-05T19:42:06.896Z"
   },
   {
    "duration": 41,
    "start_time": "2021-11-05T19:42:06.936Z"
   },
   {
    "duration": 15,
    "start_time": "2021-11-05T19:42:06.979Z"
   },
   {
    "duration": 49,
    "start_time": "2021-11-05T19:42:06.996Z"
   },
   {
    "duration": 15,
    "start_time": "2021-11-05T19:42:07.047Z"
   },
   {
    "duration": 19,
    "start_time": "2021-11-05T19:42:07.064Z"
   },
   {
    "duration": 22,
    "start_time": "2021-11-05T19:42:07.084Z"
   },
   {
    "duration": 38,
    "start_time": "2021-11-05T19:42:07.107Z"
   },
   {
    "duration": 26,
    "start_time": "2021-11-05T19:42:07.147Z"
   },
   {
    "duration": 30,
    "start_time": "2021-11-05T19:42:07.175Z"
   },
   {
    "duration": 5,
    "start_time": "2021-11-05T19:42:07.206Z"
   },
   {
    "duration": 33,
    "start_time": "2021-11-05T19:42:07.213Z"
   },
   {
    "duration": 8,
    "start_time": "2021-11-05T19:42:07.247Z"
   },
   {
    "duration": 12,
    "start_time": "2021-11-05T19:42:07.256Z"
   },
   {
    "duration": 9,
    "start_time": "2021-11-05T19:42:07.270Z"
   },
   {
    "duration": 92,
    "start_time": "2021-11-05T19:42:07.280Z"
   },
   {
    "duration": 12,
    "start_time": "2021-11-05T19:42:07.374Z"
   },
   {
    "duration": 28,
    "start_time": "2021-11-05T19:42:07.388Z"
   },
   {
    "duration": 33,
    "start_time": "2021-11-05T19:42:07.417Z"
   },
   {
    "duration": 1701,
    "start_time": "2021-11-05T19:42:07.452Z"
   },
   {
    "duration": 1590,
    "start_time": "2021-11-05T19:42:09.154Z"
   },
   {
    "duration": 1563,
    "start_time": "2021-11-05T19:42:10.745Z"
   },
   {
    "duration": 14,
    "start_time": "2021-11-05T19:42:12.310Z"
   },
   {
    "duration": 29,
    "start_time": "2021-11-05T19:42:12.325Z"
   },
   {
    "duration": 439,
    "start_time": "2021-11-05T19:42:12.355Z"
   },
   {
    "duration": 5,
    "start_time": "2021-11-05T19:42:12.796Z"
   },
   {
    "duration": 8,
    "start_time": "2021-11-05T19:42:12.802Z"
   },
   {
    "duration": 20,
    "start_time": "2021-11-05T19:42:12.812Z"
   },
   {
    "duration": 17,
    "start_time": "2021-11-05T19:42:12.834Z"
   },
   {
    "duration": 9,
    "start_time": "2021-11-05T19:42:12.853Z"
   },
   {
    "duration": 3,
    "start_time": "2021-11-05T19:42:12.863Z"
   },
   {
    "duration": 449,
    "start_time": "2021-11-05T19:42:12.868Z"
   },
   {
    "duration": 5,
    "start_time": "2021-11-05T19:42:13.318Z"
   },
   {
    "duration": 20,
    "start_time": "2021-11-05T19:42:13.324Z"
   },
   {
    "duration": 3,
    "start_time": "2021-11-05T19:42:13.346Z"
   },
   {
    "duration": 15,
    "start_time": "2021-11-05T19:42:13.351Z"
   },
   {
    "duration": 8,
    "start_time": "2021-11-05T19:42:13.368Z"
   },
   {
    "duration": 3,
    "start_time": "2021-11-05T19:42:13.382Z"
   },
   {
    "duration": 552,
    "start_time": "2021-11-05T19:42:13.388Z"
   },
   {
    "duration": 5,
    "start_time": "2021-11-05T19:42:13.944Z"
   },
   {
    "duration": 11,
    "start_time": "2021-11-05T19:42:13.951Z"
   },
   {
    "duration": 9,
    "start_time": "2021-11-05T19:42:13.964Z"
   },
   {
    "duration": 9,
    "start_time": "2021-11-05T19:42:13.975Z"
   },
   {
    "duration": 9,
    "start_time": "2021-11-05T19:42:13.985Z"
   },
   {
    "duration": 3,
    "start_time": "2021-11-05T19:42:13.996Z"
   },
   {
    "duration": 47,
    "start_time": "2021-11-05T19:42:14.001Z"
   },
   {
    "duration": 9,
    "start_time": "2021-11-05T19:42:14.050Z"
   },
   {
    "duration": 5,
    "start_time": "2021-11-05T19:42:14.061Z"
   },
   {
    "duration": 18,
    "start_time": "2021-11-05T19:42:14.068Z"
   },
   {
    "duration": 7,
    "start_time": "2021-11-05T19:42:14.088Z"
   },
   {
    "duration": 48,
    "start_time": "2021-11-05T19:42:14.097Z"
   },
   {
    "duration": 5,
    "start_time": "2021-11-05T19:42:14.147Z"
   }
  ],
  "kernelspec": {
   "display_name": "Python 3 (ipykernel)",
   "language": "python",
   "name": "python3"
  },
  "language_info": {
   "codemirror_mode": {
    "name": "ipython",
    "version": 3
   },
   "file_extension": ".py",
   "mimetype": "text/x-python",
   "name": "python",
   "nbconvert_exporter": "python",
   "pygments_lexer": "ipython3",
   "version": "3.9.7"
  },
  "toc": {
   "base_numbering": 1,
   "nav_menu": {},
   "number_sections": true,
   "sideBar": true,
   "skip_h1_title": true,
   "title_cell": "Table of Contents",
   "title_sidebar": "Contents",
   "toc_cell": false,
   "toc_position": {},
   "toc_section_display": true,
   "toc_window_display": false
  }
 },
 "nbformat": 4,
 "nbformat_minor": 2
}
